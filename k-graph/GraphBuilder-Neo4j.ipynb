{
 "cells": [
  {
   "cell_type": "markdown",
   "metadata": {},
   "source": [
    "## Build Oxidative Stress - CVD Knowledgegraph"
   ]
  },
  {
   "cell_type": "code",
   "execution_count": 5,
   "metadata": {},
   "outputs": [],
   "source": [
    "import json \n",
    "import pandas as pd"
   ]
  },
  {
   "cell_type": "markdown",
   "metadata": {},
   "source": [
    "**How many nodes are there?**\n",
    "\n",
    "1. Ion Channel Protein nodes:\n",
    "2. MeSH terms CVD tree nodes:\n",
    "3. PMID nodes:\n",
    "4. Oxidative stress chemical tree nodes\n",
    "\n",
    "----------------\n",
    "\n",
    "**How many types of edges are there?**\n",
    "\n",
    "1. Protein to PMID edge:\n",
    "2. MeSH to PMID edge\n",
    "3. Protein to Pathways\n",
    "4. Oxidative-stress chemical to PMID \n",
    "\n",
    "    \n",
    "\n"
   ]
  },
  {
   "cell_type": "code",
   "execution_count": 6,
   "metadata": {},
   "outputs": [],
   "source": [
    "import pandas as pd\n",
    "import json\n",
    "from neo4j import GraphDatabase"
   ]
  },
  {
   "cell_type": "code",
   "execution_count": 3,
   "metadata": {},
   "outputs": [
    {
     "data": {
      "text/plain": [
       "'UNCOMMENT AND RUN THIS CELL ONLY ONCE'"
      ]
     },
     "execution_count": 3,
     "metadata": {},
     "output_type": "execute_result"
    }
   ],
   "source": [
    "query = \"CREATE CONSTRAINT ON (p:Protein) ASSERT p.id  IS UNIQUE; \\\n",
    "        CREATE CONSTRAINT ON (pw:Pathway) ASSERT pw.id  IS UNIQUE; \\\n",
    "        CREATE CONSTRAINT ON (d:Document) ASSERT d.id  IS UNIQUE;\\\n",
    "        CREATE CONSTRAINT ON (m:MeSH) ASSERT m.id  IS UNIQUE;\\\n",
    "        CREATE CONSTRAINT ON (dg:Drug) ASSERT dg.id  IS UNIQUE;\\\n",
    "        CREATE CONSTRAINT ON (c:Compound) ASSERT c.id  IS UNIQUE\"\n",
    "\n",
    "'''UNCOMMENT AND RUN THIS CELL ONLY ONCE'''\n",
    "\n",
    "#with driver.session() as session:\n",
    "#    info = session.run(query)"
   ]
  },
  {
   "cell_type": "code",
   "execution_count": 4,
   "metadata": {},
   "outputs": [],
   "source": [
    "driver = GraphDatabase.driver(uri = \"bolt://52.40.20.135:7687\",\\\n",
    "                              auth = (\"neo4j\",\"Aim1008\"))"
   ]
  },
  {
   "cell_type": "markdown",
   "metadata": {},
   "source": [
    "### Neo4j Implemetation"
   ]
  },
  {
   "cell_type": "markdown",
   "metadata": {},
   "source": [
    "#### N1. Protein Nodes"
   ]
  },
  {
   "cell_type": "code",
   "execution_count": 18,
   "metadata": {},
   "outputs": [
    {
     "data": {
      "text/html": [
       "<div>\n",
       "<style scoped>\n",
       "    .dataframe tbody tr th:only-of-type {\n",
       "        vertical-align: middle;\n",
       "    }\n",
       "\n",
       "    .dataframe tbody tr th {\n",
       "        vertical-align: top;\n",
       "    }\n",
       "\n",
       "    .dataframe thead th {\n",
       "        text-align: right;\n",
       "    }\n",
       "</style>\n",
       "<table border=\"1\" class=\"dataframe\">\n",
       "  <thead>\n",
       "    <tr style=\"text-align: right;\">\n",
       "      <th></th>\n",
       "      <th>ID</th>\n",
       "      <th>name</th>\n",
       "      <th>synonyms</th>\n",
       "      <th>CM</th>\n",
       "      <th>ARR</th>\n",
       "      <th>CHD</th>\n",
       "      <th>VD</th>\n",
       "      <th>IHD</th>\n",
       "      <th>CCS</th>\n",
       "      <th>VOO</th>\n",
       "      <th>OHD</th>\n",
       "      <th>IOS</th>\n",
       "      <th>ROS</th>\n",
       "      <th>OOS</th>\n",
       "    </tr>\n",
       "  </thead>\n",
       "  <tbody>\n",
       "    <tr>\n",
       "      <th>0</th>\n",
       "      <td>P17302</td>\n",
       "      <td>Gap junction alpha-1 protein</td>\n",
       "      <td>['Gap junction alpha-1 protein', 'Connexin-43'...</td>\n",
       "      <td>0.108147</td>\n",
       "      <td>0.154496</td>\n",
       "      <td>0.089738</td>\n",
       "      <td>0.034155</td>\n",
       "      <td>0.100026</td>\n",
       "      <td>0.098568</td>\n",
       "      <td>0.04216</td>\n",
       "      <td>0.103816</td>\n",
       "      <td>0.179578</td>\n",
       "      <td>0.349316</td>\n",
       "      <td>0.165879</td>\n",
       "    </tr>\n",
       "  </tbody>\n",
       "</table>\n",
       "</div>"
      ],
      "text/plain": [
       "       ID                          name  \\\n",
       "0  P17302  Gap junction alpha-1 protein   \n",
       "\n",
       "                                            synonyms        CM       ARR  \\\n",
       "0  ['Gap junction alpha-1 protein', 'Connexin-43'...  0.108147  0.154496   \n",
       "\n",
       "        CHD        VD       IHD       CCS      VOO       OHD       IOS  \\\n",
       "0  0.089738  0.034155  0.100026  0.098568  0.04216  0.103816  0.179578   \n",
       "\n",
       "        ROS       OOS  \n",
       "0  0.349316  0.165879  "
      ]
     },
     "execution_count": 18,
     "metadata": {},
     "output_type": "execute_result"
    }
   ],
   "source": [
    "df1 = pd.read_csv(\"Interface/merged-proteins.csv\")\n",
    "df1.head(1)"
   ]
  },
  {
   "cell_type": "code",
   "execution_count": 19,
   "metadata": {},
   "outputs": [],
   "source": [
    "def create_protein_nodes(tx, uid, name, syn):\n",
    "    query = \"MERGE (p:Protein{id:$uid,name:$name,syn:$syn})\"\n",
    "    tx.run(query, uid = uid, name=name, syn=syn)"
   ]
  },
  {
   "cell_type": "code",
   "execution_count": 20,
   "metadata": {},
   "outputs": [],
   "source": [
    "with driver.session() as session:\n",
    "    for uid,name,syn in zip(df1[\"ID\"],df1['name'],df1['synonyms']):\n",
    "        session.write_transaction(create_protein_nodes, uid,name,syn)"
   ]
  },
  {
   "cell_type": "markdown",
   "metadata": {},
   "source": [
    "#### N2. Document Node"
   ]
  },
  {
   "cell_type": "code",
   "execution_count": 14,
   "metadata": {},
   "outputs": [
    {
     "data": {
      "text/html": [
       "<div>\n",
       "<style scoped>\n",
       "    .dataframe tbody tr th:only-of-type {\n",
       "        vertical-align: middle;\n",
       "    }\n",
       "\n",
       "    .dataframe tbody tr th {\n",
       "        vertical-align: top;\n",
       "    }\n",
       "\n",
       "    .dataframe thead th {\n",
       "        text-align: right;\n",
       "    }\n",
       "</style>\n",
       "<table border=\"1\" class=\"dataframe\">\n",
       "  <thead>\n",
       "    <tr style=\"text-align: right;\">\n",
       "      <th></th>\n",
       "      <th>Unnamed: 0</th>\n",
       "      <th>pmid</th>\n",
       "      <th>title</th>\n",
       "      <th>abstract</th>\n",
       "      <th>mesh</th>\n",
       "      <th>date</th>\n",
       "    </tr>\n",
       "  </thead>\n",
       "  <tbody>\n",
       "    <tr>\n",
       "      <th>0</th>\n",
       "      <td>0</td>\n",
       "      <td>20091048</td>\n",
       "      <td>Cardiac sodium channelopathies.</td>\n",
       "      <td>cardiac sodium channel are protein complexes t...</td>\n",
       "      <td>['Animals', 'Arrhythmias, Cardiac', 'genetics'...</td>\n",
       "      <td>{'Year': '2010', 'Month': 'Jul', 'Day': '', 'S...</td>\n",
       "    </tr>\n",
       "  </tbody>\n",
       "</table>\n",
       "</div>"
      ],
      "text/plain": [
       "   Unnamed: 0      pmid                            title  \\\n",
       "0           0  20091048  Cardiac sodium channelopathies.   \n",
       "\n",
       "                                            abstract  \\\n",
       "0  cardiac sodium channel are protein complexes t...   \n",
       "\n",
       "                                                mesh  \\\n",
       "0  ['Animals', 'Arrhythmias, Cardiac', 'genetics'...   \n",
       "\n",
       "                                                date  \n",
       "0  {'Year': '2010', 'Month': 'Jul', 'Day': '', 'S...  "
      ]
     },
     "execution_count": 14,
     "metadata": {},
     "output_type": "execute_result"
    }
   ],
   "source": [
    "df2 = pd.read_csv(\"kgdata/allpmid-nodes.csv\")\n",
    "df2.head(1)"
   ]
  },
  {
   "cell_type": "code",
   "execution_count": 15,
   "metadata": {},
   "outputs": [],
   "source": [
    "def create_document_nodes(tx, pmid,title,date):\n",
    "    query = \"MERGE (d:Document{id:$pmid,title:$title,date:$date})\"\n",
    "    tx.run(query, pmid=pmid, title=title, date=date)"
   ]
  },
  {
   "cell_type": "code",
   "execution_count": 16,
   "metadata": {},
   "outputs": [],
   "source": [
    "with driver.session() as session:\n",
    "    for pmid,title,date in zip(df2[\"pmid\"],df2[\"title\"],df2[\"date\"]):\n",
    "        session.write_transaction(create_document_nodes, pmid,title,date)"
   ]
  },
  {
   "cell_type": "markdown",
   "metadata": {},
   "source": [
    "#### N3.  MeSH Node"
   ]
  },
  {
   "cell_type": "code",
   "execution_count": 71,
   "metadata": {},
   "outputs": [
    {
     "data": {
      "text/html": [
       "<div>\n",
       "<style scoped>\n",
       "    .dataframe tbody tr th:only-of-type {\n",
       "        vertical-align: middle;\n",
       "    }\n",
       "\n",
       "    .dataframe tbody tr th {\n",
       "        vertical-align: top;\n",
       "    }\n",
       "\n",
       "    .dataframe thead th {\n",
       "        text-align: right;\n",
       "    }\n",
       "</style>\n",
       "<table border=\"1\" class=\"dataframe\">\n",
       "  <thead>\n",
       "    <tr style=\"text-align: right;\">\n",
       "      <th></th>\n",
       "      <th>Unnamed: 0</th>\n",
       "      <th>mid</th>\n",
       "      <th>name</th>\n",
       "    </tr>\n",
       "  </thead>\n",
       "  <tbody>\n",
       "    <tr>\n",
       "      <th>0</th>\n",
       "      <td>0</td>\n",
       "      <td>C14.280.238</td>\n",
       "      <td>cardiomyopathies</td>\n",
       "    </tr>\n",
       "  </tbody>\n",
       "</table>\n",
       "</div>"
      ],
      "text/plain": [
       "   Unnamed: 0          mid              name\n",
       "0           0  C14.280.238  cardiomyopathies"
      ]
     },
     "execution_count": 71,
     "metadata": {},
     "output_type": "execute_result"
    }
   ],
   "source": [
    "df3 = pd.read_csv(\"kgdata/merged-mesh-nodes.csv\")\n",
    "df3.head(1)"
   ]
  },
  {
   "cell_type": "code",
   "execution_count": 73,
   "metadata": {},
   "outputs": [
    {
     "data": {
      "text/plain": [
       "(254, 3)"
      ]
     },
     "execution_count": 73,
     "metadata": {},
     "output_type": "execute_result"
    }
   ],
   "source": [
    "df3.shape"
   ]
  },
  {
   "cell_type": "code",
   "execution_count": 74,
   "metadata": {},
   "outputs": [],
   "source": [
    "def create_mesh_nodes(tx, mid, name):\n",
    "    query = \"MERGE (m:MeSH{id:$mid, name:$name})\"\n",
    "    tx.run(query, mid=mid, name=name)"
   ]
  },
  {
   "cell_type": "code",
   "execution_count": 76,
   "metadata": {},
   "outputs": [],
   "source": [
    "with driver.session() as session:\n",
    "    for mid,name in zip(df3[\"mid\"],df3[\"name\"]):\n",
    "        session.write_transaction(create_mesh_nodes, mid,name)"
   ]
  },
  {
   "cell_type": "markdown",
   "metadata": {},
   "source": [
    "#### N4. Pathways Nodes"
   ]
  },
  {
   "cell_type": "code",
   "execution_count": 11,
   "metadata": {},
   "outputs": [
    {
     "data": {
      "text/html": [
       "<div>\n",
       "<style scoped>\n",
       "    .dataframe tbody tr th:only-of-type {\n",
       "        vertical-align: middle;\n",
       "    }\n",
       "\n",
       "    .dataframe tbody tr th {\n",
       "        vertical-align: top;\n",
       "    }\n",
       "\n",
       "    .dataframe thead th {\n",
       "        text-align: right;\n",
       "    }\n",
       "</style>\n",
       "<table border=\"1\" class=\"dataframe\">\n",
       "  <thead>\n",
       "    <tr style=\"text-align: right;\">\n",
       "      <th></th>\n",
       "      <th>Unnamed: 0</th>\n",
       "      <th>ID</th>\n",
       "      <th>Pathway</th>\n",
       "      <th>Protein</th>\n",
       "      <th>Relation</th>\n",
       "    </tr>\n",
       "  </thead>\n",
       "  <tbody>\n",
       "    <tr>\n",
       "      <th>0</th>\n",
       "      <td>0</td>\n",
       "      <td>R-HSA-5578775</td>\n",
       "      <td>Ion homeostasis</td>\n",
       "      <td>Q96D31</td>\n",
       "      <td>INVOLVED_IN</td>\n",
       "    </tr>\n",
       "  </tbody>\n",
       "</table>\n",
       "</div>"
      ],
      "text/plain": [
       "   Unnamed: 0             ID          Pathway Protein     Relation\n",
       "0           0  R-HSA-5578775  Ion homeostasis  Q96D31  INVOLVED_IN"
      ]
     },
     "execution_count": 11,
     "metadata": {},
     "output_type": "execute_result"
    }
   ],
   "source": [
    "df4 = pd.read_csv(\"Pathways/pw2protein-edge.csv\")\n",
    "df4.head(1)"
   ]
  },
  {
   "cell_type": "code",
   "execution_count": 14,
   "metadata": {},
   "outputs": [],
   "source": [
    "def create_pathway_nodes(tx, pwid, name):\n",
    "    query = \"MERGE (pw:Pathway{id:$pwid,name:$name})\"\n",
    "    tx.run(query, pwid=pwid, name=name)"
   ]
  },
  {
   "cell_type": "code",
   "execution_count": 15,
   "metadata": {},
   "outputs": [],
   "source": [
    "with driver.session() as session:\n",
    "    for pwid,name in zip(df4[\"ID\"],df4[\"Pathway\"]):\n",
    "        session.write_transaction(create_pathway_nodes, pwid, name)"
   ]
  },
  {
   "cell_type": "markdown",
   "metadata": {},
   "source": [
    "#### N5. Drug Nodes"
   ]
  },
  {
   "cell_type": "code",
   "execution_count": 58,
   "metadata": {},
   "outputs": [
    {
     "data": {
      "text/html": [
       "<div>\n",
       "<style scoped>\n",
       "    .dataframe tbody tr th:only-of-type {\n",
       "        vertical-align: middle;\n",
       "    }\n",
       "\n",
       "    .dataframe tbody tr th {\n",
       "        vertical-align: top;\n",
       "    }\n",
       "\n",
       "    .dataframe thead th {\n",
       "        text-align: right;\n",
       "    }\n",
       "</style>\n",
       "<table border=\"1\" class=\"dataframe\">\n",
       "  <thead>\n",
       "    <tr style=\"text-align: right;\">\n",
       "      <th></th>\n",
       "      <th>Unnamed: 0</th>\n",
       "      <th>name</th>\n",
       "      <th>category</th>\n",
       "    </tr>\n",
       "  </thead>\n",
       "  <tbody>\n",
       "    <tr>\n",
       "      <th>0</th>\n",
       "      <td>0</td>\n",
       "      <td>heparin</td>\n",
       "      <td>Anticoagulants</td>\n",
       "    </tr>\n",
       "  </tbody>\n",
       "</table>\n",
       "</div>"
      ],
      "text/plain": [
       "   Unnamed: 0     name        category\n",
       "0           0  heparin  Anticoagulants"
      ]
     },
     "execution_count": 58,
     "metadata": {},
     "output_type": "execute_result"
    }
   ],
   "source": [
    "df5 = pd.read_csv(\"kgdata/drug-nodes.csv\")\n",
    "df5.head(1)"
   ]
  },
  {
   "cell_type": "code",
   "execution_count": 59,
   "metadata": {},
   "outputs": [
    {
     "data": {
      "text/plain": [
       "(156, 3)"
      ]
     },
     "execution_count": 59,
     "metadata": {},
     "output_type": "execute_result"
    }
   ],
   "source": [
    "df5.shape"
   ]
  },
  {
   "cell_type": "code",
   "execution_count": 60,
   "metadata": {},
   "outputs": [],
   "source": [
    "def create_drug_nodes(tx, dgid, cat):\n",
    "    query = \"MERGE (dg:Drug{id:$dgid,cat:$cat})\"\n",
    "    tx.run(query, dgid=dgid, cat=cat)"
   ]
  },
  {
   "cell_type": "code",
   "execution_count": 61,
   "metadata": {},
   "outputs": [],
   "source": [
    "with driver.session() as session:\n",
    "    for dgid,cat in zip(df5[\"name\"],df5[\"category\"]):\n",
    "        session.write_transaction(create_drug_nodes, dgid, cat)"
   ]
  },
  {
   "cell_type": "markdown",
   "metadata": {},
   "source": [
    "#### N6 Drug-target Protein Nodes"
   ]
  },
  {
   "cell_type": "code",
   "execution_count": 62,
   "metadata": {},
   "outputs": [
    {
     "data": {
      "text/html": [
       "<div>\n",
       "<style scoped>\n",
       "    .dataframe tbody tr th:only-of-type {\n",
       "        vertical-align: middle;\n",
       "    }\n",
       "\n",
       "    .dataframe tbody tr th {\n",
       "        vertical-align: top;\n",
       "    }\n",
       "\n",
       "    .dataframe thead th {\n",
       "        text-align: right;\n",
       "    }\n",
       "</style>\n",
       "<table border=\"1\" class=\"dataframe\">\n",
       "  <thead>\n",
       "    <tr style=\"text-align: right;\">\n",
       "      <th></th>\n",
       "      <th>Unnamed: 0</th>\n",
       "      <th>Protein</th>\n",
       "    </tr>\n",
       "  </thead>\n",
       "  <tbody>\n",
       "    <tr>\n",
       "      <th>0</th>\n",
       "      <td>0</td>\n",
       "      <td>Q01064</td>\n",
       "    </tr>\n",
       "  </tbody>\n",
       "</table>\n",
       "</div>"
      ],
      "text/plain": [
       "   Unnamed: 0 Protein\n",
       "0           0  Q01064"
      ]
     },
     "execution_count": 62,
     "metadata": {},
     "output_type": "execute_result"
    }
   ],
   "source": [
    "df6 = pd.read_csv(\"kgdata/drug-target-nodes.csv\")\n",
    "df6.head(1)"
   ]
  },
  {
   "cell_type": "code",
   "execution_count": 63,
   "metadata": {},
   "outputs": [],
   "source": [
    "def create_drug_target_nodes(tx, uid):\n",
    "    query = \"MERGE (p:Protein{id:$uid})\"\n",
    "    tx.run(query, uid=uid)"
   ]
  },
  {
   "cell_type": "code",
   "execution_count": 64,
   "metadata": {},
   "outputs": [],
   "source": [
    "with driver.session() as session:\n",
    "    for uid in df6[\"Protein\"]:\n",
    "        session.write_transaction(create_drug_target_nodes, uid)"
   ]
  },
  {
   "cell_type": "markdown",
   "metadata": {},
   "source": [
    "#### N7. Compound Nodes"
   ]
  },
  {
   "cell_type": "code",
   "execution_count": null,
   "metadata": {},
   "outputs": [],
   "source": []
  },
  {
   "cell_type": "code",
   "execution_count": null,
   "metadata": {},
   "outputs": [],
   "source": []
  },
  {
   "cell_type": "markdown",
   "metadata": {},
   "source": [
    "#### E1. Document to Protein Edge"
   ]
  },
  {
   "cell_type": "code",
   "execution_count": 21,
   "metadata": {},
   "outputs": [
    {
     "data": {
      "text/html": [
       "<div>\n",
       "<style scoped>\n",
       "    .dataframe tbody tr th:only-of-type {\n",
       "        vertical-align: middle;\n",
       "    }\n",
       "\n",
       "    .dataframe tbody tr th {\n",
       "        vertical-align: top;\n",
       "    }\n",
       "\n",
       "    .dataframe thead th {\n",
       "        text-align: right;\n",
       "    }\n",
       "</style>\n",
       "<table border=\"1\" class=\"dataframe\">\n",
       "  <thead>\n",
       "    <tr style=\"text-align: right;\">\n",
       "      <th></th>\n",
       "      <th>Unnamed: 0</th>\n",
       "      <th>pmid</th>\n",
       "      <th>protein</th>\n",
       "      <th>edge</th>\n",
       "    </tr>\n",
       "  </thead>\n",
       "  <tbody>\n",
       "    <tr>\n",
       "      <th>0</th>\n",
       "      <td>0</td>\n",
       "      <td>20091048</td>\n",
       "      <td>P56539</td>\n",
       "      <td>MENTIONS</td>\n",
       "    </tr>\n",
       "  </tbody>\n",
       "</table>\n",
       "</div>"
      ],
      "text/plain": [
       "   Unnamed: 0      pmid protein      edge\n",
       "0           0  20091048  P56539  MENTIONS"
      ]
     },
     "execution_count": 21,
     "metadata": {},
     "output_type": "execute_result"
    }
   ],
   "source": [
    "df4 = pd.read_csv(\"kgdata/pmid2protein-edge.csv\")\n",
    "df4.head(1)"
   ]
  },
  {
   "cell_type": "code",
   "execution_count": 23,
   "metadata": {},
   "outputs": [],
   "source": [
    "def create_document2protein_edge(tx, pmid, uid):\n",
    "    query = '''\n",
    "    MATCH (d:Document{id:$pmid})\n",
    "    MATCH (p:Protein{id:$uid})\n",
    "    MERGE (d)-[:MENTIONS]->(p)\n",
    "    '''\n",
    "    tx.run(query, pmid=pmid, uid=uid)"
   ]
  },
  {
   "cell_type": "code",
   "execution_count": 24,
   "metadata": {},
   "outputs": [],
   "source": [
    "with driver.session() as session:\n",
    "    for pmid, uid in zip(df4[\"pmid\"], df4[\"protein\"]):\n",
    "        session.write_transaction(create_document2protein_edge, pmid, uid)"
   ]
  },
  {
   "cell_type": "markdown",
   "metadata": {},
   "source": [
    "#### E2.  Document to MeSH Edge"
   ]
  },
  {
   "cell_type": "code",
   "execution_count": 77,
   "metadata": {},
   "outputs": [
    {
     "data": {
      "text/html": [
       "<div>\n",
       "<style scoped>\n",
       "    .dataframe tbody tr th:only-of-type {\n",
       "        vertical-align: middle;\n",
       "    }\n",
       "\n",
       "    .dataframe tbody tr th {\n",
       "        vertical-align: top;\n",
       "    }\n",
       "\n",
       "    .dataframe thead th {\n",
       "        text-align: right;\n",
       "    }\n",
       "</style>\n",
       "<table border=\"1\" class=\"dataframe\">\n",
       "  <thead>\n",
       "    <tr style=\"text-align: right;\">\n",
       "      <th></th>\n",
       "      <th>Unnamed: 0</th>\n",
       "      <th>pmid</th>\n",
       "      <th>name</th>\n",
       "      <th>mid</th>\n",
       "    </tr>\n",
       "  </thead>\n",
       "  <tbody>\n",
       "    <tr>\n",
       "      <th>0</th>\n",
       "      <td>0</td>\n",
       "      <td>20091048</td>\n",
       "      <td>arrhythmias, cardiac</td>\n",
       "      <td>C23.550.073</td>\n",
       "    </tr>\n",
       "  </tbody>\n",
       "</table>\n",
       "</div>"
      ],
      "text/plain": [
       "   Unnamed: 0      pmid                  name          mid\n",
       "0           0  20091048  arrhythmias, cardiac  C23.550.073"
      ]
     },
     "execution_count": 77,
     "metadata": {},
     "output_type": "execute_result"
    }
   ],
   "source": [
    "dfe2 = pd.read_csv(\"kgdata/pmid2mesh-merged-edge.csv\")\n",
    "dfe2.head(1)"
   ]
  },
  {
   "cell_type": "code",
   "execution_count": 78,
   "metadata": {},
   "outputs": [
    {
     "data": {
      "text/plain": [
       "(59306, 4)"
      ]
     },
     "execution_count": 78,
     "metadata": {},
     "output_type": "execute_result"
    }
   ],
   "source": [
    "dfe2.shape"
   ]
  },
  {
   "cell_type": "code",
   "execution_count": 79,
   "metadata": {},
   "outputs": [],
   "source": [
    "def create_document2mesh_edge(tx, pmid, mid):\n",
    "    query = '''\n",
    "    MATCH (d:Document{id:$pmid})\n",
    "    MATCH (m:MeSH{id:$mid})\n",
    "    MERGE (d)-[:ASSIGNS]->(m)\n",
    "    '''\n",
    "    tx.run(query, pmid=pmid, mid=mid)"
   ]
  },
  {
   "cell_type": "code",
   "execution_count": 81,
   "metadata": {},
   "outputs": [],
   "source": [
    "with driver.session() as session:\n",
    "    for pmid, mid in zip(dfe2[\"pmid\"], dfe2[\"mid\"]):\n",
    "        session.write_transaction(create_document2mesh_edge, pmid, mid)"
   ]
  },
  {
   "cell_type": "markdown",
   "metadata": {},
   "source": [
    "#### E3. Pathways to Proteins Edges"
   ]
  },
  {
   "cell_type": "code",
   "execution_count": 16,
   "metadata": {},
   "outputs": [],
   "source": [
    "def create_pw2p_edge(tx, pwid, uid):\n",
    "    query = '''\n",
    "    MATCH (pw:Pathway{id:$pwid})\n",
    "    MATCH (p:Protein{id:$uid})\n",
    "    MERGE (pw)-[:CANDIDATE]->(p)\n",
    "    '''\n",
    "    tx.run(query, pwid=pwid, uid=uid)"
   ]
  },
  {
   "cell_type": "code",
   "execution_count": 18,
   "metadata": {},
   "outputs": [],
   "source": [
    "with driver.session() as session:\n",
    "    for pwid, uid in zip(df4[\"ID\"], df4[\"Protein\"]):\n",
    "        session.write_transaction(create_pw2p_edge, pwid, uid)"
   ]
  },
  {
   "cell_type": "markdown",
   "metadata": {},
   "source": [
    "#### E4. Drug to Drug Target Edges"
   ]
  },
  {
   "cell_type": "code",
   "execution_count": 65,
   "metadata": {},
   "outputs": [
    {
     "data": {
      "text/html": [
       "<div>\n",
       "<style scoped>\n",
       "    .dataframe tbody tr th:only-of-type {\n",
       "        vertical-align: middle;\n",
       "    }\n",
       "\n",
       "    .dataframe tbody tr th {\n",
       "        vertical-align: top;\n",
       "    }\n",
       "\n",
       "    .dataframe thead th {\n",
       "        text-align: right;\n",
       "    }\n",
       "</style>\n",
       "<table border=\"1\" class=\"dataframe\">\n",
       "  <thead>\n",
       "    <tr style=\"text-align: right;\">\n",
       "      <th></th>\n",
       "      <th>Unnamed: 0</th>\n",
       "      <th>name</th>\n",
       "      <th>cat</th>\n",
       "      <th>protein</th>\n",
       "    </tr>\n",
       "  </thead>\n",
       "  <tbody>\n",
       "    <tr>\n",
       "      <th>0</th>\n",
       "      <td>0</td>\n",
       "      <td>heparin</td>\n",
       "      <td>Anticoagulants</td>\n",
       "      <td>P01008</td>\n",
       "    </tr>\n",
       "  </tbody>\n",
       "</table>\n",
       "</div>"
      ],
      "text/plain": [
       "   Unnamed: 0     name             cat protein\n",
       "0           0  heparin  Anticoagulants  P01008"
      ]
     },
     "execution_count": 65,
     "metadata": {},
     "output_type": "execute_result"
    }
   ],
   "source": [
    "dfe5 = pd.read_csv(\"kgdata/drug2targets-edge.csv\")\n",
    "dfe5.head(1)"
   ]
  },
  {
   "cell_type": "code",
   "execution_count": 66,
   "metadata": {},
   "outputs": [],
   "source": [
    "def create_dg2t_edge(tx, dgid, uid):\n",
    "    query = '''\n",
    "    MATCH (dg:Drug{id:$dgid})\n",
    "    MATCH (p:Protein{id:$uid})\n",
    "    MERGE (dg)-[:TARGET]->(p)\n",
    "    '''\n",
    "    tx.run(query, dgid=dgid, uid=uid)"
   ]
  },
  {
   "cell_type": "code",
   "execution_count": 67,
   "metadata": {},
   "outputs": [],
   "source": [
    "with driver.session() as session:\n",
    "    for dgid, uid in zip(dfe4[\"name\"], dfe4[\"protein\"]):\n",
    "        session.write_transaction(create_dg2t_edge, dgid, uid)"
   ]
  },
  {
   "cell_type": "markdown",
   "metadata": {},
   "source": [
    "--------"
   ]
  },
  {
   "cell_type": "markdown",
   "metadata": {},
   "source": [
    "### Clear Graph Database (When Needed!)"
   ]
  },
  {
   "cell_type": "markdown",
   "metadata": {},
   "source": [
    "- Conform APOC is available"
   ]
  },
  {
   "cell_type": "code",
   "execution_count": null,
   "metadata": {},
   "outputs": [],
   "source": [
    "CALL dbms.procedures()\n",
    "YIELD name WHERE name STARTS WITH \"apoc\"\n",
    "RETURN name"
   ]
  },
  {
   "cell_type": "markdown",
   "metadata": {},
   "source": [
    "- Clear database"
   ]
  },
  {
   "cell_type": "code",
   "execution_count": null,
   "metadata": {},
   "outputs": [],
   "source": [
    "// Delete all constraints and indexes\n",
    "CALL apoc.schema.assert({},{},true);\n",
    "// Delete all nodes and relationships\n",
    "CALL apoc.periodic.iterate(\n",
    "  'MATCH (n) RETURN n',\n",
    "  'DETACH DELETE n',\n",
    "  { batchSize:500 }\n",
    ")"
   ]
  },
  {
   "cell_type": "markdown",
   "metadata": {},
   "source": [
    "### Perform the task"
   ]
  },
  {
   "cell_type": "markdown",
   "metadata": {},
   "source": [
    "- Visualize the schema"
   ]
  },
  {
   "cell_type": "code",
   "execution_count": null,
   "metadata": {},
   "outputs": [],
   "source": [
    "CALL db.schema.visualization"
   ]
  },
  {
   "cell_type": "markdown",
   "metadata": {},
   "source": [
    "- Find the protein list for Pathways"
   ]
  },
  {
   "cell_type": "code",
   "execution_count": null,
   "metadata": {},
   "outputs": [],
   "source": [
    "MATCH path = (p:Protein)--(pw:Pathway)--(t:Target)--(d:Drug) RETURN path LIMIT 100"
   ]
  },
  {
   "cell_type": "code",
   "execution_count": null,
   "metadata": {},
   "outputs": [],
   "source": [
    "MATCH path = (p:Protein)--(pw:Pathway)--(t:Target) RETURN p.name, collect(DISTINCT t.name)"
   ]
  },
  {
   "cell_type": "code",
   "execution_count": null,
   "metadata": {},
   "outputs": [],
   "source": [
    "MATCH path = (p:Protein)--(pw:Pathway)--(t:Target)  RETURN p.name, count(DISTINCT t.name)"
   ]
  },
  {
   "cell_type": "code",
   "execution_count": null,
   "metadata": {},
   "outputs": [],
   "source": [
    "MATCH path = (p:Protein)--()--(t:Target)  RETURN path LIMIT 100"
   ]
  },
  {
   "cell_type": "code",
   "execution_count": null,
   "metadata": {},
   "outputs": [],
   "source": [
    "MATCH path = (d:Drug)--()--(p:Protein)  RETURN path LIMIT 100"
   ]
  },
  {
   "cell_type": "code",
   "execution_count": null,
   "metadata": {},
   "outputs": [],
   "source": [
    "MATCH path = (d:Drug)--(t:Target)--(pw:Pathway)--(p:Protein)  \n",
    "WHERE t.id in ['Q92769','P26358'] RETURN path LIMIT 100"
   ]
  },
  {
   "cell_type": "code",
   "execution_count": null,
   "metadata": {},
   "outputs": [],
   "source": [
    "MATCH path = (d:Drug)--(t:Target)--(pw:Pathway)--(p:Protein)  \n",
    "WHERE t.id in ['Q92769'] RETURN path LIMIT 100"
   ]
  },
  {
   "cell_type": "code",
   "execution_count": null,
   "metadata": {},
   "outputs": [],
   "source": [
    "MATCH path = (d:Drug)--(t:Target)--(pw:Pathway)--(p:Protein)  \n",
    "WHERE t.id in ['P26358'] RETURN path LIMIT 100"
   ]
  },
  {
   "cell_type": "code",
   "execution_count": null,
   "metadata": {},
   "outputs": [],
   "source": [
    "P19634"
   ]
  },
  {
   "cell_type": "code",
   "execution_count": null,
   "metadata": {},
   "outputs": [],
   "source": [
    "MATCH path = (d:Drug)--(p:Protein)--(pw:Pathway)  \n",
    "WHERE p.id in ['P19634'] RETURN path LIMIT 100"
   ]
  },
  {
   "cell_type": "code",
   "execution_count": null,
   "metadata": {},
   "outputs": [],
   "source": []
  }
 ],
 "metadata": {
  "kernelspec": {
   "display_name": "Python 3",
   "language": "python",
   "name": "python3"
  },
  "language_info": {
   "codemirror_mode": {
    "name": "ipython",
    "version": 3
   },
   "file_extension": ".py",
   "mimetype": "text/x-python",
   "name": "python",
   "nbconvert_exporter": "python",
   "pygments_lexer": "ipython3",
   "version": "3.6.6"
  }
 },
 "nbformat": 4,
 "nbformat_minor": 2
}
