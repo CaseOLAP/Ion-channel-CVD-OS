{
 "cells": [
  {
   "cell_type": "markdown",
   "metadata": {},
   "source": [
    "### Protein Drug network data"
   ]
  },
  {
   "cell_type": "code",
   "execution_count": 47,
   "metadata": {},
   "outputs": [],
   "source": [
    "import pandas as pd\n",
    "import json as json"
   ]
  },
  {
   "cell_type": "code",
   "execution_count": 48,
   "metadata": {},
   "outputs": [
    {
     "data": {
      "text/html": [
       "<div>\n",
       "<style scoped>\n",
       "    .dataframe tbody tr th:only-of-type {\n",
       "        vertical-align: middle;\n",
       "    }\n",
       "\n",
       "    .dataframe tbody tr th {\n",
       "        vertical-align: top;\n",
       "    }\n",
       "\n",
       "    .dataframe thead th {\n",
       "        text-align: right;\n",
       "    }\n",
       "</style>\n",
       "<table border=\"1\" class=\"dataframe\">\n",
       "  <thead>\n",
       "    <tr style=\"text-align: right;\">\n",
       "      <th></th>\n",
       "      <th>Unnamed: 0</th>\n",
       "      <th>name</th>\n",
       "      <th>category</th>\n",
       "      <th>target</th>\n",
       "    </tr>\n",
       "  </thead>\n",
       "  <tbody>\n",
       "    <tr>\n",
       "      <th>0</th>\n",
       "      <td>0</td>\n",
       "      <td>heparin</td>\n",
       "      <td>Anticoagulants</td>\n",
       "      <td>['P01008', 'P00742', 'P16109', 'P22455', 'P086...</td>\n",
       "    </tr>\n",
       "  </tbody>\n",
       "</table>\n",
       "</div>"
      ],
      "text/plain": [
       "   Unnamed: 0     name        category  \\\n",
       "0           0  heparin  Anticoagulants   \n",
       "\n",
       "                                              target  \n",
       "0  ['P01008', 'P00742', 'P16109', 'P22455', 'P086...  "
      ]
     },
     "execution_count": 48,
     "metadata": {},
     "output_type": "execute_result"
    }
   ],
   "source": [
    "df1 = pd.read_csv(\"data/drug-category-target.csv\")\n",
    "df1.head(1)"
   ]
  },
  {
   "cell_type": "markdown",
   "metadata": {},
   "source": [
    "#### Drug nodes data"
   ]
  },
  {
   "cell_type": "code",
   "execution_count": 64,
   "metadata": {},
   "outputs": [],
   "source": [
    "drugncat = {}\n",
    "for d,c in zip(df1['name'],df1['category']):\n",
    "    drugncat.update({d:c})\n",
    "\n",
    "D2C=[]\n",
    "for k,v in drugncat.items():\n",
    "    D2C.append({\"name\": k,\"category\":v})\n",
    "    \n",
    "ddf = pd.DataFrame(D2C)    \n",
    "ddf.to_csv(\"kgdata/drug-nodes.csv\")"
   ]
  },
  {
   "cell_type": "markdown",
   "metadata": {},
   "source": [
    "##### Find unique CVD drug-target proteins"
   ]
  },
  {
   "cell_type": "code",
   "execution_count": 50,
   "metadata": {},
   "outputs": [
    {
     "data": {
      "text/plain": [
       "698"
      ]
     },
     "execution_count": 50,
     "metadata": {},
     "output_type": "execute_result"
    }
   ],
   "source": [
    "alltargets = []\n",
    "for item in df1['target']:\n",
    "    proteins = item[1:-1].split(\", \")\n",
    "    for p in proteins:\n",
    "        if p != \".\":\n",
    "            alltargets.append(str(p)[1:-1])\n",
    "len(alltargets)"
   ]
  },
  {
   "cell_type": "code",
   "execution_count": 51,
   "metadata": {},
   "outputs": [
    {
     "data": {
      "text/plain": [
       "317"
      ]
     },
     "execution_count": 51,
     "metadata": {},
     "output_type": "execute_result"
    }
   ],
   "source": [
    "\n",
    "alltargets = list(set(alltargets))\n",
    "len(alltargets)"
   ]
  },
  {
   "cell_type": "markdown",
   "metadata": {},
   "source": [
    "#### Drug targets nodes data"
   ]
  },
  {
   "cell_type": "code",
   "execution_count": 52,
   "metadata": {},
   "outputs": [],
   "source": [
    "tdf = pd.DataFrame()\n",
    "tdf['Protein']=alltargets\n",
    "tdf.to_csv(\"kgdata/drug-target-nodes.csv\")"
   ]
  },
  {
   "cell_type": "markdown",
   "metadata": {},
   "source": [
    "### Intersection\n",
    "**How many Ca handeling ion-channel proteins (out of total 140) are in CVD drug-target proteins?**"
   ]
  },
  {
   "cell_type": "code",
   "execution_count": 53,
   "metadata": {},
   "outputs": [
    {
     "data": {
      "text/html": [
       "<div>\n",
       "<style scoped>\n",
       "    .dataframe tbody tr th:only-of-type {\n",
       "        vertical-align: middle;\n",
       "    }\n",
       "\n",
       "    .dataframe tbody tr th {\n",
       "        vertical-align: top;\n",
       "    }\n",
       "\n",
       "    .dataframe thead th {\n",
       "        text-align: right;\n",
       "    }\n",
       "</style>\n",
       "<table border=\"1\" class=\"dataframe\">\n",
       "  <thead>\n",
       "    <tr style=\"text-align: right;\">\n",
       "      <th></th>\n",
       "      <th>ID</th>\n",
       "      <th>name</th>\n",
       "      <th>synonyms</th>\n",
       "      <th>CM</th>\n",
       "      <th>ARR</th>\n",
       "      <th>CHD</th>\n",
       "      <th>VD</th>\n",
       "      <th>IHD</th>\n",
       "      <th>CCS</th>\n",
       "      <th>VOO</th>\n",
       "      <th>OHD</th>\n",
       "      <th>IOS</th>\n",
       "      <th>ROS</th>\n",
       "      <th>OOS</th>\n",
       "    </tr>\n",
       "  </thead>\n",
       "  <tbody>\n",
       "    <tr>\n",
       "      <th>0</th>\n",
       "      <td>P17302</td>\n",
       "      <td>Gap junction alpha-1 protein</td>\n",
       "      <td>['Gap junction alpha-1 protein', 'Connexin-43'...</td>\n",
       "      <td>0.108147</td>\n",
       "      <td>0.154496</td>\n",
       "      <td>0.089738</td>\n",
       "      <td>0.034155</td>\n",
       "      <td>0.100026</td>\n",
       "      <td>0.098568</td>\n",
       "      <td>0.04216</td>\n",
       "      <td>0.103816</td>\n",
       "      <td>0.179578</td>\n",
       "      <td>0.349316</td>\n",
       "      <td>0.165879</td>\n",
       "    </tr>\n",
       "  </tbody>\n",
       "</table>\n",
       "</div>"
      ],
      "text/plain": [
       "       ID                          name  \\\n",
       "0  P17302  Gap junction alpha-1 protein   \n",
       "\n",
       "                                            synonyms        CM       ARR  \\\n",
       "0  ['Gap junction alpha-1 protein', 'Connexin-43'...  0.108147  0.154496   \n",
       "\n",
       "        CHD        VD       IHD       CCS      VOO       OHD       IOS  \\\n",
       "0  0.089738  0.034155  0.100026  0.098568  0.04216  0.103816  0.179578   \n",
       "\n",
       "        ROS       OOS  \n",
       "0  0.349316  0.165879  "
      ]
     },
     "execution_count": 53,
     "metadata": {},
     "output_type": "execute_result"
    }
   ],
   "source": [
    "df2 = pd.read_csv(\"Interface/merged-proteins.csv\")\n",
    "df2.head(1)"
   ]
  },
  {
   "cell_type": "code",
   "execution_count": 54,
   "metadata": {},
   "outputs": [],
   "source": [
    "allchannel = df2['ID']"
   ]
  },
  {
   "cell_type": "markdown",
   "metadata": {},
   "source": [
    "- Intersection"
   ]
  },
  {
   "cell_type": "code",
   "execution_count": 55,
   "metadata": {},
   "outputs": [
    {
     "data": {
      "text/plain": [
       "25"
      ]
     },
     "execution_count": 55,
     "metadata": {},
     "output_type": "execute_result"
    }
   ],
   "source": [
    "ints = set(alltargets).intersection(set(allchannel))\n",
    "len(ints)"
   ]
  },
  {
   "cell_type": "code",
   "execution_count": 56,
   "metadata": {},
   "outputs": [],
   "source": [
    "dfint = pd.DataFrame()\n",
    "dfint[\"protein\"]=list(ints)\n",
    "dfint.to_csv(\"data/ionchannel-drugtarget-int.csv\")"
   ]
  },
  {
   "cell_type": "markdown",
   "metadata": {},
   "source": [
    "#### Drug -Drug target Edge Data"
   ]
  },
  {
   "cell_type": "code",
   "execution_count": 65,
   "metadata": {},
   "outputs": [],
   "source": [
    "drug2targets = []\n",
    "for name, cat, targets in zip(df1['name'],df1['category'] , df1['target']):\n",
    "    \n",
    "    proteins = targets[1:-1].split(\", \")\n",
    "    \n",
    "    for p in proteins:\n",
    "        if p != \".\":\n",
    "            drug2targets.append({\"name\": name,\\\n",
    "                                 \"cat\": cat ,\\\n",
    "                                 \"protein\" : str(p)[1:-1]})\n",
    "            \n"
   ]
  },
  {
   "cell_type": "code",
   "execution_count": 66,
   "metadata": {},
   "outputs": [
    {
     "data": {
      "text/html": [
       "<div>\n",
       "<style scoped>\n",
       "    .dataframe tbody tr th:only-of-type {\n",
       "        vertical-align: middle;\n",
       "    }\n",
       "\n",
       "    .dataframe tbody tr th {\n",
       "        vertical-align: top;\n",
       "    }\n",
       "\n",
       "    .dataframe thead th {\n",
       "        text-align: right;\n",
       "    }\n",
       "</style>\n",
       "<table border=\"1\" class=\"dataframe\">\n",
       "  <thead>\n",
       "    <tr style=\"text-align: right;\">\n",
       "      <th></th>\n",
       "      <th>name</th>\n",
       "      <th>cat</th>\n",
       "      <th>protein</th>\n",
       "    </tr>\n",
       "  </thead>\n",
       "  <tbody>\n",
       "    <tr>\n",
       "      <th>0</th>\n",
       "      <td>heparin</td>\n",
       "      <td>Anticoagulants</td>\n",
       "      <td>P01008</td>\n",
       "    </tr>\n",
       "    <tr>\n",
       "      <th>1</th>\n",
       "      <td>heparin</td>\n",
       "      <td>Anticoagulants</td>\n",
       "      <td>P00742</td>\n",
       "    </tr>\n",
       "    <tr>\n",
       "      <th>2</th>\n",
       "      <td>heparin</td>\n",
       "      <td>Anticoagulants</td>\n",
       "      <td>P16109</td>\n",
       "    </tr>\n",
       "    <tr>\n",
       "      <th>3</th>\n",
       "      <td>heparin</td>\n",
       "      <td>Anticoagulants</td>\n",
       "      <td>P22455</td>\n",
       "    </tr>\n",
       "    <tr>\n",
       "      <th>4</th>\n",
       "      <td>heparin</td>\n",
       "      <td>Anticoagulants</td>\n",
       "      <td>P08620</td>\n",
       "    </tr>\n",
       "  </tbody>\n",
       "</table>\n",
       "</div>"
      ],
      "text/plain": [
       "      name             cat protein\n",
       "0  heparin  Anticoagulants  P01008\n",
       "1  heparin  Anticoagulants  P00742\n",
       "2  heparin  Anticoagulants  P16109\n",
       "3  heparin  Anticoagulants  P22455\n",
       "4  heparin  Anticoagulants  P08620"
      ]
     },
     "execution_count": 66,
     "metadata": {},
     "output_type": "execute_result"
    }
   ],
   "source": [
    "dtdf = pd.DataFrame(drug2targets)\n",
    "dtdf.head(5)"
   ]
  },
  {
   "cell_type": "code",
   "execution_count": 67,
   "metadata": {},
   "outputs": [],
   "source": [
    "dtdf.to_csv(\"kgdata/drug2targets-edge.csv\")"
   ]
  },
  {
   "cell_type": "code",
   "execution_count": null,
   "metadata": {},
   "outputs": [],
   "source": []
  },
  {
   "cell_type": "code",
   "execution_count": null,
   "metadata": {},
   "outputs": [],
   "source": []
  }
 ],
 "metadata": {
  "kernelspec": {
   "display_name": "Python 3",
   "language": "python",
   "name": "python3"
  },
  "language_info": {
   "codemirror_mode": {
    "name": "ipython",
    "version": 3
   },
   "file_extension": ".py",
   "mimetype": "text/x-python",
   "name": "python",
   "nbconvert_exporter": "python",
   "pygments_lexer": "ipython3",
   "version": "3.6.6"
  }
 },
 "nbformat": 4,
 "nbformat_minor": 2
}
