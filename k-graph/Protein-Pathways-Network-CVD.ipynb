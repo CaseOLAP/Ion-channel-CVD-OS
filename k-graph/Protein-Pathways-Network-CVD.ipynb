{
 "cells": [
  {
   "cell_type": "markdown",
   "metadata": {},
   "source": [
    "## Protein Pathways Network (CVD)"
   ]
  },
  {
   "cell_type": "code",
   "execution_count": 1,
   "metadata": {},
   "outputs": [],
   "source": [
    "import json as json\n",
    "import pandas as pd"
   ]
  },
  {
   "cell_type": "markdown",
   "metadata": {},
   "source": [
    "### Load Data\n",
    "\n",
    "Put data into data folder and load in the python environment"
   ]
  },
  {
   "cell_type": "code",
   "execution_count": 2,
   "metadata": {},
   "outputs": [
    {
     "data": {
      "text/html": [
       "<div>\n",
       "<style scoped>\n",
       "    .dataframe tbody tr th:only-of-type {\n",
       "        vertical-align: middle;\n",
       "    }\n",
       "\n",
       "    .dataframe tbody tr th {\n",
       "        vertical-align: top;\n",
       "    }\n",
       "\n",
       "    .dataframe thead th {\n",
       "        text-align: right;\n",
       "    }\n",
       "</style>\n",
       "<table border=\"1\" class=\"dataframe\">\n",
       "  <thead>\n",
       "    <tr style=\"text-align: right;\">\n",
       "      <th></th>\n",
       "      <th>Pathway identifier</th>\n",
       "      <th>Pathway name</th>\n",
       "      <th>#Entities found</th>\n",
       "      <th>#Entities total</th>\n",
       "      <th>#Interactors found</th>\n",
       "      <th>#Interactors total</th>\n",
       "      <th>Entities ratio</th>\n",
       "      <th>Entities pValue</th>\n",
       "      <th>Entities FDR</th>\n",
       "      <th>#Reactions found</th>\n",
       "      <th>#Reactions total</th>\n",
       "      <th>Reactions ratio</th>\n",
       "      <th>Species identifier</th>\n",
       "      <th>Species name</th>\n",
       "      <th>Submitted entities found</th>\n",
       "      <th>Mapped entities</th>\n",
       "      <th>Submitted entities hit interactor</th>\n",
       "      <th>Interacts with</th>\n",
       "      <th>Found reaction identifiers</th>\n",
       "    </tr>\n",
       "  </thead>\n",
       "  <tbody>\n",
       "    <tr>\n",
       "      <th>0</th>\n",
       "      <td>R-HSA-5578775</td>\n",
       "      <td>Ion homeostasis</td>\n",
       "      <td>20</td>\n",
       "      <td>64</td>\n",
       "      <td>3</td>\n",
       "      <td>98</td>\n",
       "      <td>0.004401</td>\n",
       "      <td>1.110223e-16</td>\n",
       "      <td>4.718448e-14</td>\n",
       "      <td>13</td>\n",
       "      <td>16</td>\n",
       "      <td>0.001184</td>\n",
       "      <td>9606</td>\n",
       "      <td>Homo sapiens</td>\n",
       "      <td>Q96D31;Q14643;Q92736;Q13586;P30626;P32418;P0DP...</td>\n",
       "      <td>Q96D31;Q14643;Q92736;Q13586;P30626;P32418;P0DP...</td>\n",
       "      <td>P30626;P49810;P05067</td>\n",
       "      <td>P17612;P30626</td>\n",
       "      <td>R-HSA-427910;R-HSA-418309;R-HSA-2855020;R-HSA-...</td>\n",
       "    </tr>\n",
       "  </tbody>\n",
       "</table>\n",
       "</div>"
      ],
      "text/plain": [
       "  Pathway identifier     Pathway name  #Entities found  #Entities total  \\\n",
       "0      R-HSA-5578775  Ion homeostasis               20               64   \n",
       "\n",
       "   #Interactors found  #Interactors total  Entities ratio  Entities pValue  \\\n",
       "0                   3                  98        0.004401     1.110223e-16   \n",
       "\n",
       "   Entities FDR  #Reactions found  #Reactions total  Reactions ratio  \\\n",
       "0  4.718448e-14                13                16         0.001184   \n",
       "\n",
       "   Species identifier  Species name  \\\n",
       "0                9606  Homo sapiens   \n",
       "\n",
       "                            Submitted entities found  \\\n",
       "0  Q96D31;Q14643;Q92736;Q13586;P30626;P32418;P0DP...   \n",
       "\n",
       "                                     Mapped entities  \\\n",
       "0  Q96D31;Q14643;Q92736;Q13586;P30626;P32418;P0DP...   \n",
       "\n",
       "  Submitted entities hit interactor Interacts with  \\\n",
       "0              P30626;P49810;P05067  P17612;P30626   \n",
       "\n",
       "                          Found reaction identifiers  \n",
       "0  R-HSA-427910;R-HSA-418309;R-HSA-2855020;R-HSA-...  "
      ]
     },
     "execution_count": 2,
     "metadata": {},
     "output_type": "execute_result"
    }
   ],
   "source": [
    "df_cvd = pd.read_csv(\"reactome-result-cvd.csv\")\n",
    "df_cvd.head(1)"
   ]
  },
  {
   "cell_type": "code",
   "execution_count": 3,
   "metadata": {},
   "outputs": [
    {
     "data": {
      "text/plain": [
       "(1188, 19)"
      ]
     },
     "execution_count": 3,
     "metadata": {},
     "output_type": "execute_result"
    }
   ],
   "source": [
    "df_cvd.shape"
   ]
  },
  {
   "cell_type": "markdown",
   "metadata": {},
   "source": [
    "- What are the coluns in the data?"
   ]
  },
  {
   "cell_type": "code",
   "execution_count": 4,
   "metadata": {},
   "outputs": [
    {
     "data": {
      "text/plain": [
       "Index(['Pathway identifier', 'Pathway name', '#Entities found',\n",
       "       '#Entities total', '#Interactors found', '#Interactors total',\n",
       "       'Entities ratio', 'Entities pValue', 'Entities FDR', '#Reactions found',\n",
       "       '#Reactions total', 'Reactions ratio', 'Species identifier',\n",
       "       'Species name', 'Submitted entities found', 'Mapped entities',\n",
       "       'Submitted entities hit interactor', 'Interacts with',\n",
       "       'Found reaction identifiers'],\n",
       "      dtype='object')"
      ]
     },
     "execution_count": 4,
     "metadata": {},
     "output_type": "execute_result"
    }
   ],
   "source": [
    "df_cvd.columns"
   ]
  },
  {
   "cell_type": "markdown",
   "metadata": {},
   "source": [
    "- Lets set pathways as the index of the data"
   ]
  },
  {
   "cell_type": "code",
   "execution_count": 5,
   "metadata": {},
   "outputs": [],
   "source": [
    "df_cvd = df_cvd.set_index(\"Pathway name\")"
   ]
  },
  {
   "cell_type": "markdown",
   "metadata": {},
   "source": [
    "- What are the top 30 pathways involved?"
   ]
  },
  {
   "cell_type": "code",
   "execution_count": 6,
   "metadata": {
    "scrolled": false
   },
   "outputs": [
    {
     "data": {
      "text/plain": [
       "Index(['Ion homeostasis', 'Cardiac conduction', 'Muscle contraction',\n",
       "       'Ion channel transport', 'Platelet calcium homeostasis',\n",
       "       'Stimuli-sensing channels', 'Phase 0 - rapid depolarisation',\n",
       "       'Platelet homeostasis', 'Elevation of cytosolic Ca2+ levels',\n",
       "       'Reduction of cytosolic Ca++ levels',\n",
       "       'Negative regulation of NMDA receptor-mediated neuronal transmission',\n",
       "       'Ion transport by P-type ATPases',\n",
       "       'Unblocking of NMDA receptors, glutamate binding and activation',\n",
       "       'Presynaptic depolarization and calcium channel opening',\n",
       "       'Phase 2 - plateau phase', 'Transport of small molecules',\n",
       "       'CLEC7A (Dectin-1) induces NFAT activation', 'NCAM1 interactions',\n",
       "       'Loss of phosphorylation of MECP2 at T308', 'Sodium/Calcium exchangers',\n",
       "       'Regulation of insulin secretion', 'TRP channels',\n",
       "       'Striated Muscle Contraction',\n",
       "       'Response to elevated platelet cytosolic Ca2+',\n",
       "       'NOTCH4 Activation and Transmission of Signal to the Nucleus',\n",
       "       'Loss of function of MECP2 in Rett syndrome',\n",
       "       'Disorders of Developmental Biology',\n",
       "       'Pervasive developmental disorders',\n",
       "       'Disorders of Nervous System Development', 'Long-term potentiation'],\n",
       "      dtype='object', name='Pathway name')"
      ]
     },
     "execution_count": 6,
     "metadata": {},
     "output_type": "execute_result"
    }
   ],
   "source": [
    "df_cvd.index[0:30]"
   ]
  },
  {
   "cell_type": "markdown",
   "metadata": {},
   "source": [
    "#### Protein Node Data"
   ]
  },
  {
   "cell_type": "code",
   "execution_count": 7,
   "metadata": {},
   "outputs": [],
   "source": [
    "'''Lets collect all proteins in a list and find unique proteins'''\n",
    "\n",
    "allproteins = []\n",
    "\n",
    "for item in df_cvd['Submitted entities found']:\n",
    "    \n",
    "    #protein list for a pathway may also be vacant\n",
    "    try:\n",
    "        Proteins = item.split(\";\")\n",
    "    except:\n",
    "        continue\n",
    "        \n",
    "    allproteins += Proteins\n",
    "    \n",
    "#find unique protein set\n",
    "unique_proteins = list(set(allproteins))"
   ]
  },
  {
   "cell_type": "code",
   "execution_count": 8,
   "metadata": {},
   "outputs": [],
   "source": [
    "'''Create a dataframe'''\n",
    "protein_nodes = pd.DataFrame()\n",
    "protein_nodes[\"Protein\"] = unique_proteins"
   ]
  },
  {
   "cell_type": "code",
   "execution_count": 9,
   "metadata": {},
   "outputs": [],
   "source": [
    "'''save the datafile'''\n",
    "protein_nodes.to_csv(\"protein_nodes.csv\")"
   ]
  },
  {
   "cell_type": "markdown",
   "metadata": {},
   "source": [
    "#### Pathway Node Data"
   ]
  },
  {
   "cell_type": "code",
   "execution_count": 10,
   "metadata": {},
   "outputs": [],
   "source": [
    "'''collect all pathways'''\n",
    "Pathways = []\n",
    "for ID, pw in zip(df_cvd['Pathway identifier'],df_cvd.index):\n",
    "    Pathways.append({\"ID\":ID, \"Pathway\":pw})"
   ]
  },
  {
   "cell_type": "code",
   "execution_count": 11,
   "metadata": {},
   "outputs": [],
   "source": [
    "'''create a dataframe'''\n",
    "pathway_nodes = pd.DataFrame(Pathways)"
   ]
  },
  {
   "cell_type": "code",
   "execution_count": 12,
   "metadata": {},
   "outputs": [],
   "source": [
    "'''save the datafile'''\n",
    "pathway_nodes.to_csv(\"pathway-nodes.csv\")"
   ]
  },
  {
   "cell_type": "markdown",
   "metadata": {},
   "source": [
    "#### Pathways to Protein Edge data"
   ]
  },
  {
   "cell_type": "code",
   "execution_count": 13,
   "metadata": {},
   "outputs": [],
   "source": [
    "pw2proteins_dict = {}\n",
    "pw2proteins_list = []\n",
    "\n",
    "for pw_ID, pw_name, ps in zip(df_cvd['Pathway identifier'], df_cvd.index, df_cvd['Submitted entities found']):\n",
    "    \n",
    "    pathway = pw_name\n",
    "    ID = pw_ID\n",
    "    \n",
    "    #protein list for a pathway may also be vacant\n",
    "    try:\n",
    "        proteins = ps.split(\";\")\n",
    "    except:\n",
    "        continue\n",
    "    \n",
    "    #print(pathway, proteins)\n",
    "    #print(proteins)\n",
    "    \n",
    "    pw2proteins_dict.update({pathway:proteins})\n",
    "    \n",
    "    \n",
    "    for p in proteins:\n",
    "        pw2proteins_list.append({\"ID\" : ID,\\\n",
    "                                 \"Pathway\":pathway,\\\n",
    "                                 \"Protein\":p,\\\n",
    "                                 \"Relation\": \"INVOLVED_IN\"})"
   ]
  },
  {
   "cell_type": "code",
   "execution_count": 14,
   "metadata": {},
   "outputs": [],
   "source": [
    "'''create a dataframe'''\n",
    "df_pw2ps = pd.DataFrame(pw2proteins_list)"
   ]
  },
  {
   "cell_type": "code",
   "execution_count": 15,
   "metadata": {},
   "outputs": [
    {
     "data": {
      "text/html": [
       "<div>\n",
       "<style scoped>\n",
       "    .dataframe tbody tr th:only-of-type {\n",
       "        vertical-align: middle;\n",
       "    }\n",
       "\n",
       "    .dataframe tbody tr th {\n",
       "        vertical-align: top;\n",
       "    }\n",
       "\n",
       "    .dataframe thead th {\n",
       "        text-align: right;\n",
       "    }\n",
       "</style>\n",
       "<table border=\"1\" class=\"dataframe\">\n",
       "  <thead>\n",
       "    <tr style=\"text-align: right;\">\n",
       "      <th></th>\n",
       "      <th>ID</th>\n",
       "      <th>Pathway</th>\n",
       "      <th>Protein</th>\n",
       "      <th>Relation</th>\n",
       "    </tr>\n",
       "  </thead>\n",
       "  <tbody>\n",
       "    <tr>\n",
       "      <th>0</th>\n",
       "      <td>R-HSA-5578775</td>\n",
       "      <td>Ion homeostasis</td>\n",
       "      <td>Q96D31</td>\n",
       "      <td>INVOLVED_IN</td>\n",
       "    </tr>\n",
       "    <tr>\n",
       "      <th>1</th>\n",
       "      <td>R-HSA-5578775</td>\n",
       "      <td>Ion homeostasis</td>\n",
       "      <td>Q14643</td>\n",
       "      <td>INVOLVED_IN</td>\n",
       "    </tr>\n",
       "    <tr>\n",
       "      <th>2</th>\n",
       "      <td>R-HSA-5578775</td>\n",
       "      <td>Ion homeostasis</td>\n",
       "      <td>Q92736</td>\n",
       "      <td>INVOLVED_IN</td>\n",
       "    </tr>\n",
       "    <tr>\n",
       "      <th>3</th>\n",
       "      <td>R-HSA-5578775</td>\n",
       "      <td>Ion homeostasis</td>\n",
       "      <td>Q13586</td>\n",
       "      <td>INVOLVED_IN</td>\n",
       "    </tr>\n",
       "    <tr>\n",
       "      <th>4</th>\n",
       "      <td>R-HSA-5578775</td>\n",
       "      <td>Ion homeostasis</td>\n",
       "      <td>P30626</td>\n",
       "      <td>INVOLVED_IN</td>\n",
       "    </tr>\n",
       "  </tbody>\n",
       "</table>\n",
       "</div>"
      ],
      "text/plain": [
       "              ID          Pathway Protein     Relation\n",
       "0  R-HSA-5578775  Ion homeostasis  Q96D31  INVOLVED_IN\n",
       "1  R-HSA-5578775  Ion homeostasis  Q14643  INVOLVED_IN\n",
       "2  R-HSA-5578775  Ion homeostasis  Q92736  INVOLVED_IN\n",
       "3  R-HSA-5578775  Ion homeostasis  Q13586  INVOLVED_IN\n",
       "4  R-HSA-5578775  Ion homeostasis  P30626  INVOLVED_IN"
      ]
     },
     "execution_count": 15,
     "metadata": {},
     "output_type": "execute_result"
    }
   ],
   "source": [
    "df_pw2ps.head()"
   ]
  },
  {
   "cell_type": "code",
   "execution_count": 16,
   "metadata": {},
   "outputs": [],
   "source": [
    "'''save the datafile'''\n",
    "df_pw2ps.to_csv(\"pw2protein-edge.csv\")"
   ]
  },
  {
   "cell_type": "markdown",
   "metadata": {},
   "source": [
    "### Construct Knowledgegraph - From Neo4j Browser"
   ]
  },
  {
   "cell_type": "markdown",
   "metadata": {},
   "source": [
    "0. Install Neo4j desktop,create a local database and start database, run neo4j browser\n",
    "1. Open database folder and load datafiles into import folder\n",
    "2. Copy pest these Sypher commands one-by-one directly in the cell of Neo4j browser\n",
    "3. Explore the knowledgegraph"
   ]
  },
  {
   "cell_type": "markdown",
   "metadata": {},
   "source": [
    "- Create Protein Nodes"
   ]
  },
  {
   "cell_type": "code",
   "execution_count": null,
   "metadata": {},
   "outputs": [],
   "source": [
    "*** DO NOT RUN IN THE CELL HERE, RUN AT NEO4J BROWSER CELL***\n",
    "\n",
    "CREATE CONSTRAINT UniqueProteinIdConstraint ON (p:Protein) ASSERT p.id IS UNIQUE;\n",
    "\n",
    "LOAD CSV WITH HEADERS FROM\n",
    "  'file:///protein-nodes.csv' as row\n",
    "MERGE (p:Protein {id:row.Protein})"
   ]
  },
  {
   "cell_type": "markdown",
   "metadata": {},
   "source": [
    "- Create Pathway Nodes"
   ]
  },
  {
   "cell_type": "code",
   "execution_count": null,
   "metadata": {},
   "outputs": [],
   "source": [
    "*** DO NOT RUN IN THE CELL HERE, RUN AT NEO4J BROWSER CELL***\n",
    "\n",
    "CREATE CONSTRAINT UniquePathwayIdConstraint ON (pw:Pathway) ASSERT pw.id IS UNIQUE;\n",
    "\n",
    "LOAD CSV WITH HEADERS FROM\n",
    "  'file:///pathway-nodes.csv' as row\n",
    "MERGE (pw:Pathway {id:row.ID})\n",
    "    ON CREATE SET\n",
    "        pw.name = row.Pathway,"
   ]
  },
  {
   "cell_type": "markdown",
   "metadata": {},
   "source": [
    "- Create Edges between Protein and Pathways"
   ]
  },
  {
   "cell_type": "code",
   "execution_count": null,
   "metadata": {},
   "outputs": [],
   "source": [
    "*** DO NOT RUN IN THE CELL HERE, RUN AT NEO4J BROWSER CELL***\n",
    "\n",
    "LOAD CSV WITH HEADERS FROM\n",
    "  'file:///pw2protein-edge.csv' as row\n",
    "MATCH (pw:Pathway{id:row.Pathway})\n",
    "MATCH (p:Protein{id:row.Protein})\n",
    "MERGE (pw)-[:INVOLVED_IN]->(p)"
   ]
  },
  {
   "cell_type": "markdown",
   "metadata": {},
   "source": [
    "### Create Knowledgegraph - From Jupyter Notebook and  Neo4j Database API"
   ]
  },
  {
   "cell_type": "code",
   "execution_count": 26,
   "metadata": {},
   "outputs": [],
   "source": [
    "#!pip install neo4j"
   ]
  },
  {
   "cell_type": "code",
   "execution_count": 17,
   "metadata": {},
   "outputs": [],
   "source": [
    "import pandas as pd\n",
    "import json\n",
    "from neo4j import GraphDatabase"
   ]
  },
  {
   "cell_type": "code",
   "execution_count": 20,
   "metadata": {},
   "outputs": [],
   "source": [
    "driver = GraphDatabase.driver(uri = \"bolt://52.40.20.135:7687\",\\\n",
    "                              auth = (\"neo4j\",\"Aim1008\"))"
   ]
  },
  {
   "cell_type": "markdown",
   "metadata": {},
   "source": [
    "- Create Protein Nodes"
   ]
  },
  {
   "cell_type": "code",
   "execution_count": 31,
   "metadata": {},
   "outputs": [
    {
     "data": {
      "text/plain": [
       "'UNCOMMENT AND RUN THIS CELL ONLY ONCE'"
      ]
     },
     "execution_count": 31,
     "metadata": {},
     "output_type": "execute_result"
    }
   ],
   "source": [
    "'''UNCOMMENT AND RUN THIS CELL ONLY ONCE'''\n",
    "#query = \"CREATE CONSTRAINT UniqueProteinIdConstraint ON (p:Protein) ASSERT p.id IS UNIQUE;\"\n",
    "#with driver.session() as session:\n",
    "#    info = session.run(query)"
   ]
  },
  {
   "cell_type": "code",
   "execution_count": 24,
   "metadata": {},
   "outputs": [],
   "source": [
    "def create_protein_nodes(tx, name):\n",
    "    #\"CREATE (p1:Person { name: $person1_name }) \"\n",
    "    query = \"MERGE (p:Protein{id:$name})\"\n",
    "    tx.run(query, name=name)"
   ]
  },
  {
   "cell_type": "code",
   "execution_count": 25,
   "metadata": {},
   "outputs": [],
   "source": [
    "with driver.session() as session:\n",
    "    for item in protein_nodes[\"Protein\"]:\n",
    "        session.write_transaction(create_protein_nodes, item)"
   ]
  },
  {
   "cell_type": "markdown",
   "metadata": {},
   "source": [
    "- Create Pathways Nodes"
   ]
  },
  {
   "cell_type": "code",
   "execution_count": 26,
   "metadata": {},
   "outputs": [
    {
     "data": {
      "text/plain": [
       "'UNCOMMENT and RUN THIS CELL ONLY ONCE'"
      ]
     },
     "execution_count": 26,
     "metadata": {},
     "output_type": "execute_result"
    }
   ],
   "source": [
    "'''UNCOMMENT and RUN THIS CELL ONLY ONCE'''\n",
    "#query = \"CREATE CONSTRAINT UniquePathwayIdConstraint ON (pw:Pathway) ASSERT pw.id IS UNIQUE;\"\n",
    "#with driver.session() as session:\n",
    "#    info = session.run(query)"
   ]
  },
  {
   "cell_type": "code",
   "execution_count": 27,
   "metadata": {},
   "outputs": [],
   "source": [
    "def create_pathway_nodes(tx, ID, name):\n",
    "    #\"CREATE (p1:Person { name: $person1_name }) \"\n",
    "    query = \"CREATE (pw:Pathway {id:$ID,name:$name})\"\n",
    "    tx.run(query, ID=ID, name=name)"
   ]
  },
  {
   "cell_type": "code",
   "execution_count": 28,
   "metadata": {},
   "outputs": [],
   "source": [
    "with driver.session() as session:\n",
    "    for ID,name in zip(pathway_nodes[\"ID\"],pathway_nodes[\"Pathway\"]):\n",
    "        session.write_transaction(create_pathway_nodes, ID, name)"
   ]
  },
  {
   "cell_type": "markdown",
   "metadata": {},
   "source": [
    "- Create Pathways to Protein Edges"
   ]
  },
  {
   "cell_type": "code",
   "execution_count": 29,
   "metadata": {},
   "outputs": [],
   "source": [
    "def create_pw2p_edge(tx, pw_ID, p_ID):\n",
    "    #\"CREATE (p1:Person { name: $person1_name }) \"\n",
    "    query = '''\n",
    "    MATCH (pw:Pathway{id:$pw_ID})\n",
    "    MATCH (p:Protein{id:$p_ID})\n",
    "    MERGE (pw)-[:INVOLVED_IN]->(p)\n",
    "    '''\n",
    "    tx.run(query, pw_ID=pw_ID, p_ID=p_ID)"
   ]
  },
  {
   "cell_type": "code",
   "execution_count": 30,
   "metadata": {},
   "outputs": [],
   "source": [
    "with driver.session() as session:\n",
    "    for pw_ID, p_ID in zip(df_pw2ps[\"ID\"], df_pw2ps[\"Protein\"]):\n",
    "        session.write_transaction(create_pw2p_edge, pw_ID, p_ID)"
   ]
  },
  {
   "cell_type": "code",
   "execution_count": null,
   "metadata": {},
   "outputs": [],
   "source": []
  },
  {
   "cell_type": "markdown",
   "metadata": {},
   "source": [
    "### Restected Zone"
   ]
  },
  {
   "cell_type": "markdown",
   "metadata": {},
   "source": [
    "- Confirm APC is available"
   ]
  },
  {
   "cell_type": "code",
   "execution_count": null,
   "metadata": {},
   "outputs": [],
   "source": [
    "CALL dbms.procedures()\n",
    "YIELD name WHERE name STARTS WITH \"apoc\"\n",
    "RETURN name"
   ]
  },
  {
   "cell_type": "markdown",
   "metadata": {},
   "source": [
    "- Delete All content"
   ]
  },
  {
   "cell_type": "code",
   "execution_count": null,
   "metadata": {},
   "outputs": [],
   "source": [
    "// Delete all constraints and indexes\n",
    "CALL apoc.schema.assert({},{},true);\n",
    "// Delete all nodes and relationships\n",
    "CALL apoc.periodic.iterate(\n",
    "  'MATCH (n) RETURN n',\n",
    "  'DETACH DELETE n',\n",
    "  { batchSize:500 }\n",
    ")"
   ]
  },
  {
   "cell_type": "code",
   "execution_count": null,
   "metadata": {},
   "outputs": [],
   "source": [
    "MATCH (n)\n",
    "DETACH DELETE n"
   ]
  }
 ],
 "metadata": {
  "kernelspec": {
   "display_name": "Python 3",
   "language": "python",
   "name": "python3"
  },
  "language_info": {
   "codemirror_mode": {
    "name": "ipython",
    "version": 3
   },
   "file_extension": ".py",
   "mimetype": "text/x-python",
   "name": "python",
   "nbconvert_exporter": "python",
   "pygments_lexer": "ipython3",
   "version": "3.6.6"
  }
 },
 "nbformat": 4,
 "nbformat_minor": 2
}
