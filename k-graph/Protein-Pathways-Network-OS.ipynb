{
 "cells": [
  {
   "cell_type": "markdown",
   "metadata": {},
   "source": [
    "## Protein Pathways Network (CVD)"
   ]
  },
  {
   "cell_type": "code",
   "execution_count": 22,
   "metadata": {},
   "outputs": [],
   "source": [
    "import json as json\n",
    "import pandas as pd"
   ]
  },
  {
   "cell_type": "markdown",
   "metadata": {},
   "source": [
    "### Load Data\n",
    "\n",
    "Put data into data folder and load in the python environment"
   ]
  },
  {
   "cell_type": "code",
   "execution_count": 23,
   "metadata": {},
   "outputs": [
    {
     "data": {
      "text/html": [
       "<div>\n",
       "<style scoped>\n",
       "    .dataframe tbody tr th:only-of-type {\n",
       "        vertical-align: middle;\n",
       "    }\n",
       "\n",
       "    .dataframe tbody tr th {\n",
       "        vertical-align: top;\n",
       "    }\n",
       "\n",
       "    .dataframe thead th {\n",
       "        text-align: right;\n",
       "    }\n",
       "</style>\n",
       "<table border=\"1\" class=\"dataframe\">\n",
       "  <thead>\n",
       "    <tr style=\"text-align: right;\">\n",
       "      <th></th>\n",
       "      <th>Pathway identifier</th>\n",
       "      <th>Pathway name</th>\n",
       "      <th>#Entities found</th>\n",
       "      <th>#Entities total</th>\n",
       "      <th>#Interactors found</th>\n",
       "      <th>#Interactors total</th>\n",
       "      <th>Entities ratio</th>\n",
       "      <th>Entities pValue</th>\n",
       "      <th>Entities FDR</th>\n",
       "      <th>#Reactions found</th>\n",
       "      <th>#Reactions total</th>\n",
       "      <th>Reactions ratio</th>\n",
       "      <th>Species identifier</th>\n",
       "      <th>Species name</th>\n",
       "      <th>Submitted entities found</th>\n",
       "      <th>Mapped entities</th>\n",
       "      <th>Submitted entities hit interactor</th>\n",
       "      <th>Interacts with</th>\n",
       "      <th>Found reaction identifiers</th>\n",
       "    </tr>\n",
       "  </thead>\n",
       "  <tbody>\n",
       "    <tr>\n",
       "      <th>0</th>\n",
       "      <td>R-HSA-5578775</td>\n",
       "      <td>Ion homeostasis</td>\n",
       "      <td>20</td>\n",
       "      <td>64</td>\n",
       "      <td>3</td>\n",
       "      <td>98</td>\n",
       "      <td>0.004401</td>\n",
       "      <td>1.110223e-16</td>\n",
       "      <td>4.718448e-14</td>\n",
       "      <td>13</td>\n",
       "      <td>16</td>\n",
       "      <td>0.001184</td>\n",
       "      <td>9606</td>\n",
       "      <td>Homo sapiens</td>\n",
       "      <td>Q96D31;Q14643;Q92736;Q13586;P30626;P32418;P0DP...</td>\n",
       "      <td>Q96D31;Q14643;Q92736;Q13586;P30626;P32418;P0DP...</td>\n",
       "      <td>P30626;P49810;P05067</td>\n",
       "      <td>P17612;P30626</td>\n",
       "      <td>R-HSA-427910;R-HSA-418309;R-HSA-2855020;R-HSA-...</td>\n",
       "    </tr>\n",
       "  </tbody>\n",
       "</table>\n",
       "</div>"
      ],
      "text/plain": [
       "  Pathway identifier     Pathway name  #Entities found  #Entities total  \\\n",
       "0      R-HSA-5578775  Ion homeostasis               20               64   \n",
       "\n",
       "   #Interactors found  #Interactors total  Entities ratio  Entities pValue  \\\n",
       "0                   3                  98        0.004401     1.110223e-16   \n",
       "\n",
       "   Entities FDR  #Reactions found  #Reactions total  Reactions ratio  \\\n",
       "0  4.718448e-14                13                16         0.001184   \n",
       "\n",
       "   Species identifier  Species name  \\\n",
       "0                9606  Homo sapiens   \n",
       "\n",
       "                            Submitted entities found  \\\n",
       "0  Q96D31;Q14643;Q92736;Q13586;P30626;P32418;P0DP...   \n",
       "\n",
       "                                     Mapped entities  \\\n",
       "0  Q96D31;Q14643;Q92736;Q13586;P30626;P32418;P0DP...   \n",
       "\n",
       "  Submitted entities hit interactor Interacts with  \\\n",
       "0              P30626;P49810;P05067  P17612;P30626   \n",
       "\n",
       "                          Found reaction identifiers  \n",
       "0  R-HSA-427910;R-HSA-418309;R-HSA-2855020;R-HSA-...  "
      ]
     },
     "execution_count": 23,
     "metadata": {},
     "output_type": "execute_result"
    }
   ],
   "source": [
    "df_cvd = pd.read_csv(\"data/reactome-result-os.csv\")\n",
    "df_cvd.head(1)"
   ]
  },
  {
   "cell_type": "code",
   "execution_count": 24,
   "metadata": {},
   "outputs": [
    {
     "data": {
      "text/plain": [
       "(1188, 19)"
      ]
     },
     "execution_count": 24,
     "metadata": {},
     "output_type": "execute_result"
    }
   ],
   "source": [
    "df_cvd.shape"
   ]
  },
  {
   "cell_type": "markdown",
   "metadata": {},
   "source": [
    "- What are the coluns in the data?"
   ]
  },
  {
   "cell_type": "code",
   "execution_count": 25,
   "metadata": {},
   "outputs": [
    {
     "data": {
      "text/plain": [
       "Index(['Pathway identifier', 'Pathway name', '#Entities found',\n",
       "       '#Entities total', '#Interactors found', '#Interactors total',\n",
       "       'Entities ratio', 'Entities pValue', 'Entities FDR', '#Reactions found',\n",
       "       '#Reactions total', 'Reactions ratio', 'Species identifier',\n",
       "       'Species name', 'Submitted entities found', 'Mapped entities',\n",
       "       'Submitted entities hit interactor', 'Interacts with',\n",
       "       'Found reaction identifiers'],\n",
       "      dtype='object')"
      ]
     },
     "execution_count": 25,
     "metadata": {},
     "output_type": "execute_result"
    }
   ],
   "source": [
    "df_cvd.columns"
   ]
  },
  {
   "cell_type": "markdown",
   "metadata": {},
   "source": [
    "- Lets set pathways as the index of the data"
   ]
  },
  {
   "cell_type": "code",
   "execution_count": 29,
   "metadata": {},
   "outputs": [],
   "source": [
    "df_cvd = df_cvd.set_index(\"Pathway name\")"
   ]
  },
  {
   "cell_type": "markdown",
   "metadata": {},
   "source": [
    "- What are the top 30 pathways involved?"
   ]
  },
  {
   "cell_type": "code",
   "execution_count": 30,
   "metadata": {
    "scrolled": false
   },
   "outputs": [
    {
     "data": {
      "text/plain": [
       "Index(['Ion homeostasis', 'Cardiac conduction', 'Muscle contraction',\n",
       "       'Ion channel transport', 'Platelet calcium homeostasis',\n",
       "       'Stimuli-sensing channels', 'Phase 0 - rapid depolarisation',\n",
       "       'Platelet homeostasis', 'Elevation of cytosolic Ca2+ levels',\n",
       "       'Reduction of cytosolic Ca++ levels',\n",
       "       'Negative regulation of NMDA receptor-mediated neuronal transmission',\n",
       "       'Ion transport by P-type ATPases',\n",
       "       'Unblocking of NMDA receptors, glutamate binding and activation',\n",
       "       'Presynaptic depolarization and calcium channel opening',\n",
       "       'Phase 2 - plateau phase', 'Transport of small molecules',\n",
       "       'CLEC7A (Dectin-1) induces NFAT activation', 'NCAM1 interactions',\n",
       "       'Loss of phosphorylation of MECP2 at T308', 'Sodium/Calcium exchangers',\n",
       "       'Regulation of insulin secretion', 'TRP channels',\n",
       "       'Striated Muscle Contraction',\n",
       "       'Response to elevated platelet cytosolic Ca2+',\n",
       "       'NOTCH4 Activation and Transmission of Signal to the Nucleus',\n",
       "       'Loss of function of MECP2 in Rett syndrome',\n",
       "       'Disorders of Developmental Biology',\n",
       "       'Pervasive developmental disorders',\n",
       "       'Disorders of Nervous System Development', 'Long-term potentiation'],\n",
       "      dtype='object', name='Pathway name')"
      ]
     },
     "execution_count": 30,
     "metadata": {},
     "output_type": "execute_result"
    }
   ],
   "source": [
    "df_cvd.index[0:30]"
   ]
  },
  {
   "cell_type": "markdown",
   "metadata": {},
   "source": [
    "#### Protein Node Data"
   ]
  },
  {
   "cell_type": "code",
   "execution_count": 55,
   "metadata": {},
   "outputs": [],
   "source": [
    "'''Lets collect all proteins in a list and find unique proteins'''\n",
    "\n",
    "allproteins = []\n",
    "\n",
    "for item in df_cvd['Submitted entities found']:\n",
    "    \n",
    "    #protein list for a pathway may also be vacant\n",
    "    try:\n",
    "        Proteins = item.split(\";\")\n",
    "    except:\n",
    "        continue\n",
    "        \n",
    "    allproteins += Proteins\n",
    "    \n",
    "#find unique protein set\n",
    "unique_proteins = list(set(allproteins))"
   ]
  },
  {
   "cell_type": "code",
   "execution_count": 59,
   "metadata": {},
   "outputs": [],
   "source": [
    "'''Create a dataframe'''\n",
    "protein_nodes = pd.DataFrame()\n",
    "protein_nodes[\"Protein\"] = unique_proteins"
   ]
  },
  {
   "cell_type": "code",
   "execution_count": 61,
   "metadata": {},
   "outputs": [],
   "source": [
    "'''save the datafile'''\n",
    "protein_nodes.to_csv(\"kgdata/protein_nodes.csv\")"
   ]
  },
  {
   "cell_type": "markdown",
   "metadata": {},
   "source": [
    "#### Pathway Node Data"
   ]
  },
  {
   "cell_type": "code",
   "execution_count": 62,
   "metadata": {},
   "outputs": [],
   "source": [
    "'''collect all pathways'''\n",
    "Pathways = []\n",
    "for ID, pw in zip(df_cvd['Pathway identifier'],df_cvd.index):\n",
    "    Pathways.append({\"ID\":ID, \"Pathway\":pw})"
   ]
  },
  {
   "cell_type": "code",
   "execution_count": 63,
   "metadata": {},
   "outputs": [],
   "source": [
    "'''create a dataframe'''\n",
    "pathway_nodes = pd.DataFrame(Pathways)"
   ]
  },
  {
   "cell_type": "code",
   "execution_count": 69,
   "metadata": {},
   "outputs": [],
   "source": [
    "'''save the datafile'''\n",
    "pathway_nodes.to_csv(\"kgdata/pathway-nodes.csv\")"
   ]
  },
  {
   "cell_type": "markdown",
   "metadata": {},
   "source": [
    "#### Pathways to Protein Edge data"
   ]
  },
  {
   "cell_type": "code",
   "execution_count": 44,
   "metadata": {},
   "outputs": [],
   "source": [
    "pw2proteins_dict = {}\n",
    "pw2proteins_list = []\n",
    "\n",
    "for pw,ps in zip(df_cvd.index, df_cvd['Submitted entities found']):\n",
    "    \n",
    "    pathway = pw\n",
    "    \n",
    "    #protein list for a pathway may also be vacant\n",
    "    try:\n",
    "        proteins = ps.split(\";\")\n",
    "    except:\n",
    "        continue\n",
    "    \n",
    "    #print(pathway, proteins)\n",
    "    #print(proteins)\n",
    "    \n",
    "    pw2proteins_dict.update({pathway:proteins})\n",
    "    \n",
    "    \n",
    "    for p in proteins:\n",
    "        pw2proteins_list.append({\"Pathway\":pathway,\"Protein\":p,\"Relation\": \"INVOLVED_IN\"})"
   ]
  },
  {
   "cell_type": "code",
   "execution_count": 45,
   "metadata": {},
   "outputs": [],
   "source": [
    "'''create a dataframe'''\n",
    "df_pw2ps = pd.DataFrame(pw2proteins_list)"
   ]
  },
  {
   "cell_type": "code",
   "execution_count": 46,
   "metadata": {},
   "outputs": [
    {
     "data": {
      "text/html": [
       "<div>\n",
       "<style scoped>\n",
       "    .dataframe tbody tr th:only-of-type {\n",
       "        vertical-align: middle;\n",
       "    }\n",
       "\n",
       "    .dataframe tbody tr th {\n",
       "        vertical-align: top;\n",
       "    }\n",
       "\n",
       "    .dataframe thead th {\n",
       "        text-align: right;\n",
       "    }\n",
       "</style>\n",
       "<table border=\"1\" class=\"dataframe\">\n",
       "  <thead>\n",
       "    <tr style=\"text-align: right;\">\n",
       "      <th></th>\n",
       "      <th>Pathway</th>\n",
       "      <th>Protein</th>\n",
       "      <th>Relation</th>\n",
       "    </tr>\n",
       "  </thead>\n",
       "  <tbody>\n",
       "    <tr>\n",
       "      <th>0</th>\n",
       "      <td>Ion homeostasis</td>\n",
       "      <td>Q96D31</td>\n",
       "      <td>INVOLVED_IN</td>\n",
       "    </tr>\n",
       "    <tr>\n",
       "      <th>1</th>\n",
       "      <td>Ion homeostasis</td>\n",
       "      <td>Q14643</td>\n",
       "      <td>INVOLVED_IN</td>\n",
       "    </tr>\n",
       "    <tr>\n",
       "      <th>2</th>\n",
       "      <td>Ion homeostasis</td>\n",
       "      <td>Q92736</td>\n",
       "      <td>INVOLVED_IN</td>\n",
       "    </tr>\n",
       "    <tr>\n",
       "      <th>3</th>\n",
       "      <td>Ion homeostasis</td>\n",
       "      <td>Q13586</td>\n",
       "      <td>INVOLVED_IN</td>\n",
       "    </tr>\n",
       "    <tr>\n",
       "      <th>4</th>\n",
       "      <td>Ion homeostasis</td>\n",
       "      <td>P30626</td>\n",
       "      <td>INVOLVED_IN</td>\n",
       "    </tr>\n",
       "  </tbody>\n",
       "</table>\n",
       "</div>"
      ],
      "text/plain": [
       "           Pathway Protein     Relation\n",
       "0  Ion homeostasis  Q96D31  INVOLVED_IN\n",
       "1  Ion homeostasis  Q14643  INVOLVED_IN\n",
       "2  Ion homeostasis  Q92736  INVOLVED_IN\n",
       "3  Ion homeostasis  Q13586  INVOLVED_IN\n",
       "4  Ion homeostasis  P30626  INVOLVED_IN"
      ]
     },
     "execution_count": 46,
     "metadata": {},
     "output_type": "execute_result"
    }
   ],
   "source": [
    "df_pw2ps.head()"
   ]
  },
  {
   "cell_type": "code",
   "execution_count": 70,
   "metadata": {},
   "outputs": [],
   "source": [
    "'''save the datafile'''\n",
    "df_pw2ps.to_csv(\"kgdata/pw2protein-edge.csv\")"
   ]
  },
  {
   "cell_type": "markdown",
   "metadata": {},
   "source": [
    "### Construct Knowledgegraph"
   ]
  },
  {
   "cell_type": "markdown",
   "metadata": {},
   "source": [
    "0. Install Neo4j desktop,create a local database and start database, run neo4j browser\n",
    "1. Open database folder and load datafiles into import folder\n",
    "2. Copy pest these Sypher commands one-by-one directly in the cell of Neo4j browser\n",
    "3. Explore the knowledgegraph"
   ]
  },
  {
   "cell_type": "markdown",
   "metadata": {},
   "source": [
    "- Create Protein Nodes"
   ]
  },
  {
   "cell_type": "code",
   "execution_count": null,
   "metadata": {},
   "outputs": [],
   "source": [
    "CREATE CONSTRAINT UniqueProteinIdConstraint ON (p:Protein) ASSERT p.id IS UNIQUE;\n",
    "\n",
    "LOAD CSV WITH HEADERS FROM\n",
    "  'file:///protein-nodes.csv' as row\n",
    "MERGE (p:Protein {id:row.Protein})"
   ]
  },
  {
   "cell_type": "markdown",
   "metadata": {},
   "source": [
    "- Create Pathway Nodes"
   ]
  },
  {
   "cell_type": "code",
   "execution_count": null,
   "metadata": {},
   "outputs": [],
   "source": [
    "CREATE CONSTRAINT UniquePathwayIdConstraint ON (pw:Pathway) ASSERT pw.id IS UNIQUE;\n",
    "\n",
    "LOAD CSV WITH HEADERS FROM\n",
    "  'file:///pathway-nodes.csv' as row\n",
    "MERGE (pw:Pathway {id:row.ID})\n",
    "    ON CREATE SET\n",
    "        pw.name = row.Pathway,"
   ]
  },
  {
   "cell_type": "markdown",
   "metadata": {},
   "source": [
    "- Create Edges between Protein and Pathways"
   ]
  },
  {
   "cell_type": "code",
   "execution_count": null,
   "metadata": {},
   "outputs": [],
   "source": [
    "LOAD CSV WITH HEADERS FROM\n",
    "  'file:///pw2protein-edge.csv' as row\n",
    "MATCH (pw:Pathway{id:row.Pathway})\n",
    "MATCH (p:Protein{id:row.Protein})\n",
    "MERGE (pw)-[:INVOLVED_IN]->(p)"
   ]
  },
  {
   "cell_type": "markdown",
   "metadata": {},
   "source": [
    "### Implementation of API"
   ]
  },
  {
   "cell_type": "code",
   "execution_count": null,
   "metadata": {},
   "outputs": [],
   "source": [
    "import pandas as pd\n",
    "import json\n",
    "from neo4j import GraphDatabase"
   ]
  },
  {
   "cell_type": "code",
   "execution_count": null,
   "metadata": {},
   "outputs": [],
   "source": [
    "driver = GraphDatabase.driver(uri = \"bolt://localhost:7687\", auth = (\"neo4j\",\"1234\"))"
   ]
  },
  {
   "cell_type": "code",
   "execution_count": null,
   "metadata": {},
   "outputs": [],
   "source": [
    "query = '''CREATE CONSTRAINT UniqueProteinIdConstraint ON (p:Protein) ASSERT p.id IS UNIQUE;\n",
    "LOAD CSV WITH HEADERS FROM\n",
    "'file:///protein-nodes.csv' as row\n",
    "MERGE (p:Protein {id:row.Protein})'''\n",
    "\n",
    "with driver.session() as session:\n",
    "    info = session.run(query)"
   ]
  },
  {
   "cell_type": "code",
   "execution_count": null,
   "metadata": {},
   "outputs": [],
   "source": [
    "query = '''CREATE CONSTRAINT UniquePathwayIdConstraint ON (pw:Pathway) ASSERT pw.id IS UNIQUE;\n",
    "LOAD CSV WITH HEADERS FROM\n",
    "  'file:///pathway-nodes.csv' as row\n",
    "MERGE (pw:Pathway {id:row.ID})\n",
    "    ON CREATE SET\n",
    "        pw.name = row.Pathway'''\n",
    "\n",
    "with driver.session() as session:\n",
    "    info = session.run(query)"
   ]
  },
  {
   "cell_type": "code",
   "execution_count": null,
   "metadata": {},
   "outputs": [],
   "source": [
    "query = '''LOAD CSV WITH HEADERS FROM\n",
    "  'file:///pw2protein-edge.csv' as row\n",
    "MATCH (pw:Pathway{id:row.Pathway})\n",
    "MATCH (p:Protein{id:row.Protein})\n",
    "MERGE (pw)-[:INVOLVED_IN]->(p)'''\n",
    "\n",
    "with driver.session() as session:\n",
    "    info = session.run(query)"
   ]
  },
  {
   "cell_type": "code",
   "execution_count": null,
   "metadata": {},
   "outputs": [],
   "source": []
  },
  {
   "cell_type": "code",
   "execution_count": null,
   "metadata": {},
   "outputs": [],
   "source": []
  },
  {
   "cell_type": "code",
   "execution_count": null,
   "metadata": {},
   "outputs": [],
   "source": []
  }
 ],
 "metadata": {
  "kernelspec": {
   "display_name": "Python 3",
   "language": "python",
   "name": "python3"
  },
  "language_info": {
   "codemirror_mode": {
    "name": "ipython",
    "version": 3
   },
   "file_extension": ".py",
   "mimetype": "text/x-python",
   "name": "python",
   "nbconvert_exporter": "python",
   "pygments_lexer": "ipython3",
   "version": "3.6.6"
  }
 },
 "nbformat": 4,
 "nbformat_minor": 2
}
