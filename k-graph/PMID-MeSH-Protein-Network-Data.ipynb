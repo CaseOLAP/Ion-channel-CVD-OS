{
 "cells": [
  {
   "cell_type": "markdown",
   "metadata": {},
   "source": [
    "## PMID-MeSH-Protein Network Data"
   ]
  },
  {
   "cell_type": "markdown",
   "metadata": {},
   "source": [
    "### PMID to Protein Edge Data"
   ]
  },
  {
   "cell_type": "code",
   "execution_count": 2,
   "metadata": {},
   "outputs": [],
   "source": [
    "import pandas as pd\n",
    "import json as json"
   ]
  },
  {
   "cell_type": "markdown",
   "metadata": {},
   "source": [
    "**Entitycount data in CVD data**"
   ]
  },
  {
   "cell_type": "code",
   "execution_count": 11,
   "metadata": {},
   "outputs": [],
   "source": [
    "pmid2p = {}\n",
    "with open(\"../caseolap-cvd/data/entitycount.txt\",'r') as f:\n",
    "    for line in f:\n",
    "        pmid = line.split(\" \")[0]\n",
    "        data = line.split(\" \")[1:]\n",
    "        proteins = []\n",
    "        for item in data:\n",
    "            proteins.append(item.split(\"|\")[0])\n",
    "        \n",
    "        pmid2p.update({pmid:proteins})"
   ]
  },
  {
   "cell_type": "code",
   "execution_count": 12,
   "metadata": {},
   "outputs": [
    {
     "data": {
      "text/plain": [
       "13524"
      ]
     },
     "execution_count": 12,
     "metadata": {},
     "output_type": "execute_result"
    }
   ],
   "source": [
    "len(pmid2p.keys())"
   ]
  },
  {
   "cell_type": "markdown",
   "metadata": {},
   "source": [
    "**Entitycount data in OS data**"
   ]
  },
  {
   "cell_type": "code",
   "execution_count": 13,
   "metadata": {},
   "outputs": [],
   "source": [
    "with open(\"../caseolap-os/data/entitycount.txt\",'r') as f:\n",
    "    for line in f:\n",
    "        pmid = line.split(\" \")[0]\n",
    "        if pmid not in pmid2p:\n",
    "            data = line.split(\" \")[1:]\n",
    "            proteins = []\n",
    "            for item in data:\n",
    "                proteins.append(item.split(\"|\")[0])\n",
    "            \n",
    "       \n",
    "            pmid2p.update({pmid:proteins})"
   ]
  },
  {
   "cell_type": "code",
   "execution_count": 14,
   "metadata": {},
   "outputs": [
    {
     "data": {
      "text/plain": [
       "94702"
      ]
     },
     "execution_count": 14,
     "metadata": {},
     "output_type": "execute_result"
    }
   ],
   "source": [
    "len(pmid2p.keys())"
   ]
  },
  {
   "cell_type": "code",
   "execution_count": 15,
   "metadata": {},
   "outputs": [],
   "source": [
    "with open(\"data/pmid2p.json\",'w')as f12:\n",
    "    json.dump(pmid2p,f12)"
   ]
  },
  {
   "cell_type": "markdown",
   "metadata": {},
   "source": [
    "**PMID to Proteins Graph Data**"
   ]
  },
  {
   "cell_type": "code",
   "execution_count": 83,
   "metadata": {},
   "outputs": [],
   "source": [
    "DATA = []\n",
    "for key,value in pmid2p.items():\n",
    "    for protein in value:\n",
    "        DATA.append({\"pmid\":key,\"protein\":protein,\"edge\" : \"MENTIONS\"})"
   ]
  },
  {
   "cell_type": "code",
   "execution_count": 84,
   "metadata": {},
   "outputs": [
    {
     "data": {
      "text/html": [
       "<div>\n",
       "<style scoped>\n",
       "    .dataframe tbody tr th:only-of-type {\n",
       "        vertical-align: middle;\n",
       "    }\n",
       "\n",
       "    .dataframe tbody tr th {\n",
       "        vertical-align: top;\n",
       "    }\n",
       "\n",
       "    .dataframe thead th {\n",
       "        text-align: right;\n",
       "    }\n",
       "</style>\n",
       "<table border=\"1\" class=\"dataframe\">\n",
       "  <thead>\n",
       "    <tr style=\"text-align: right;\">\n",
       "      <th></th>\n",
       "      <th>pmid</th>\n",
       "      <th>protein</th>\n",
       "      <th>edge</th>\n",
       "    </tr>\n",
       "  </thead>\n",
       "  <tbody>\n",
       "    <tr>\n",
       "      <th>0</th>\n",
       "      <td>20091048</td>\n",
       "      <td>P56539</td>\n",
       "      <td>MENTIONS</td>\n",
       "    </tr>\n",
       "    <tr>\n",
       "      <th>1</th>\n",
       "      <td>30517097</td>\n",
       "      <td>P11532</td>\n",
       "      <td>MENTIONS</td>\n",
       "    </tr>\n",
       "    <tr>\n",
       "      <th>2</th>\n",
       "      <td>27853260</td>\n",
       "      <td>P16615</td>\n",
       "      <td>MENTIONS</td>\n",
       "    </tr>\n",
       "    <tr>\n",
       "      <th>3</th>\n",
       "      <td>19432907</td>\n",
       "      <td>P11532</td>\n",
       "      <td>MENTIONS</td>\n",
       "    </tr>\n",
       "    <tr>\n",
       "      <th>4</th>\n",
       "      <td>24898986</td>\n",
       "      <td>O00555</td>\n",
       "      <td>MENTIONS</td>\n",
       "    </tr>\n",
       "  </tbody>\n",
       "</table>\n",
       "</div>"
      ],
      "text/plain": [
       "       pmid protein      edge\n",
       "0  20091048  P56539  MENTIONS\n",
       "1  30517097  P11532  MENTIONS\n",
       "2  27853260  P16615  MENTIONS\n",
       "3  19432907  P11532  MENTIONS\n",
       "4  24898986  O00555  MENTIONS"
      ]
     },
     "execution_count": 84,
     "metadata": {},
     "output_type": "execute_result"
    }
   ],
   "source": [
    "df = pd.DataFrame(DATA)\n",
    "df.head()"
   ]
  },
  {
   "cell_type": "code",
   "execution_count": 85,
   "metadata": {},
   "outputs": [],
   "source": [
    "df.to_csv(\"kgdata/pmid2protein-edge.csv\")"
   ]
  },
  {
   "cell_type": "markdown",
   "metadata": {},
   "source": [
    "### PMID Nodes Data"
   ]
  },
  {
   "cell_type": "code",
   "execution_count": 48,
   "metadata": {},
   "outputs": [],
   "source": [
    "import sys\n",
    "import json\n",
    "from elasticsearch import Elasticsearch\n",
    "from elasticsearch_dsl import Search, Q\n",
    "from collections import Counter"
   ]
  },
  {
   "cell_type": "code",
   "execution_count": 49,
   "metadata": {},
   "outputs": [],
   "source": [
    "allpmids = df['pmid']"
   ]
  },
  {
   "cell_type": "code",
   "execution_count": 50,
   "metadata": {},
   "outputs": [
    {
     "name": "stdout",
     "output_type": "stream",
     "text": [
      "5000 entity counted!\n",
      "10000 entity counted!\n",
      "15000 entity counted!\n",
      "20000 entity counted!\n",
      "25000 entity counted!\n",
      "30000 entity counted!\n",
      "35000 entity counted!\n",
      "40000 entity counted!\n",
      "45000 entity counted!\n",
      "50000 entity counted!\n",
      "55000 entity counted!\n",
      "60000 entity counted!\n",
      "65000 entity counted!\n",
      "70000 entity counted!\n",
      "75000 entity counted!\n",
      "80000 entity counted!\n",
      "85000 entity counted!\n",
      "90000 entity counted!\n",
      "95000 entity counted!\n",
      "100000 entity counted!\n",
      "105000 entity counted!\n"
     ]
    }
   ],
   "source": [
    "\"\"\"\n",
    "Search and count entities: to optimize and find count from indexer\n",
    "\"\"\"\n",
    "es = Elasticsearch(timeout=300)\n",
    "k = 0\n",
    "Data = []\n",
    "for item in allpmids:\n",
    "        s = Search(using=es, index=\"pubmed\")\\\n",
    "                    .params(request_timeout=300)\\\n",
    "                    .query(\"match_phrase\",pmid=item)\n",
    "        \n",
    "        \n",
    "        for hit in s.scan():\n",
    "                \n",
    "                pmid = str(hit.pmid)\n",
    "                title = str(hit.title)\n",
    "                abstract = str(hit.abstract)\n",
    "                mesh = hit.MeSH\n",
    "                date = hit.date\n",
    "            \n",
    "                Data.append({\"pmid\":pmid,\\\n",
    "                             \"title\":title,\\\n",
    "                             \"abstract\":abstract,\\\n",
    "                             \"mesh\" : mesh,\\\n",
    "                             \"date\": date})  \n",
    "        \n",
    "        k = k +1\n",
    "        if k%5000 == 0:\n",
    "            print(k,'entity counted!')\n",
    "            "
   ]
  },
  {
   "cell_type": "code",
   "execution_count": 51,
   "metadata": {},
   "outputs": [
    {
     "data": {
      "text/html": [
       "<div>\n",
       "<style scoped>\n",
       "    .dataframe tbody tr th:only-of-type {\n",
       "        vertical-align: middle;\n",
       "    }\n",
       "\n",
       "    .dataframe tbody tr th {\n",
       "        vertical-align: top;\n",
       "    }\n",
       "\n",
       "    .dataframe thead th {\n",
       "        text-align: right;\n",
       "    }\n",
       "</style>\n",
       "<table border=\"1\" class=\"dataframe\">\n",
       "  <thead>\n",
       "    <tr style=\"text-align: right;\">\n",
       "      <th></th>\n",
       "      <th>pmid</th>\n",
       "      <th>title</th>\n",
       "      <th>abstract</th>\n",
       "      <th>mesh</th>\n",
       "      <th>date</th>\n",
       "    </tr>\n",
       "  </thead>\n",
       "  <tbody>\n",
       "    <tr>\n",
       "      <th>0</th>\n",
       "      <td>20091048</td>\n",
       "      <td>Cardiac sodium channelopathies.</td>\n",
       "      <td>cardiac sodium channel are protein complexes t...</td>\n",
       "      <td>[Animals, Arrhythmias, Cardiac, genetics, phys...</td>\n",
       "      <td>{'Year': '2010', 'Month': 'Jul', 'Day': '', 'S...</td>\n",
       "    </tr>\n",
       "  </tbody>\n",
       "</table>\n",
       "</div>"
      ],
      "text/plain": [
       "       pmid                            title  \\\n",
       "0  20091048  Cardiac sodium channelopathies.   \n",
       "\n",
       "                                            abstract  \\\n",
       "0  cardiac sodium channel are protein complexes t...   \n",
       "\n",
       "                                                mesh  \\\n",
       "0  [Animals, Arrhythmias, Cardiac, genetics, phys...   \n",
       "\n",
       "                                                date  \n",
       "0  {'Year': '2010', 'Month': 'Jul', 'Day': '', 'S...  "
      ]
     },
     "execution_count": 51,
     "metadata": {},
     "output_type": "execute_result"
    }
   ],
   "source": [
    "df2 = pd.DataFrame(Data)\n",
    "df2.head(1)"
   ]
  },
  {
   "cell_type": "code",
   "execution_count": 52,
   "metadata": {},
   "outputs": [],
   "source": [
    "df2.to_csv(\"kagdata/allpmid-nodes.csv\")"
   ]
  },
  {
   "cell_type": "code",
   "execution_count": 53,
   "metadata": {},
   "outputs": [
    {
     "data": {
      "text/plain": [
       "(106674, 3)"
      ]
     },
     "execution_count": 53,
     "metadata": {},
     "output_type": "execute_result"
    }
   ],
   "source": [
    "df.shape"
   ]
  },
  {
   "cell_type": "markdown",
   "metadata": {},
   "source": [
    "### PMID to MeSH Edge Data"
   ]
  },
  {
   "cell_type": "code",
   "execution_count": 72,
   "metadata": {},
   "outputs": [],
   "source": [
    "with open(\"../MeSH/name2id.json\", 'r') as ff:\n",
    "    name2id = json.load(ff)"
   ]
  },
  {
   "cell_type": "code",
   "execution_count": 74,
   "metadata": {},
   "outputs": [],
   "source": [
    "DATA = []\n",
    "for item in Data:\n",
    "    pmid = item['pmid']\n",
    "    mesh = item['mesh']\n",
    "    #print(pmid,mesh[0])\n",
    "   \n",
    "    for m in mesh:\n",
    "        m = m.lower()\n",
    "        try:\n",
    "            ID = name2id[m]\n",
    "        except:\n",
    "            ID = m\n",
    "        DATA.append({\"pmid\":pmid,\"mesh\":m, \"meshtree_id\":ID})  "
   ]
  },
  {
   "cell_type": "code",
   "execution_count": 75,
   "metadata": {},
   "outputs": [
    {
     "data": {
      "text/html": [
       "<div>\n",
       "<style scoped>\n",
       "    .dataframe tbody tr th:only-of-type {\n",
       "        vertical-align: middle;\n",
       "    }\n",
       "\n",
       "    .dataframe tbody tr th {\n",
       "        vertical-align: top;\n",
       "    }\n",
       "\n",
       "    .dataframe thead th {\n",
       "        text-align: right;\n",
       "    }\n",
       "</style>\n",
       "<table border=\"1\" class=\"dataframe\">\n",
       "  <thead>\n",
       "    <tr style=\"text-align: right;\">\n",
       "      <th></th>\n",
       "      <th>pmid</th>\n",
       "      <th>mesh</th>\n",
       "      <th>meshtree_id</th>\n",
       "    </tr>\n",
       "  </thead>\n",
       "  <tbody>\n",
       "    <tr>\n",
       "      <th>0</th>\n",
       "      <td>20091048</td>\n",
       "      <td>animals</td>\n",
       "      <td>B01.050</td>\n",
       "    </tr>\n",
       "    <tr>\n",
       "      <th>1</th>\n",
       "      <td>20091048</td>\n",
       "      <td>arrhythmias, cardiac</td>\n",
       "      <td>C23.550.073</td>\n",
       "    </tr>\n",
       "  </tbody>\n",
       "</table>\n",
       "</div>"
      ],
      "text/plain": [
       "       pmid                  mesh  meshtree_id\n",
       "0  20091048               animals      B01.050\n",
       "1  20091048  arrhythmias, cardiac  C23.550.073"
      ]
     },
     "execution_count": 75,
     "metadata": {},
     "output_type": "execute_result"
    }
   ],
   "source": [
    "df3 = pd.DataFrame(DATA)\n",
    "df3.head(2)"
   ]
  },
  {
   "cell_type": "code",
   "execution_count": 76,
   "metadata": {},
   "outputs": [],
   "source": [
    "df3.to_csv(\"kgdata/pmid2mesh-all-edge.csv\")"
   ]
  },
  {
   "cell_type": "markdown",
   "metadata": {},
   "source": [
    "### MeSH node data"
   ]
  },
  {
   "cell_type": "markdown",
   "metadata": {},
   "source": [
    "##### CVD Category and MeSH data"
   ]
  },
  {
   "cell_type": "code",
   "execution_count": 17,
   "metadata": {},
   "outputs": [],
   "source": [
    "with open(\"data/name2id.json\", \"r\")as f0:\n",
    "    name2id = json.load(f0)"
   ]
  },
  {
   "cell_type": "code",
   "execution_count": 25,
   "metadata": {},
   "outputs": [],
   "source": [
    "with open(\"data/id2name.json\", \"r\")as ff:\n",
    "    id2name = json.load(ff)"
   ]
  },
  {
   "cell_type": "code",
   "execution_count": 18,
   "metadata": {},
   "outputs": [],
   "source": [
    "with open(\"data/cvd_cat2mesh.json\", \"r\")as f1:\n",
    "    cvd_cat2mesh = json.load(f1)"
   ]
  },
  {
   "cell_type": "code",
   "execution_count": 19,
   "metadata": {},
   "outputs": [],
   "source": [
    "allmesh = {}\n",
    "for cat, meshes in cvd_cat2mesh.items():\n",
    "    for m in meshes:\n",
    "        allmesh.update({name2id[m]:m})   "
   ]
  },
  {
   "cell_type": "markdown",
   "metadata": {},
   "source": [
    "#### Add OS category MeSH data"
   ]
  },
  {
   "cell_type": "code",
   "execution_count": 28,
   "metadata": {},
   "outputs": [],
   "source": [
    "with open('data/os-categories.txt','r')as f2:\n",
    "    for line in f2:\n",
    "        meshes = line[0:-1].split(\" \")\n",
    "        for m in meshes:\n",
    "            try:\n",
    "                mname = id2name[m]\n",
    "            except:\n",
    "                continue\n",
    "                \n",
    "            allmesh.update({m:mname})"
   ]
  },
  {
   "cell_type": "code",
   "execution_count": 40,
   "metadata": {},
   "outputs": [
    {
     "data": {
      "text/plain": [
       "254"
      ]
     },
     "execution_count": 40,
     "metadata": {},
     "output_type": "execute_result"
    }
   ],
   "source": [
    "len(allmesh.keys())"
   ]
  },
  {
   "cell_type": "markdown",
   "metadata": {},
   "source": [
    "#### Select unique mesh node Data"
   ]
  },
  {
   "cell_type": "code",
   "execution_count": 32,
   "metadata": {},
   "outputs": [],
   "source": [
    "merged_mesh = []\n",
    "for k,v in allmesh.items():\n",
    "    merged_mesh.append({\"mid\":k, \"name\":v})"
   ]
  },
  {
   "cell_type": "code",
   "execution_count": 36,
   "metadata": {},
   "outputs": [
    {
     "data": {
      "text/html": [
       "<div>\n",
       "<style scoped>\n",
       "    .dataframe tbody tr th:only-of-type {\n",
       "        vertical-align: middle;\n",
       "    }\n",
       "\n",
       "    .dataframe tbody tr th {\n",
       "        vertical-align: top;\n",
       "    }\n",
       "\n",
       "    .dataframe thead th {\n",
       "        text-align: right;\n",
       "    }\n",
       "</style>\n",
       "<table border=\"1\" class=\"dataframe\">\n",
       "  <thead>\n",
       "    <tr style=\"text-align: right;\">\n",
       "      <th></th>\n",
       "      <th>mid</th>\n",
       "      <th>name</th>\n",
       "    </tr>\n",
       "  </thead>\n",
       "  <tbody>\n",
       "    <tr>\n",
       "      <th>0</th>\n",
       "      <td>C14.280.238</td>\n",
       "      <td>cardiomyopathies</td>\n",
       "    </tr>\n",
       "  </tbody>\n",
       "</table>\n",
       "</div>"
      ],
      "text/plain": [
       "           mid              name\n",
       "0  C14.280.238  cardiomyopathies"
      ]
     },
     "execution_count": 36,
     "metadata": {},
     "output_type": "execute_result"
    }
   ],
   "source": [
    "mdf = pd.DataFrame(merged_mesh)\n",
    "mdf.head(1)"
   ]
  },
  {
   "cell_type": "code",
   "execution_count": 37,
   "metadata": {},
   "outputs": [],
   "source": [
    "mdf.to_csv(\"kgdata/merged-mesh-nodes.csv\")"
   ]
  },
  {
   "cell_type": "markdown",
   "metadata": {},
   "source": [
    "#### PMID to Mesh Edge Data"
   ]
  },
  {
   "cell_type": "code",
   "execution_count": 38,
   "metadata": {},
   "outputs": [
    {
     "data": {
      "text/html": [
       "<div>\n",
       "<style scoped>\n",
       "    .dataframe tbody tr th:only-of-type {\n",
       "        vertical-align: middle;\n",
       "    }\n",
       "\n",
       "    .dataframe tbody tr th {\n",
       "        vertical-align: top;\n",
       "    }\n",
       "\n",
       "    .dataframe thead th {\n",
       "        text-align: right;\n",
       "    }\n",
       "</style>\n",
       "<table border=\"1\" class=\"dataframe\">\n",
       "  <thead>\n",
       "    <tr style=\"text-align: right;\">\n",
       "      <th></th>\n",
       "      <th>Unnamed: 0</th>\n",
       "      <th>pmid</th>\n",
       "      <th>mesh</th>\n",
       "      <th>meshtree_id</th>\n",
       "    </tr>\n",
       "  </thead>\n",
       "  <tbody>\n",
       "    <tr>\n",
       "      <th>0</th>\n",
       "      <td>0</td>\n",
       "      <td>20091048</td>\n",
       "      <td>animals</td>\n",
       "      <td>B01.050</td>\n",
       "    </tr>\n",
       "    <tr>\n",
       "      <th>1</th>\n",
       "      <td>1</td>\n",
       "      <td>20091048</td>\n",
       "      <td>arrhythmias, cardiac</td>\n",
       "      <td>C23.550.073</td>\n",
       "    </tr>\n",
       "    <tr>\n",
       "      <th>2</th>\n",
       "      <td>2</td>\n",
       "      <td>20091048</td>\n",
       "      <td>genetics</td>\n",
       "      <td>H01.158.273.343</td>\n",
       "    </tr>\n",
       "    <tr>\n",
       "      <th>3</th>\n",
       "      <td>3</td>\n",
       "      <td>20091048</td>\n",
       "      <td>physiopathology</td>\n",
       "      <td>physiopathology</td>\n",
       "    </tr>\n",
       "    <tr>\n",
       "      <th>4</th>\n",
       "      <td>4</td>\n",
       "      <td>20091048</td>\n",
       "      <td>brugada syndrome</td>\n",
       "      <td>C16.320.100</td>\n",
       "    </tr>\n",
       "  </tbody>\n",
       "</table>\n",
       "</div>"
      ],
      "text/plain": [
       "   Unnamed: 0      pmid                  mesh      meshtree_id\n",
       "0           0  20091048               animals          B01.050\n",
       "1           1  20091048  arrhythmias, cardiac      C23.550.073\n",
       "2           2  20091048              genetics  H01.158.273.343\n",
       "3           3  20091048       physiopathology  physiopathology\n",
       "4           4  20091048      brugada syndrome      C16.320.100"
      ]
     },
     "execution_count": 38,
     "metadata": {},
     "output_type": "execute_result"
    }
   ],
   "source": [
    "df = pd.read_csv(\"kgdata/pmid2mesh-all-edge.csv\")\n",
    "df.head(5)"
   ]
  },
  {
   "cell_type": "code",
   "execution_count": 39,
   "metadata": {},
   "outputs": [
    {
     "data": {
      "text/plain": [
       "(2901140, 4)"
      ]
     },
     "execution_count": 39,
     "metadata": {},
     "output_type": "execute_result"
    }
   ],
   "source": [
    "df.shape"
   ]
  },
  {
   "cell_type": "code",
   "execution_count": 41,
   "metadata": {},
   "outputs": [],
   "source": [
    "selected_edges = [] \n",
    "for pmid,name,mid in zip(df[\"pmid\"],df['mesh'],df[\"meshtree_id\"]):\n",
    "    if mid in allmesh:\n",
    "        selected_edges.append({\"pmid\": pmid,\"name\": name,\"mid\": mid})"
   ]
  },
  {
   "cell_type": "code",
   "execution_count": 43,
   "metadata": {},
   "outputs": [
    {
     "data": {
      "text/html": [
       "<div>\n",
       "<style scoped>\n",
       "    .dataframe tbody tr th:only-of-type {\n",
       "        vertical-align: middle;\n",
       "    }\n",
       "\n",
       "    .dataframe tbody tr th {\n",
       "        vertical-align: top;\n",
       "    }\n",
       "\n",
       "    .dataframe thead th {\n",
       "        text-align: right;\n",
       "    }\n",
       "</style>\n",
       "<table border=\"1\" class=\"dataframe\">\n",
       "  <thead>\n",
       "    <tr style=\"text-align: right;\">\n",
       "      <th></th>\n",
       "      <th>pmid</th>\n",
       "      <th>name</th>\n",
       "      <th>mid</th>\n",
       "    </tr>\n",
       "  </thead>\n",
       "  <tbody>\n",
       "    <tr>\n",
       "      <th>0</th>\n",
       "      <td>20091048</td>\n",
       "      <td>arrhythmias, cardiac</td>\n",
       "      <td>C23.550.073</td>\n",
       "    </tr>\n",
       "    <tr>\n",
       "      <th>1</th>\n",
       "      <td>20091048</td>\n",
       "      <td>brugada syndrome</td>\n",
       "      <td>C16.320.100</td>\n",
       "    </tr>\n",
       "    <tr>\n",
       "      <th>2</th>\n",
       "      <td>20091048</td>\n",
       "      <td>cardiomyopathy, dilated</td>\n",
       "      <td>C16.320.488.750</td>\n",
       "    </tr>\n",
       "  </tbody>\n",
       "</table>\n",
       "</div>"
      ],
      "text/plain": [
       "       pmid                     name              mid\n",
       "0  20091048     arrhythmias, cardiac      C23.550.073\n",
       "1  20091048         brugada syndrome      C16.320.100\n",
       "2  20091048  cardiomyopathy, dilated  C16.320.488.750"
      ]
     },
     "execution_count": 43,
     "metadata": {},
     "output_type": "execute_result"
    }
   ],
   "source": [
    "dfe = pd.DataFrame(selected_edges)\n",
    "dfe.head(3)"
   ]
  },
  {
   "cell_type": "code",
   "execution_count": 44,
   "metadata": {},
   "outputs": [
    {
     "data": {
      "text/plain": [
       "(59306, 3)"
      ]
     },
     "execution_count": 44,
     "metadata": {},
     "output_type": "execute_result"
    }
   ],
   "source": [
    "dfe.shape"
   ]
  },
  {
   "cell_type": "code",
   "execution_count": 45,
   "metadata": {},
   "outputs": [],
   "source": [
    "dfe.to_csv(\"kgdata/pmid2mesh-merged-edge.csv\")"
   ]
  },
  {
   "cell_type": "code",
   "execution_count": null,
   "metadata": {},
   "outputs": [],
   "source": []
  }
 ],
 "metadata": {
  "kernelspec": {
   "display_name": "Python 3",
   "language": "python",
   "name": "python3"
  },
  "language_info": {
   "codemirror_mode": {
    "name": "ipython",
    "version": 3
   },
   "file_extension": ".py",
   "mimetype": "text/x-python",
   "name": "python",
   "nbconvert_exporter": "python",
   "pygments_lexer": "ipython3",
   "version": "3.6.6"
  }
 },
 "nbformat": 4,
 "nbformat_minor": 2
}
