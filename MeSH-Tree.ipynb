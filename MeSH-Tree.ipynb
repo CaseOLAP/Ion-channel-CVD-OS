{
 "cells": [
  {
   "cell_type": "markdown",
   "metadata": {},
   "source": [
    "# MeSH tree set up"
   ]
  },
  {
   "cell_type": "code",
   "execution_count": 1,
   "metadata": {},
   "outputs": [],
   "source": [
    "import json\n",
    "import pandas as pd\n",
    "from collections import Counter"
   ]
  },
  {
   "cell_type": "code",
   "execution_count": 2,
   "metadata": {},
   "outputs": [],
   "source": [
    "meshtree_file = \"mtrees2021.bin\""
   ]
  },
  {
   "cell_type": "code",
   "execution_count": 3,
   "metadata": {},
   "outputs": [],
   "source": [
    "name2id = {}\n",
    "id2name = {}\n",
    "\n",
    "CVDtree =[]\n",
    "\n",
    "c = 0\n",
    "with open(meshtree_file, \"r\") as ftree:\n",
    "    for line in ftree:\n",
    "        #print (line)\n",
    "        c = c+1\n",
    "        term = line.strip().split(\";\")\n",
    "        name = term[0].lower()\n",
    "        ID = term[1]    \n",
    "        \n",
    "        if ID[0:3] ==\"C14\":\n",
    "            #print(term,ID)\n",
    "            CVDtree.append({\"name\": name, \"ID\":ID})\n",
    "            \n",
    "            \n",
    "        name2id.update({name:ID})\n",
    "        id2name.update({ID:name})"
   ]
  },
  {
   "cell_type": "code",
   "execution_count": 4,
   "metadata": {},
   "outputs": [
    {
     "data": {
      "text/plain": [
       "61314"
      ]
     },
     "execution_count": 4,
     "metadata": {},
     "output_type": "execute_result"
    }
   ],
   "source": [
    "c"
   ]
  },
  {
   "cell_type": "code",
   "execution_count": 5,
   "metadata": {},
   "outputs": [],
   "source": [
    "with open(\"name2id.json\",\"w\") as f1:\n",
    "    json.dump(name2id,f1)"
   ]
  },
  {
   "cell_type": "code",
   "execution_count": 6,
   "metadata": {},
   "outputs": [],
   "source": [
    "with open(\"id2name.json\",\"w\") as f2:\n",
    "    json.dump(id2name,f2)"
   ]
  },
  {
   "cell_type": "code",
   "execution_count": 7,
   "metadata": {},
   "outputs": [
    {
     "data": {
      "text/plain": [
       "'cardiovascular diseases'"
      ]
     },
     "execution_count": 7,
     "metadata": {},
     "output_type": "execute_result"
    }
   ],
   "source": [
    "id2name['C14']"
   ]
  },
  {
   "cell_type": "code",
   "execution_count": 8,
   "metadata": {},
   "outputs": [
    {
     "data": {
      "text/plain": [
       "'H02.403.650'"
      ]
     },
     "execution_count": 8,
     "metadata": {},
     "output_type": "execute_result"
    }
   ],
   "source": [
    "name2id['pathology']"
   ]
  },
  {
   "cell_type": "code",
   "execution_count": 9,
   "metadata": {},
   "outputs": [
    {
     "data": {
      "text/plain": [
       "672"
      ]
     },
     "execution_count": 9,
     "metadata": {},
     "output_type": "execute_result"
    }
   ],
   "source": [
    "len(list(CVDtree))"
   ]
  },
  {
   "cell_type": "code",
   "execution_count": 10,
   "metadata": {},
   "outputs": [],
   "source": [
    "CVD = pd.DataFrame(CVDtree)\n",
    "CVD = CVD.set_index('name')\n",
    "CVD = CVD.sort_values(\"ID\",ascending =True)"
   ]
  },
  {
   "cell_type": "code",
   "execution_count": 11,
   "metadata": {},
   "outputs": [
    {
     "data": {
      "text/html": [
       "<div>\n",
       "<style scoped>\n",
       "    .dataframe tbody tr th:only-of-type {\n",
       "        vertical-align: middle;\n",
       "    }\n",
       "\n",
       "    .dataframe tbody tr th {\n",
       "        vertical-align: top;\n",
       "    }\n",
       "\n",
       "    .dataframe thead th {\n",
       "        text-align: right;\n",
       "    }\n",
       "</style>\n",
       "<table border=\"1\" class=\"dataframe\">\n",
       "  <thead>\n",
       "    <tr style=\"text-align: right;\">\n",
       "      <th></th>\n",
       "      <th>ID</th>\n",
       "    </tr>\n",
       "    <tr>\n",
       "      <th>name</th>\n",
       "      <th></th>\n",
       "    </tr>\n",
       "  </thead>\n",
       "  <tbody>\n",
       "    <tr>\n",
       "      <th>cardiovascular diseases</th>\n",
       "      <td>C14</td>\n",
       "    </tr>\n",
       "    <tr>\n",
       "      <th>cardiovascular abnormalities</th>\n",
       "      <td>C14.240</td>\n",
       "    </tr>\n",
       "    <tr>\n",
       "      <th>heart defects, congenital</th>\n",
       "      <td>C14.240.400</td>\n",
       "    </tr>\n",
       "    <tr>\n",
       "      <th>22q11 deletion syndrome</th>\n",
       "      <td>C14.240.400.021</td>\n",
       "    </tr>\n",
       "    <tr>\n",
       "      <th>digeorge syndrome</th>\n",
       "      <td>C14.240.400.021.500</td>\n",
       "    </tr>\n",
       "    <tr>\n",
       "      <th>alagille syndrome</th>\n",
       "      <td>C14.240.400.044</td>\n",
       "    </tr>\n",
       "    <tr>\n",
       "      <th>aortic coarctation</th>\n",
       "      <td>C14.240.400.090</td>\n",
       "    </tr>\n",
       "    <tr>\n",
       "      <th>aortico-ventricular tunnel</th>\n",
       "      <td>C14.240.400.118</td>\n",
       "    </tr>\n",
       "    <tr>\n",
       "      <th>arrhythmogenic right ventricular dysplasia</th>\n",
       "      <td>C14.240.400.145</td>\n",
       "    </tr>\n",
       "    <tr>\n",
       "      <th>barth syndrome</th>\n",
       "      <td>C14.240.400.172</td>\n",
       "    </tr>\n",
       "  </tbody>\n",
       "</table>\n",
       "</div>"
      ],
      "text/plain": [
       "                                                             ID\n",
       "name                                                           \n",
       "cardiovascular diseases                                     C14\n",
       "cardiovascular abnormalities                            C14.240\n",
       "heart defects, congenital                           C14.240.400\n",
       "22q11 deletion syndrome                         C14.240.400.021\n",
       "digeorge syndrome                           C14.240.400.021.500\n",
       "alagille syndrome                               C14.240.400.044\n",
       "aortic coarctation                              C14.240.400.090\n",
       "aortico-ventricular tunnel                      C14.240.400.118\n",
       "arrhythmogenic right ventricular dysplasia      C14.240.400.145\n",
       "barth syndrome                                  C14.240.400.172"
      ]
     },
     "execution_count": 11,
     "metadata": {},
     "output_type": "execute_result"
    }
   ],
   "source": [
    "CVD.head(10)"
   ]
  },
  {
   "cell_type": "code",
   "execution_count": 12,
   "metadata": {},
   "outputs": [],
   "source": [
    "CVD.to_csv(\"cvd.csv\")"
   ]
  },
  {
   "cell_type": "code",
   "execution_count": 13,
   "metadata": {},
   "outputs": [
    {
     "data": {
      "text/plain": [
       "672"
      ]
     },
     "execution_count": 13,
     "metadata": {},
     "output_type": "execute_result"
    }
   ],
   "source": [
    "len(CVD)"
   ]
  },
  {
   "cell_type": "markdown",
   "metadata": {},
   "source": [
    "### CVD Categories"
   ]
  },
  {
   "cell_type": "markdown",
   "metadata": {},
   "source": [
    "data: https://docs.google.com/spreadsheets/d/1H1sO0Lgpc623sUNEZDD5h8tIx7-znLo6QQMwszCrfQY/edit#gid=0"
   ]
  },
  {
   "cell_type": "code",
   "execution_count": 14,
   "metadata": {},
   "outputs": [],
   "source": [
    "cvd_categories = [\n",
    "{\"name\":\"Cardiomyopathies\",\\\n",
    "\"abbr\" :\"CM\",\\\n",
    "\"roots\":[\"C14.280.238\",\"C14.280.434\"]},#heart failure is included\n",
    "{\"name\": \"Arrhythmias, Cardiac\",\\\n",
    " \"abbr\":\"ARR\",\\\n",
    " \"roots\":[\"C14.280.067\"]},\n",
    "{\"name\":\"Heart Defects, Congenital\",\\\n",
    " \"abbr\" :\"CHD\",\\\n",
    " \"roots\":[\"C14.280.400\"]},\n",
    "{\"name\":\"Heart Valve Diseases\",\\\n",
    " \"abbr\" :\"VD\",\\\n",
    " \"roots\":[\"C14.280.484\"]},\n",
    "{\"name\":\"Myocardial Ischemia\",\\\n",
    " \"abbr\" :\"IHD\",\\\n",
    " \"roots\":[\"C14.280.647\"]},\n",
    "{\"name\":\"Cardiac Conduction System Disease\",\\\n",
    " \"abbr\" :\"CCS\",\\\n",
    " \"roots\":[\"C14.280.123\"]},\n",
    "{\"name\":\"Ventricular Outflow Obstruction\",\\\n",
    " \"abbr\" :\"VOO\",\\\n",
    " \"roots\":[\"C14.280.955\"]},\n",
    "{\"name\":\"Other Heart Disease\",\\\n",
    " \"abbr\" :\"OHD\",\\\n",
    " \"roots\": [\"C14.280.195\",\"C14.280.282\",\\\n",
    "        \"C14.280.383\",\"C14.280.470\",\\\n",
    "        \"C14.280.945\",\"C14.280.459\",\"C14.280.720\"]}\n",
    "]"
   ]
  },
  {
   "cell_type": "code",
   "execution_count": 15,
   "metadata": {},
   "outputs": [],
   "source": [
    "with open(\"cvd_categories.json\", \"w\")as f:\n",
    "    json.dump(cvd_categories,f)"
   ]
  },
  {
   "cell_type": "code",
   "execution_count": 16,
   "metadata": {},
   "outputs": [
    {
     "data": {
      "text/plain": [
       "{'ARR': [],\n",
       " 'CCS': [],\n",
       " 'CHD': [],\n",
       " 'CM': [],\n",
       " 'IHD': [],\n",
       " 'OHD': [],\n",
       " 'VD': [],\n",
       " 'VOO': []}"
      ]
     },
     "execution_count": 16,
     "metadata": {},
     "output_type": "execute_result"
    }
   ],
   "source": [
    "cvdDict = {}\n",
    "for item in cvd_categories:\n",
    "    cvdDict.update({item['abbr']:[]})\n",
    "cvdDict"
   ]
  },
  {
   "cell_type": "code",
   "execution_count": 17,
   "metadata": {
    "scrolled": false
   },
   "outputs": [],
   "source": [
    "'''Lets work on each CVD category 1-by-1'''\n",
    "for item in cvd_categories:\n",
    "    abbr =  item['abbr']\n",
    "    roots = item['roots']\n",
    "    for meshid in roots:\n",
    "        '''iterate over the CVD dataframe to collect terms per CVD category'''\n",
    "        for name, ID in zip(CVD.index,CVD['ID']):\n",
    "            if ID[0:11]== meshid:\n",
    "                #print(mesh,\"|\",name,\"|\",ID)\n",
    "                cvdDict[abbr].append(name)"
   ]
  },
  {
   "cell_type": "code",
   "execution_count": 18,
   "metadata": {
    "scrolled": false
   },
   "outputs": [],
   "source": [
    "with open(\"cvd_abr2mesh.json\", \"w\")as f:\n",
    "    json.dump(cvdDict,f)"
   ]
  },
  {
   "cell_type": "markdown",
   "metadata": {},
   "source": [
    "#### OS MeSH"
   ]
  },
  {
   "cell_type": "code",
   "execution_count": null,
   "metadata": {},
   "outputs": [],
   "source": []
  },
  {
   "cell_type": "code",
   "execution_count": null,
   "metadata": {},
   "outputs": [],
   "source": []
  }
 ],
 "metadata": {
  "kernelspec": {
   "display_name": "Python 3",
   "language": "python",
   "name": "python3"
  },
  "language_info": {
   "codemirror_mode": {
    "name": "ipython",
    "version": 3
   },
   "file_extension": ".py",
   "mimetype": "text/x-python",
   "name": "python",
   "nbconvert_exporter": "python",
   "pygments_lexer": "ipython3",
   "version": "3.6.6"
  }
 },
 "nbformat": 4,
 "nbformat_minor": 2
}
