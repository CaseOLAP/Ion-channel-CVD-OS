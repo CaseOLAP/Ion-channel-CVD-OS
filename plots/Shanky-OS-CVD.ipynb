{
 "cells": [
  {
   "cell_type": "markdown",
   "id": "f431719f",
   "metadata": {},
   "source": [
    "# Shanky Diagram OS-CVD"
   ]
  },
  {
   "cell_type": "code",
   "execution_count": 114,
   "id": "10237841",
   "metadata": {},
   "outputs": [],
   "source": [
    "import numpy as np\n",
    "import pandas as pd\n",
    "import matplotlib.pyplot as plt"
   ]
  },
  {
   "cell_type": "markdown",
   "id": "272084e3",
   "metadata": {},
   "source": [
    "### Link Score"
   ]
  },
  {
   "cell_type": "code",
   "execution_count": 115,
   "id": "637c5e1d",
   "metadata": {},
   "outputs": [],
   "source": [
    "link = pd.read_csv(\"result/link-os-cvd.csv\")\n",
    "cvdTree = pd.read_csv(\"input/CVD-mesh-nodes.csv\")\n",
    "osTree = pd.read_csv(\"input/OS-mesh-nodes.csv\")"
   ]
  },
  {
   "cell_type": "code",
   "execution_count": 116,
   "id": "1da84553",
   "metadata": {},
   "outputs": [
    {
     "data": {
      "text/html": [
       "<div>\n",
       "<style scoped>\n",
       "    .dataframe tbody tr th:only-of-type {\n",
       "        vertical-align: middle;\n",
       "    }\n",
       "\n",
       "    .dataframe tbody tr th {\n",
       "        vertical-align: top;\n",
       "    }\n",
       "\n",
       "    .dataframe thead th {\n",
       "        text-align: right;\n",
       "    }\n",
       "</style>\n",
       "<table border=\"1\" class=\"dataframe\">\n",
       "  <thead>\n",
       "    <tr style=\"text-align: right;\">\n",
       "      <th></th>\n",
       "      <th>Unnamed: 0</th>\n",
       "      <th>CVD</th>\n",
       "      <th>OS</th>\n",
       "      <th>Score</th>\n",
       "    </tr>\n",
       "  </thead>\n",
       "  <tbody>\n",
       "    <tr>\n",
       "      <th>0</th>\n",
       "      <td>10807</td>\n",
       "      <td>myocardial infarction</td>\n",
       "      <td>nitric oxide</td>\n",
       "      <td>73225.0</td>\n",
       "    </tr>\n",
       "  </tbody>\n",
       "</table>\n",
       "</div>"
      ],
      "text/plain": [
       "   Unnamed: 0                    CVD            OS    Score\n",
       "0       10807  myocardial infarction  nitric oxide  73225.0"
      ]
     },
     "execution_count": 116,
     "metadata": {},
     "output_type": "execute_result"
    }
   ],
   "source": [
    "link.head(1)"
   ]
  },
  {
   "cell_type": "code",
   "execution_count": 117,
   "id": "63423ea5",
   "metadata": {},
   "outputs": [
    {
     "data": {
      "text/html": [
       "<div>\n",
       "<style scoped>\n",
       "    .dataframe tbody tr th:only-of-type {\n",
       "        vertical-align: middle;\n",
       "    }\n",
       "\n",
       "    .dataframe tbody tr th {\n",
       "        vertical-align: top;\n",
       "    }\n",
       "\n",
       "    .dataframe thead th {\n",
       "        text-align: right;\n",
       "    }\n",
       "</style>\n",
       "<table border=\"1\" class=\"dataframe\">\n",
       "  <thead>\n",
       "    <tr style=\"text-align: right;\">\n",
       "      <th></th>\n",
       "      <th>Unnamed: 0</th>\n",
       "      <th>Name</th>\n",
       "      <th>ID</th>\n",
       "      <th>CVD</th>\n",
       "    </tr>\n",
       "  </thead>\n",
       "  <tbody>\n",
       "    <tr>\n",
       "      <th>0</th>\n",
       "      <td>0</td>\n",
       "      <td>cardiomyopathies</td>\n",
       "      <td>D009202</td>\n",
       "      <td>CM</td>\n",
       "    </tr>\n",
       "  </tbody>\n",
       "</table>\n",
       "</div>"
      ],
      "text/plain": [
       "   Unnamed: 0              Name       ID CVD\n",
       "0           0  cardiomyopathies  D009202  CM"
      ]
     },
     "execution_count": 117,
     "metadata": {},
     "output_type": "execute_result"
    }
   ],
   "source": [
    "cvdTree.head(1)"
   ]
  },
  {
   "cell_type": "code",
   "execution_count": 118,
   "id": "3d3ad049",
   "metadata": {},
   "outputs": [
    {
     "data": {
      "text/html": [
       "<div>\n",
       "<style scoped>\n",
       "    .dataframe tbody tr th:only-of-type {\n",
       "        vertical-align: middle;\n",
       "    }\n",
       "\n",
       "    .dataframe tbody tr th {\n",
       "        vertical-align: top;\n",
       "    }\n",
       "\n",
       "    .dataframe thead th {\n",
       "        text-align: right;\n",
       "    }\n",
       "</style>\n",
       "<table border=\"1\" class=\"dataframe\">\n",
       "  <thead>\n",
       "    <tr style=\"text-align: right;\">\n",
       "      <th></th>\n",
       "      <th>Unnamed: 0</th>\n",
       "      <th>Name</th>\n",
       "      <th>Event</th>\n",
       "      <th>Function</th>\n",
       "      <th>ID</th>\n",
       "    </tr>\n",
       "  </thead>\n",
       "  <tbody>\n",
       "    <tr>\n",
       "      <th>0</th>\n",
       "      <td>0</td>\n",
       "      <td>superoxides</td>\n",
       "      <td>Initiation of Oxidative Stress</td>\n",
       "      <td>Reactive Oxygen Species (ROS)</td>\n",
       "      <td>D013481</td>\n",
       "    </tr>\n",
       "  </tbody>\n",
       "</table>\n",
       "</div>"
      ],
      "text/plain": [
       "   Unnamed: 0         Name                           Event  \\\n",
       "0           0  superoxides  Initiation of Oxidative Stress   \n",
       "\n",
       "                        Function       ID  \n",
       "0  Reactive Oxygen Species (ROS)  D013481  "
      ]
     },
     "execution_count": 118,
     "metadata": {},
     "output_type": "execute_result"
    }
   ],
   "source": [
    "osTree.head(1)"
   ]
  },
  {
   "cell_type": "code",
   "execution_count": 119,
   "id": "d62de79d",
   "metadata": {},
   "outputs": [
    {
     "data": {
      "text/plain": [
       "'IHD'"
      ]
     },
     "execution_count": 119,
     "metadata": {},
     "output_type": "execute_result"
    }
   ],
   "source": [
    "entity = 'myocardial infarction'\n",
    "list(cvdTree.query(\"Name ==@entity\")['CVD'])[0]"
   ]
  },
  {
   "cell_type": "code",
   "execution_count": 120,
   "id": "b03cb3e8",
   "metadata": {},
   "outputs": [],
   "source": [
    "link['cvdCat'] = link['CVD'].apply(lambda x :list(cvdTree.query(\"Name ==@x\")['CVD'])[0])"
   ]
  },
  {
   "cell_type": "code",
   "execution_count": 121,
   "id": "d8846643",
   "metadata": {},
   "outputs": [],
   "source": [
    "link['osEvent'] = link['OS'].apply(lambda x :list(osTree.query(\"Name ==@x\")['Event'])[0] )"
   ]
  },
  {
   "cell_type": "code",
   "execution_count": 122,
   "id": "0f480ca3",
   "metadata": {},
   "outputs": [],
   "source": [
    "link['osFunction'] = link['OS'].apply(lambda x :list(osTree.query(\"Name ==@x\")['Function'])[0] )"
   ]
  },
  {
   "cell_type": "code",
   "execution_count": 123,
   "id": "2f1f003d",
   "metadata": {},
   "outputs": [
    {
     "data": {
      "text/html": [
       "<div>\n",
       "<style scoped>\n",
       "    .dataframe tbody tr th:only-of-type {\n",
       "        vertical-align: middle;\n",
       "    }\n",
       "\n",
       "    .dataframe tbody tr th {\n",
       "        vertical-align: top;\n",
       "    }\n",
       "\n",
       "    .dataframe thead th {\n",
       "        text-align: right;\n",
       "    }\n",
       "</style>\n",
       "<table border=\"1\" class=\"dataframe\">\n",
       "  <thead>\n",
       "    <tr style=\"text-align: right;\">\n",
       "      <th></th>\n",
       "      <th>Unnamed: 0</th>\n",
       "      <th>CVD</th>\n",
       "      <th>OS</th>\n",
       "      <th>Score</th>\n",
       "      <th>cvdCat</th>\n",
       "      <th>osEvent</th>\n",
       "      <th>osFunction</th>\n",
       "    </tr>\n",
       "  </thead>\n",
       "  <tbody>\n",
       "    <tr>\n",
       "      <th>0</th>\n",
       "      <td>10807</td>\n",
       "      <td>myocardial infarction</td>\n",
       "      <td>nitric oxide</td>\n",
       "      <td>73225.0</td>\n",
       "      <td>IHD</td>\n",
       "      <td>Initiation of Oxidative Stress</td>\n",
       "      <td>Reactive Nitrogen Species (RNS)</td>\n",
       "    </tr>\n",
       "    <tr>\n",
       "      <th>1</th>\n",
       "      <td>10833</td>\n",
       "      <td>myocardial infarction</td>\n",
       "      <td>isoenzymes</td>\n",
       "      <td>72280.0</td>\n",
       "      <td>IHD</td>\n",
       "      <td>Modulation of Oxidative Stress</td>\n",
       "      <td>Antioxidant Enzymes</td>\n",
       "    </tr>\n",
       "  </tbody>\n",
       "</table>\n",
       "</div>"
      ],
      "text/plain": [
       "   Unnamed: 0                    CVD            OS    Score cvdCat  \\\n",
       "0       10807  myocardial infarction  nitric oxide  73225.0    IHD   \n",
       "1       10833  myocardial infarction    isoenzymes  72280.0    IHD   \n",
       "\n",
       "                          osEvent                       osFunction  \n",
       "0  Initiation of Oxidative Stress  Reactive Nitrogen Species (RNS)  \n",
       "1  Modulation of Oxidative Stress              Antioxidant Enzymes  "
      ]
     },
     "execution_count": 123,
     "metadata": {},
     "output_type": "execute_result"
    }
   ],
   "source": [
    "link.head(2)"
   ]
  },
  {
   "cell_type": "markdown",
   "id": "28571eb3",
   "metadata": {},
   "source": [
    "#### Add more Link scores"
   ]
  },
  {
   "cell_type": "code",
   "execution_count": 126,
   "id": "95e809ad",
   "metadata": {},
   "outputs": [],
   "source": [
    "def scorer(df, scol, tcol, source, target):\n",
    "    df_source = df[df[scol] == source]\n",
    "    df_target = df_source[df_source[tcol] == target]\n",
    "    score =  df_target['Score'].sum()\n",
    "    return score"
   ]
  },
  {
   "cell_type": "code",
   "execution_count": 127,
   "id": "7bce0ad5",
   "metadata": {},
   "outputs": [
    {
     "data": {
      "text/plain": [
       "4092116.0"
      ]
     },
     "execution_count": 127,
     "metadata": {},
     "output_type": "execute_result"
    }
   ],
   "source": [
    "scorer(link,\"CVD\",\"cvdCat\", \"heart failure\", \"CM\")"
   ]
  },
  {
   "cell_type": "code",
   "execution_count": 128,
   "id": "feeb189f",
   "metadata": {},
   "outputs": [
    {
     "data": {
      "text/plain": [
       "1308868.0"
      ]
     },
     "execution_count": 128,
     "metadata": {},
     "output_type": "execute_result"
    }
   ],
   "source": [
    "scorer(link, \"cvdCat\",\"osEvent\", \"CM\", \"Initiation of Oxidative Stress\")"
   ]
  },
  {
   "cell_type": "code",
   "execution_count": 149,
   "id": "a7f36a7b",
   "metadata": {},
   "outputs": [
    {
     "data": {
      "text/plain": [
       "2327774.0"
      ]
     },
     "execution_count": 149,
     "metadata": {},
     "output_type": "execute_result"
    }
   ],
   "source": [
    "scorer(link,\"osEvent\", \"osFunction\", \"Initiation of Oxidative Stress\", \"Reactive Nitrogen Species (RNS)\")"
   ]
  },
  {
   "cell_type": "code",
   "execution_count": 130,
   "id": "9abec1c7",
   "metadata": {},
   "outputs": [
    {
     "data": {
      "text/plain": [
       "1006211.0"
      ]
     },
     "execution_count": 130,
     "metadata": {},
     "output_type": "execute_result"
    }
   ],
   "source": [
    "scorer(link,\"osFunction\", \"OS\", \"Reactive Nitrogen Species (RNS)\", \"nitric oxide\")"
   ]
  },
  {
   "cell_type": "markdown",
   "id": "2eeca78a",
   "metadata": {},
   "source": [
    "### CVD Tree"
   ]
  },
  {
   "cell_type": "code",
   "execution_count": 177,
   "id": "ccbdf3cf",
   "metadata": {},
   "outputs": [
    {
     "data": {
      "text/html": [
       "<div>\n",
       "<style scoped>\n",
       "    .dataframe tbody tr th:only-of-type {\n",
       "        vertical-align: middle;\n",
       "    }\n",
       "\n",
       "    .dataframe tbody tr th {\n",
       "        vertical-align: top;\n",
       "    }\n",
       "\n",
       "    .dataframe thead th {\n",
       "        text-align: right;\n",
       "    }\n",
       "</style>\n",
       "<table border=\"1\" class=\"dataframe\">\n",
       "  <thead>\n",
       "    <tr style=\"text-align: right;\">\n",
       "      <th></th>\n",
       "      <th>Unnamed: 0</th>\n",
       "      <th>Name</th>\n",
       "      <th>ID</th>\n",
       "      <th>CVD</th>\n",
       "    </tr>\n",
       "  </thead>\n",
       "  <tbody>\n",
       "    <tr>\n",
       "      <th>0</th>\n",
       "      <td>0</td>\n",
       "      <td>cardiomyopathies</td>\n",
       "      <td>D009202</td>\n",
       "      <td>CM</td>\n",
       "    </tr>\n",
       "    <tr>\n",
       "      <th>1</th>\n",
       "      <td>1</td>\n",
       "      <td>arrhythmogenic right ventricular dysplasia</td>\n",
       "      <td>D019571</td>\n",
       "      <td>CM</td>\n",
       "    </tr>\n",
       "    <tr>\n",
       "      <th>2</th>\n",
       "      <td>2</td>\n",
       "      <td>cardiomyopathy, alcoholic</td>\n",
       "      <td>D002310</td>\n",
       "      <td>CM</td>\n",
       "    </tr>\n",
       "    <tr>\n",
       "      <th>3</th>\n",
       "      <td>3</td>\n",
       "      <td>cardiomyopathy, dilated</td>\n",
       "      <td>D002311</td>\n",
       "      <td>CM</td>\n",
       "    </tr>\n",
       "    <tr>\n",
       "      <th>4</th>\n",
       "      <td>4</td>\n",
       "      <td>cardiomyopathy, hypertrophic</td>\n",
       "      <td>D002312</td>\n",
       "      <td>CM</td>\n",
       "    </tr>\n",
       "  </tbody>\n",
       "</table>\n",
       "</div>"
      ],
      "text/plain": [
       "   Unnamed: 0                                        Name       ID CVD\n",
       "0           0                            cardiomyopathies  D009202  CM\n",
       "1           1  arrhythmogenic right ventricular dysplasia  D019571  CM\n",
       "2           2                   cardiomyopathy, alcoholic  D002310  CM\n",
       "3           3                     cardiomyopathy, dilated  D002311  CM\n",
       "4           4                cardiomyopathy, hypertrophic  D002312  CM"
      ]
     },
     "execution_count": 177,
     "metadata": {},
     "output_type": "execute_result"
    }
   ],
   "source": [
    "cvdTree.head(5)"
   ]
  },
  {
   "cell_type": "code",
   "execution_count": 178,
   "id": "db96fe86",
   "metadata": {},
   "outputs": [
    {
     "data": {
      "text/plain": [
       "['CM', 'ARR', 'CHD', 'VD', 'IHD', 'CCS', 'VOO', 'OHD']"
      ]
     },
     "execution_count": 178,
     "metadata": {},
     "output_type": "execute_result"
    }
   ],
   "source": [
    "list(cvdTree['CVD'].unique())"
   ]
  },
  {
   "cell_type": "code",
   "execution_count": 179,
   "id": "2c5b9030",
   "metadata": {},
   "outputs": [],
   "source": [
    "label = list(cvdTree['Name']) + list(cvdTree['CVD'].unique())\n",
    "labelindex = [label.index(x) for x in label]\n",
    "label2index = {}\n",
    "for item, index in zip(label,labelindex):\n",
    "    label2index.update({item:index})"
   ]
  },
  {
   "cell_type": "code",
   "execution_count": 180,
   "id": "4d69e151",
   "metadata": {},
   "outputs": [],
   "source": [
    "source, target, value = [],[],[]\n",
    "for mesh, cat in zip(cvdTree['Name'], cvdTree['CVD']):\n",
    "    source.append(label2index[mesh])\n",
    "    target.append(label2index[cat])\n",
    "    value.append(scorer(link,\"CVD\",\"cvdCat\", mesh, cat))"
   ]
  },
  {
   "cell_type": "markdown",
   "id": "f03275c4",
   "metadata": {},
   "source": [
    "### OS tree"
   ]
  },
  {
   "cell_type": "code",
   "execution_count": 181,
   "id": "420dfce5",
   "metadata": {},
   "outputs": [
    {
     "data": {
      "text/html": [
       "<div>\n",
       "<style scoped>\n",
       "    .dataframe tbody tr th:only-of-type {\n",
       "        vertical-align: middle;\n",
       "    }\n",
       "\n",
       "    .dataframe tbody tr th {\n",
       "        vertical-align: top;\n",
       "    }\n",
       "\n",
       "    .dataframe thead th {\n",
       "        text-align: right;\n",
       "    }\n",
       "</style>\n",
       "<table border=\"1\" class=\"dataframe\">\n",
       "  <thead>\n",
       "    <tr style=\"text-align: right;\">\n",
       "      <th></th>\n",
       "      <th>Unnamed: 0</th>\n",
       "      <th>Name</th>\n",
       "      <th>Event</th>\n",
       "      <th>Function</th>\n",
       "      <th>ID</th>\n",
       "    </tr>\n",
       "  </thead>\n",
       "  <tbody>\n",
       "    <tr>\n",
       "      <th>0</th>\n",
       "      <td>0</td>\n",
       "      <td>superoxides</td>\n",
       "      <td>Initiation of Oxidative Stress</td>\n",
       "      <td>Reactive Oxygen Species (ROS)</td>\n",
       "      <td>D013481</td>\n",
       "    </tr>\n",
       "    <tr>\n",
       "      <th>1</th>\n",
       "      <td>1</td>\n",
       "      <td>hydrogen peroxide</td>\n",
       "      <td>Initiation of Oxidative Stress</td>\n",
       "      <td>Reactive Oxygen Species (ROS)</td>\n",
       "      <td>D006861</td>\n",
       "    </tr>\n",
       "    <tr>\n",
       "      <th>2</th>\n",
       "      <td>2</td>\n",
       "      <td>hydroxyl radical</td>\n",
       "      <td>Initiation of Oxidative Stress</td>\n",
       "      <td>Reactive Oxygen Species (ROS)</td>\n",
       "      <td>D017665</td>\n",
       "    </tr>\n",
       "    <tr>\n",
       "      <th>3</th>\n",
       "      <td>3</td>\n",
       "      <td>singlet oxygen</td>\n",
       "      <td>Initiation of Oxidative Stress</td>\n",
       "      <td>Reactive Oxygen Species (ROS)</td>\n",
       "      <td>D026082</td>\n",
       "    </tr>\n",
       "    <tr>\n",
       "      <th>4</th>\n",
       "      <td>4</td>\n",
       "      <td>lipid peroxides</td>\n",
       "      <td>Initiation of Oxidative Stress</td>\n",
       "      <td>Reactive Oxygen Species (ROS)</td>\n",
       "      <td>D008054</td>\n",
       "    </tr>\n",
       "  </tbody>\n",
       "</table>\n",
       "</div>"
      ],
      "text/plain": [
       "   Unnamed: 0               Name                           Event  \\\n",
       "0           0        superoxides  Initiation of Oxidative Stress   \n",
       "1           1  hydrogen peroxide  Initiation of Oxidative Stress   \n",
       "2           2   hydroxyl radical  Initiation of Oxidative Stress   \n",
       "3           3     singlet oxygen  Initiation of Oxidative Stress   \n",
       "4           4    lipid peroxides  Initiation of Oxidative Stress   \n",
       "\n",
       "                        Function       ID  \n",
       "0  Reactive Oxygen Species (ROS)  D013481  \n",
       "1  Reactive Oxygen Species (ROS)  D006861  \n",
       "2  Reactive Oxygen Species (ROS)  D017665  \n",
       "3  Reactive Oxygen Species (ROS)  D026082  \n",
       "4  Reactive Oxygen Species (ROS)  D008054  "
      ]
     },
     "execution_count": 181,
     "metadata": {},
     "output_type": "execute_result"
    }
   ],
   "source": [
    "osTree.head(5)"
   ]
  },
  {
   "cell_type": "markdown",
   "id": "43199a22",
   "metadata": {},
   "source": [
    "#### CVD category to OS Event"
   ]
  },
  {
   "cell_type": "code",
   "execution_count": 182,
   "id": "ef1c65fa",
   "metadata": {},
   "outputs": [],
   "source": [
    "event = ['IOS','MOS','OOS']\n",
    "\n",
    "label = label + event \n",
    "labelindex = [label.index(x) for x in label]\n",
    "label2index = {}\n",
    "for item, index in zip(label,labelindex):\n",
    "    label2index.update({item:index})"
   ]
  },
  {
   "cell_type": "code",
   "execution_count": 183,
   "id": "d777bdca",
   "metadata": {},
   "outputs": [],
   "source": [
    "oscat = {'IOS':'Initiation of Oxidative Stress',\\\n",
    "         'MOS':'Modulation of Oxidative Stress',\\\n",
    "         'OOS':'Outcomes of Oxidative Stress'}"
   ]
  },
  {
   "cell_type": "code",
   "execution_count": 184,
   "id": "6c925d2b",
   "metadata": {},
   "outputs": [],
   "source": [
    "cvdcat = list(cvdTree['CVD'].unique())\n",
    "for cvd in cvdcat:\n",
    "    for osevent in event:\n",
    "        source.append(label2index[cvd])\n",
    "        target.append(label2index[osevent])\n",
    "        value.append(scorer(link, \"cvdCat\",\"osEvent\", cvd, osevt[osevent]))\n",
    "        "
   ]
  },
  {
   "cell_type": "markdown",
   "id": "9e2fd1b3",
   "metadata": {},
   "source": [
    "#### OS Event to Functions"
   ]
  },
  {
   "cell_type": "code",
   "execution_count": 185,
   "id": "badfb6f8",
   "metadata": {},
   "outputs": [
    {
     "data": {
      "text/plain": [
       "['Initiation of Oxidative Stress',\n",
       " 'Modulation of Oxidative Stress',\n",
       " 'Outcomes of Oxidative Stress']"
      ]
     },
     "execution_count": 185,
     "metadata": {},
     "output_type": "execute_result"
    }
   ],
   "source": [
    "list(osTree[\"Event\"].unique())"
   ]
  },
  {
   "cell_type": "code",
   "execution_count": 186,
   "id": "a5c019e7",
   "metadata": {},
   "outputs": [
    {
     "data": {
      "text/plain": [
       "['Reactive Oxygen Species (ROS)',\n",
       " 'Reactive Nitrogen Species (RNS)',\n",
       " 'Reactive Aldehydes',\n",
       " 'Redox Metabolites',\n",
       " 'Antioxidant Enzymes',\n",
       " 'Redox Regulating Proteins',\n",
       " 'Antioxidants',\n",
       " 'Protein Oxidation (O-PTMs)',\n",
       " 'Lipid Peroxidation Products',\n",
       " 'Oxidative DNA Damage',\n",
       " 'Nitrative DNA Damage']"
      ]
     },
     "execution_count": 186,
     "metadata": {},
     "output_type": "execute_result"
    }
   ],
   "source": [
    "list(osTree[\"Function\"].unique())"
   ]
  },
  {
   "cell_type": "code",
   "execution_count": 187,
   "id": "1eb485b7",
   "metadata": {},
   "outputs": [],
   "source": [
    "ios_function = list(osTree.query(\"Event=='Initiation of Oxidative Stress'\")[\"Function\"].unique())\n",
    "mos_function = list(osTree.query(\"Event=='Modulation of Oxidative Stress'\")[\"Function\"].unique())\n",
    "oos_function = list(osTree.query(\"Event=='Outcomes of Oxidative Stress'\")[\"Function\"].unique())"
   ]
  },
  {
   "cell_type": "code",
   "execution_count": 188,
   "id": "45c32bb3",
   "metadata": {},
   "outputs": [
    {
     "data": {
      "text/plain": [
       "(['Reactive Oxygen Species (ROS)',\n",
       "  'Reactive Nitrogen Species (RNS)',\n",
       "  'Reactive Aldehydes'],\n",
       " ['Redox Metabolites',\n",
       "  'Antioxidant Enzymes',\n",
       "  'Redox Regulating Proteins',\n",
       "  'Antioxidants'],\n",
       " ['Protein Oxidation (O-PTMs)',\n",
       "  'Lipid Peroxidation Products',\n",
       "  'Oxidative DNA Damage',\n",
       "  'Nitrative DNA Damage'])"
      ]
     },
     "execution_count": 188,
     "metadata": {},
     "output_type": "execute_result"
    }
   ],
   "source": [
    "ios_function,mos_function,oos_function"
   ]
  },
  {
   "cell_type": "code",
   "execution_count": 189,
   "id": "63391a51",
   "metadata": {},
   "outputs": [],
   "source": [
    "functions =  list(osTree[\"Function\"].unique())\n",
    "label = label + functions\n",
    "labelindex = [label.index(x) for x in label]\n",
    "label2index = {}\n",
    "for item, index in zip(label,labelindex):\n",
    "    label2index.update({item:index})"
   ]
  },
  {
   "cell_type": "code",
   "execution_count": 190,
   "id": "870e6346",
   "metadata": {},
   "outputs": [],
   "source": [
    "event = ['IOS','MOS','OOS']\n",
    "for osevent in event:\n",
    "    if osevent == \"IOS\":\n",
    "        for iosfunc in ios_function:\n",
    "            source.append(label2index[osevent])\n",
    "            target.append(label2index[iosfunc])\n",
    "            value.append(scorer(link,\"osEvent\", \"osFunction\", 'Initiation of Oxidative Stress', iosfunc))\n",
    "    if osevent == \"MOS\":\n",
    "        for mosfunc in mos_function:\n",
    "            source.append(label2index[osevent])\n",
    "            target.append(label2index[mosfunc])\n",
    "            value.append(scorer(link,\"osEvent\", \"osFunction\", 'Modulation of Oxidative Stress', mosfunc))\n",
    "    if osevent == \"OOS\":\n",
    "        for oosfunc in oos_function:\n",
    "            source.append(label2index[osevent])\n",
    "            target.append(label2index[oosfunc])\n",
    "            value.append(scorer(link,\"osEvent\", \"osFunction\", 'Outcomes of Oxidative Stress', oosfunc))"
   ]
  },
  {
   "cell_type": "markdown",
   "id": "b8004507",
   "metadata": {},
   "source": [
    "#### Functions to MeSH"
   ]
  },
  {
   "cell_type": "code",
   "execution_count": 191,
   "id": "5efdc562",
   "metadata": {},
   "outputs": [],
   "source": [
    "mesh = list(osTree[\"Name\"].unique())\n",
    "label = label + mesh\n",
    "labelindex = [label.index(x) for x in label]\n",
    "label2index = {}\n",
    "for item, index in zip(label,labelindex):\n",
    "    label2index.update({item:index})"
   ]
  },
  {
   "cell_type": "code",
   "execution_count": 192,
   "id": "f39c5218",
   "metadata": {},
   "outputs": [],
   "source": [
    "for f,m in zip(osTree['Function'], osTree['Name']):\n",
    "    source.append(label2index[f])\n",
    "    target.append(label2index[m])\n",
    "    value.append(scorer(link,\"osFunction\", \"OS\", f, m))"
   ]
  },
  {
   "cell_type": "markdown",
   "id": "3b0b695a",
   "metadata": {},
   "source": [
    "### Plotly Shanky"
   ]
  },
  {
   "cell_type": "code",
   "execution_count": 194,
   "id": "fec00c67",
   "metadata": {
    "scrolled": false
   },
   "outputs": [
    {
     "data": {
      "application/vnd.plotly.v1+json": {
       "config": {
        "plotlyServerURL": "https://plot.ly"
       },
       "data": [
        {
         "link": {
          "source": [
           0,
           1,
           2,
           3,
           4,
           5,
           6,
           7,
           8,
           9,
           10,
           11,
           12,
           13,
           14,
           15,
           16,
           17,
           18,
           19,
           20,
           21,
           22,
           23,
           24,
           25,
           26,
           27,
           28,
           29,
           30,
           31,
           32,
           33,
           34,
           35,
           36,
           37,
           38,
           39,
           25,
           41,
           42,
           43,
           44,
           45,
           46,
           47,
           48,
           49,
           50,
           51,
           52,
           53,
           54,
           55,
           56,
           57,
           58,
           59,
           60,
           61,
           62,
           63,
           64,
           65,
           66,
           67,
           68,
           69,
           1,
           71,
           72,
           73,
           74,
           75,
           76,
           77,
           78,
           79,
           80,
           81,
           82,
           83,
           84,
           85,
           86,
           87,
           88,
           89,
           90,
           91,
           92,
           93,
           94,
           10,
           96,
           97,
           98,
           99,
           100,
           101,
           102,
           103,
           92,
           105,
           106,
           107,
           108,
           109,
           110,
           111,
           112,
           113,
           114,
           115,
           116,
           4,
           5,
           119,
           120,
           121,
           72,
           100,
           124,
           114,
           126,
           127,
           128,
           129,
           130,
           131,
           132,
           96,
           134,
           105,
           136,
           137,
           138,
           139,
           140,
           141,
           142,
           143,
           144,
           145,
           146,
           147,
           148,
           149,
           150,
           151,
           152,
           153,
           154,
           155,
           156,
           157,
           158,
           159,
           160,
           14,
           162,
           30,
           31,
           32,
           33,
           35,
           36,
           37,
           38,
           39,
           25,
           41,
           42,
           43,
           44,
           45,
           47,
           48,
           49,
           50,
           51,
           52,
           53,
           54,
           55,
           56,
           57,
           58,
           59,
           60,
           61,
           62,
           194,
           115,
           116,
           119,
           120,
           132,
           134,
           201,
           3,
           203,
           204,
           205,
           206,
           207,
           208,
           209,
           210,
           211,
           212,
           213,
           214,
           215,
           216,
           217,
           218,
           219,
           220,
           221,
           222,
           223,
           224,
           225,
           226,
           226,
           226,
           227,
           227,
           227,
           228,
           228,
           228,
           229,
           229,
           229,
           230,
           230,
           230,
           231,
           231,
           231,
           232,
           232,
           232,
           233,
           233,
           233,
           234,
           234,
           234,
           235,
           235,
           235,
           235,
           236,
           236,
           236,
           236,
           237,
           237,
           237,
           237,
           237,
           237,
           237,
           238,
           238,
           238,
           239,
           239,
           240,
           240,
           240,
           240,
           240,
           240,
           240,
           240,
           240,
           240,
           240,
           240,
           240,
           240,
           240,
           240,
           240,
           241,
           241,
           241,
           241,
           241,
           241,
           241,
           241,
           241,
           241,
           241,
           241,
           241,
           241,
           241,
           241,
           241,
           241,
           241,
           241,
           242,
           242,
           242,
           242,
           242,
           242,
           242,
           242,
           242,
           242,
           243,
           243,
           243,
           243,
           243,
           243,
           243,
           243,
           243,
           243,
           243,
           243,
           244,
           244,
           245,
           245,
           246,
           247
          ],
          "target": [
           226,
           226,
           226,
           226,
           226,
           226,
           226,
           226,
           226,
           226,
           226,
           226,
           226,
           226,
           226,
           226,
           226,
           226,
           226,
           226,
           226,
           226,
           226,
           227,
           227,
           227,
           227,
           227,
           227,
           227,
           227,
           227,
           227,
           227,
           227,
           227,
           227,
           227,
           227,
           227,
           227,
           227,
           227,
           227,
           227,
           227,
           227,
           227,
           227,
           227,
           227,
           227,
           227,
           227,
           227,
           227,
           227,
           227,
           227,
           227,
           227,
           227,
           227,
           227,
           227,
           228,
           228,
           228,
           228,
           228,
           228,
           228,
           228,
           228,
           228,
           228,
           228,
           228,
           228,
           228,
           228,
           228,
           228,
           228,
           228,
           228,
           228,
           228,
           228,
           228,
           228,
           228,
           228,
           228,
           228,
           228,
           228,
           228,
           228,
           228,
           228,
           228,
           228,
           228,
           228,
           228,
           228,
           228,
           228,
           228,
           228,
           229,
           229,
           229,
           229,
           229,
           229,
           229,
           229,
           229,
           229,
           229,
           229,
           229,
           229,
           229,
           229,
           229,
           229,
           229,
           229,
           229,
           229,
           229,
           229,
           229,
           229,
           229,
           230,
           230,
           230,
           230,
           230,
           230,
           230,
           230,
           230,
           230,
           230,
           230,
           230,
           230,
           230,
           230,
           230,
           230,
           230,
           230,
           230,
           230,
           230,
           230,
           231,
           231,
           231,
           231,
           231,
           231,
           231,
           231,
           231,
           231,
           231,
           231,
           231,
           231,
           231,
           231,
           231,
           231,
           231,
           231,
           231,
           231,
           231,
           231,
           231,
           231,
           231,
           231,
           231,
           231,
           231,
           231,
           232,
           232,
           232,
           232,
           232,
           232,
           232,
           233,
           233,
           233,
           233,
           233,
           233,
           233,
           233,
           233,
           233,
           233,
           233,
           233,
           233,
           233,
           233,
           233,
           233,
           233,
           233,
           233,
           233,
           233,
           233,
           233,
           234,
           235,
           236,
           234,
           235,
           236,
           234,
           235,
           236,
           234,
           235,
           236,
           234,
           235,
           236,
           234,
           235,
           236,
           234,
           235,
           236,
           234,
           235,
           236,
           237,
           238,
           239,
           240,
           241,
           242,
           243,
           244,
           245,
           246,
           247,
           248,
           249,
           250,
           251,
           252,
           253,
           254,
           255,
           256,
           257,
           258,
           259,
           260,
           261,
           262,
           263,
           264,
           265,
           266,
           267,
           268,
           269,
           270,
           271,
           272,
           273,
           274,
           275,
           276,
           277,
           278,
           279,
           280,
           281,
           282,
           283,
           284,
           285,
           286,
           287,
           288,
           289,
           290,
           291,
           292,
           293,
           294,
           295,
           296,
           297,
           298,
           299,
           300,
           301,
           302,
           303,
           304,
           305,
           306,
           307,
           308,
           309,
           310,
           311,
           312,
           313,
           314,
           315,
           316,
           317,
           318,
           319,
           320,
           259,
           258,
           321,
           322
          ],
          "value": [
           973055,
           86820,
           39425,
           537050,
           500359,
           36687,
           43187,
           87631,
           86053,
           47843,
           35088,
           76174,
           20095,
           36139,
           546877,
           507980,
           17762,
           4092116,
           41531,
           24742,
           38532,
           38152,
           57816,
           1997981,
           97039,
           98614,
           17695,
           1979555,
           195813,
           363530,
           131085,
           164307,
           32170,
           98678,
           17170,
           632813,
           65394,
           114066,
           308238,
           18970,
           98614,
           33670,
           270721,
           19495,
           17769,
           20092,
           18595,
           33820,
           16120,
           18895,
           184415,
           620946,
           158839,
           18520,
           108595,
           20545,
           207509,
           44393,
           26620,
           39070,
           514962,
           17620,
           95533,
           547338,
           15895,
           1734642,
           20992,
           87905,
           298079,
           15295,
           0,
           20090,
           80981,
           36070,
           302389,
           16270,
           19720,
           28794,
           17020,
           62019,
           56408,
           295545,
           73118,
           49565,
           166842,
           23845,
           41766,
           32539,
           397614,
           104086,
           19120,
           394607,
           39890,
           32534,
           96365,
           0,
           19569,
           19119,
           209481,
           67784,
           15670,
           309097,
           237355,
           21745,
           39890,
           33668,
           16570,
           29094,
           31116,
           246837,
           19645,
           772569,
           18294,
           474361,
           20770,
           910261,
           37643,
           0,
           0,
           19345,
           25195,
           70157,
           0,
           0,
           15970,
           20770,
           170606,
           17770,
           767284,
           518896,
           61194,
           78815,
           200536,
           0,
           20620,
           0,
           220560,
           51518,
           1268345,
           597029,
           1005734,
           299905,
           74305,
           61779,
           49322,
           4002654,
           142708,
           2146301,
           137664,
           408091,
           270210,
           264026,
           144691,
           17545,
           18745,
           5373607,
           44466,
           25718,
           60366,
           316530,
           206815,
           0,
           77915,
           0,
           0,
           0,
           0,
           0,
           0,
           0,
           0,
           0,
           0,
           0,
           0,
           0,
           0,
           0,
           0,
           0,
           0,
           0,
           0,
           0,
           0,
           0,
           0,
           0,
           0,
           0,
           0,
           0,
           0,
           0,
           135589,
           0,
           0,
           0,
           0,
           0,
           0,
           750160,
           0,
           469419,
           82543,
           340919,
           616530,
           86015,
           19420,
           963442,
           531259,
           14995,
           196642,
           78965,
           56765,
           39820,
           68441,
           920110,
           142116,
           223051,
           524673,
           16120,
           20920,
           282121,
           112344,
           37495,
           1308868,
           6252215,
           410031,
           1565587,
           7363297,
           474211,
           998652,
           4559319,
           282889,
           745411,
           3501746,
           225207,
           2743513,
           13304668,
           888375,
           13960,
           60466,
           3489,
           23188,
           105836,
           6565,
           1090651,
           5167860,
           335774,
           4740413,
           2327774,
           1421643,
           11539227,
           13703332,
           7060749,
           8012099,
           1313885,
           0,
           656935,
           655721,
           714571,
           709178,
           662866,
           652048,
           681403,
           658512,
           661835,
           1006211,
           659387,
           662176,
           758064,
           663579,
           669349,
           767610,
           720374,
           682441,
           662184,
           652917,
           652746,
           659038,
           651173,
           654666,
           658691,
           702921,
           677741,
           657637,
           761975,
           651173,
           656591,
           652921,
           656066,
           659035,
           702532,
           1000295,
           663415,
           653271,
           699228,
           796342,
           651698,
           663574,
           651523,
           651348,
           651348,
           653618,
           651345,
           651173,
           652922,
           656238,
           685440,
           651173,
           651698,
           709716,
           677032,
           802462,
           805129,
           711982,
           656419,
           652219,
           742919,
           715143,
           653446,
           651870,
           666033,
           705879,
           663589,
           664110,
           651696,
           661306,
           673007,
           651348,
           654672,
           658338,
           655547,
           0,
           0,
           656935,
           655721
          ]
         },
         "node": {
          "color": "blue",
          "label": [
           "cardiomyopathies",
           "arrhythmogenic right ventricular dysplasia",
           "cardiomyopathy, alcoholic",
           "cardiomyopathy, dilated",
           "cardiomyopathy, hypertrophic",
           "cardiomyopathy, hypertrophic, familial",
           "cardiomyopathy, restrictive",
           "chagas cardiomyopathy",
           "diabetic cardiomyopathies",
           "endocardial fibroelastosis",
           "isolated noncompaction of the ventricular myocardium",
           "endomyocardial fibrosis",
           "glycogen storage disease type iib",
           "kearns-sayre syndrome",
           "myocardial reperfusion injury",
           "myocarditis",
           "sarcoglycanopathies",
           "heart failure",
           "cardio-renal syndrome",
           "dyspnea, paroxysmal",
           "edema, cardiac",
           "heart failure, diastolic",
           "heart failure, systolic",
           "arrhythmias, cardiac",
           "arrhythmia, sinus",
           "sick sinus syndrome",
           "sinus arrest, cardiac",
           "atrial fibrillation",
           "atrial flutter",
           "bradycardia",
           "brugada syndrome",
           "cardiac complexes, premature",
           "atrial premature complexes",
           "ventricular premature complexes",
           "commotio cordis",
           "heart block",
           "adams-stokes syndrome",
           "atrioventricular block",
           "bundle-branch block",
           "interatrial block",
           "sick sinus syndrome",
           "sinoatrial block",
           "long qt syndrome",
           "andersen syndrome",
           "jervell-lange nielsen syndrome",
           "romano-ward syndrome",
           "parasystole",
           "pre-excitation syndromes",
           "lown-ganong-levine syndrome",
           "pre-excitation, mahaim-type",
           "wolff-parkinson-white syndrome",
           "tachycardia",
           "tachycardia, paroxysmal",
           "tachycardia, reciprocating",
           "tachycardia, atrioventricular nodal reentry",
           "tachycardia, sinoatrial nodal reentry",
           "tachycardia, supraventricular",
           "tachycardia, ectopic atrial",
           "tachycardia, ectopic junctional",
           "tachycardia, sinus",
           "tachycardia, ventricular",
           "accelerated idioventricular rhythm",
           "torsades de pointes",
           "ventricular fibrillation",
           "ventricular flutter",
           "heart defects, congenital",
           "22q11 deletion syndrome",
           "digeorge syndrome",
           "aortic coarctation",
           "aortico-ventricular tunnel",
           "arrhythmogenic right ventricular dysplasia",
           "barth syndrome",
           "bicuspid aortic valve disease",
           "cor triatriatum",
           "coronary vessel anomalies",
           "anomalous left coronary artery",
           "bland white garland syndrome",
           "myocardial bridging",
           "crisscross heart",
           "dextrocardia",
           "kartagener syndrome",
           "ductus arteriosus, patent",
           "ebstein anomaly",
           "eisenmenger complex",
           "heart septal defects",
           "aortopulmonary septal defect",
           "truncus arteriosus, persistent",
           "endocardial cushion defects",
           "heart septal defects, atrial",
           "foramen ovale, patent",
           "lutembacher syndrome",
           "heart septal defects, ventricular",
           "double outlet right ventricle",
           "heterotaxy syndrome",
           "hypoplastic left heart syndrome",
           "isolated noncompaction of the ventricular myocardium",
           "leopard syndrome",
           "levocardia",
           "marfan syndrome",
           "noonan syndrome",
           "quadricuspid aortic valve",
           "tetralogy of fallot",
           "transposition of great vessels",
           "congenitally corrected transposition of the great arteries",
           "double outlet right ventricle",
           "tricuspid atresia",
           "trilogy of fallot",
           "trisomy 13 syndrome",
           "trisomy 18 syndrome",
           "turner syndrome",
           "univentricular heart",
           "heart valve diseases",
           "aortic valve disease",
           "aortic valve insufficiency",
           "aortic valve prolapse",
           "aortic valve stenosis",
           "aortic stenosis, subvalvular",
           "cardiomyopathy, hypertrophic",
           "cardiomyopathy, hypertrophic, familial",
           "discrete subaortic stenosis",
           "aortic stenosis, supravalvular",
           "williams syndrome",
           "bicuspid aortic valve disease",
           "quadricuspid aortic valve",
           "heart valve prolapse",
           "aortic valve prolapse",
           "mitral valve prolapse",
           "tricuspid valve prolapse",
           "mitral valve insufficiency",
           "mitral valve stenosis",
           "pulmonary atresia",
           "pulmonary valve insufficiency",
           "pulmonary valve stenosis",
           "leopard syndrome",
           "pulmonary subvalvular stenosis",
           "tricuspid atresia",
           "tricuspid valve insufficiency",
           "tricuspid valve stenosis",
           "myocardial ischemia",
           "acute coronary syndrome",
           "angina pectoris",
           "angina, unstable",
           "angina pectoris, variant",
           "angina, stable",
           "microvascular angina",
           "coronary disease",
           "coronary aneurysm",
           "coronary artery disease",
           "coronary occlusion",
           "coronary stenosis",
           "coronary restenosis",
           "coronary thrombosis",
           "coronary vasospasm",
           "coronary-subclavian steal syndrome",
           "kounis syndrome",
           "myocardial infarction",
           "anterior wall myocardial infarction",
           "inferior wall myocardial infarction",
           "non-st elevated myocardial infarction",
           "shock, cardiogenic",
           "st elevation myocardial infarction",
           "myocardial reperfusion injury",
           "cardiac conduction system disease",
           "brugada syndrome",
           "cardiac complexes, premature",
           "atrial premature complexes",
           "ventricular premature complexes",
           "heart block",
           "adams-stokes syndrome",
           "atrioventricular block",
           "bundle-branch block",
           "interatrial block",
           "sick sinus syndrome",
           "sinoatrial block",
           "long qt syndrome",
           "andersen syndrome",
           "jervell-lange nielsen syndrome",
           "romano-ward syndrome",
           "pre-excitation syndromes",
           "lown-ganong-levine syndrome",
           "pre-excitation, mahaim-type",
           "wolff-parkinson-white syndrome",
           "tachycardia",
           "tachycardia, paroxysmal",
           "tachycardia, reciprocating",
           "tachycardia, atrioventricular nodal reentry",
           "tachycardia, sinoatrial nodal reentry",
           "tachycardia, supraventricular",
           "tachycardia, ectopic atrial",
           "tachycardia, ectopic junctional",
           "tachycardia, sinus",
           "tachycardia, ventricular",
           "accelerated idioventricular rhythm",
           "torsades de pointes",
           "ventricular outflow obstruction",
           "aortic valve stenosis",
           "aortic stenosis, subvalvular",
           "discrete subaortic stenosis",
           "aortic stenosis, supravalvular",
           "pulmonary valve stenosis",
           "pulmonary subvalvular stenosis",
           "cardiomegaly",
           "cardiomyopathy, dilated",
           "hypertrophy, left ventricular",
           "hypertrophy, right ventricular",
           "endocarditis",
           "endocarditis, bacterial",
           "endocarditis, subacute bacterial",
           "endocarditis, non-infective",
           "heart arrest",
           "death, sudden, cardiac",
           "karoshi death",
           "out-of-hospital cardiac arrest",
           "heart rupture",
           "heart rupture, post-infarction",
           "ventricular septal rupture",
           "ventricular dysfunction",
           "ventricular dysfunction, left",
           "takotsubo cardiomyopathy",
           "ventricular dysfunction, right",
           "heart neoplasms",
           "cardiac papillary fibroelastoma",
           "carney complex",
           "pericarditis",
           "pericarditis, constrictive",
           "pericarditis, tuberculous",
           "CM",
           "ARR",
           "CHD",
           "VD",
           "IHD",
           "CCS",
           "VOO",
           "OHD",
           "IOS",
           "MOS",
           "OOS",
           "Reactive Oxygen Species (ROS)",
           "Reactive Nitrogen Species (RNS)",
           "Reactive Aldehydes",
           "Redox Metabolites",
           "Antioxidant Enzymes",
           "Redox Regulating Proteins",
           "Antioxidants",
           "Protein Oxidation (O-PTMs)",
           "Lipid Peroxidation Products",
           "Oxidative DNA Damage",
           "Nitrative DNA Damage",
           "superoxides",
           "hydrogen peroxide",
           "hydroxyl radical",
           "singlet oxygen",
           "lipid peroxides",
           "epoxy compounds",
           "ozone",
           "nitric oxide",
           "nitrogen dioxide",
           "peroxynitrous acid",
           "malondialdehyde",
           "aldehydes",
           "cysteine",
           "homocysteine",
           "glutathione",
           "nad",
           "nadp",
           "flavin-adenine dinucleotide",
           "cystine",
           "glutathione disulfide",
           "5,10-methylenetetrahydrofolate reductase (fadh2)",
           "quinones",
           "disulfides",
           "fatty acids, unsaturated",
           "proline",
           "glycolates",
           "uric acid",
           "d-aspartic acid",
           "xanthine",
           "glutamate-cysteine ligase",
           "nad(p)h dehydrogenase (quinone)",
           "glutathione reductase",
           "catalase",
           "isoenzymes",
           "glutathione transferase",
           "glutathione s-transferase pi",
           "glutathione peroxidase",
           "superoxide dismutase",
           "methionine sulfoxide reductases",
           "thioredoxins",
           "protein disulfide reductase (glutathione)",
           "thioredoxin reductase 2",
           "thioredoxin reductase 1",
           "peroxiredoxins",
           "peroxiredoxin iii",
           "peroxiredoxin vi",
           "glutaredoxins",
           "procollagen-proline dioxygenase",
           "oxidoreductases",
           "mafk transcription factor",
           "ribonucleoprotein, u5 small nuclear",
           "nuclear proteins",
           "cell cycle proteins",
           "membrane proteins",
           "carrier proteins",
           "membrane glycoproteins",
           "antigens, neoplasm",
           "protein disulfide-isomerases",
           "dna-binding proteins",
           "vitamin e",
           "tocopherols",
           "tocotrienols",
           "vitamin a",
           "ascorbic acid",
           "carotenoids",
           "beta carotene",
           "lutein",
           "manganese",
           "melatonin",
           "zeaxanthins",
           "lycopene",
           "protein carbonylation",
           "hydroxylation",
           "deoxyguanosine",
           "guanine"
          ],
          "line": {
           "color": "black",
           "width": 0.5
          },
          "pad": 15,
          "thickness": 20
         },
         "type": "sankey"
        }
       ],
       "layout": {
        "font": {
         "size": 10
        },
        "height": 2500,
        "template": {
         "data": {
          "bar": [
           {
            "error_x": {
             "color": "#2a3f5f"
            },
            "error_y": {
             "color": "#2a3f5f"
            },
            "marker": {
             "line": {
              "color": "#E5ECF6",
              "width": 0.5
             },
             "pattern": {
              "fillmode": "overlay",
              "size": 10,
              "solidity": 0.2
             }
            },
            "type": "bar"
           }
          ],
          "barpolar": [
           {
            "marker": {
             "line": {
              "color": "#E5ECF6",
              "width": 0.5
             },
             "pattern": {
              "fillmode": "overlay",
              "size": 10,
              "solidity": 0.2
             }
            },
            "type": "barpolar"
           }
          ],
          "carpet": [
           {
            "aaxis": {
             "endlinecolor": "#2a3f5f",
             "gridcolor": "white",
             "linecolor": "white",
             "minorgridcolor": "white",
             "startlinecolor": "#2a3f5f"
            },
            "baxis": {
             "endlinecolor": "#2a3f5f",
             "gridcolor": "white",
             "linecolor": "white",
             "minorgridcolor": "white",
             "startlinecolor": "#2a3f5f"
            },
            "type": "carpet"
           }
          ],
          "choropleth": [
           {
            "colorbar": {
             "outlinewidth": 0,
             "ticks": ""
            },
            "type": "choropleth"
           }
          ],
          "contour": [
           {
            "colorbar": {
             "outlinewidth": 0,
             "ticks": ""
            },
            "colorscale": [
             [
              0,
              "#0d0887"
             ],
             [
              0.1111111111111111,
              "#46039f"
             ],
             [
              0.2222222222222222,
              "#7201a8"
             ],
             [
              0.3333333333333333,
              "#9c179e"
             ],
             [
              0.4444444444444444,
              "#bd3786"
             ],
             [
              0.5555555555555556,
              "#d8576b"
             ],
             [
              0.6666666666666666,
              "#ed7953"
             ],
             [
              0.7777777777777778,
              "#fb9f3a"
             ],
             [
              0.8888888888888888,
              "#fdca26"
             ],
             [
              1,
              "#f0f921"
             ]
            ],
            "type": "contour"
           }
          ],
          "contourcarpet": [
           {
            "colorbar": {
             "outlinewidth": 0,
             "ticks": ""
            },
            "type": "contourcarpet"
           }
          ],
          "heatmap": [
           {
            "colorbar": {
             "outlinewidth": 0,
             "ticks": ""
            },
            "colorscale": [
             [
              0,
              "#0d0887"
             ],
             [
              0.1111111111111111,
              "#46039f"
             ],
             [
              0.2222222222222222,
              "#7201a8"
             ],
             [
              0.3333333333333333,
              "#9c179e"
             ],
             [
              0.4444444444444444,
              "#bd3786"
             ],
             [
              0.5555555555555556,
              "#d8576b"
             ],
             [
              0.6666666666666666,
              "#ed7953"
             ],
             [
              0.7777777777777778,
              "#fb9f3a"
             ],
             [
              0.8888888888888888,
              "#fdca26"
             ],
             [
              1,
              "#f0f921"
             ]
            ],
            "type": "heatmap"
           }
          ],
          "heatmapgl": [
           {
            "colorbar": {
             "outlinewidth": 0,
             "ticks": ""
            },
            "colorscale": [
             [
              0,
              "#0d0887"
             ],
             [
              0.1111111111111111,
              "#46039f"
             ],
             [
              0.2222222222222222,
              "#7201a8"
             ],
             [
              0.3333333333333333,
              "#9c179e"
             ],
             [
              0.4444444444444444,
              "#bd3786"
             ],
             [
              0.5555555555555556,
              "#d8576b"
             ],
             [
              0.6666666666666666,
              "#ed7953"
             ],
             [
              0.7777777777777778,
              "#fb9f3a"
             ],
             [
              0.8888888888888888,
              "#fdca26"
             ],
             [
              1,
              "#f0f921"
             ]
            ],
            "type": "heatmapgl"
           }
          ],
          "histogram": [
           {
            "marker": {
             "pattern": {
              "fillmode": "overlay",
              "size": 10,
              "solidity": 0.2
             }
            },
            "type": "histogram"
           }
          ],
          "histogram2d": [
           {
            "colorbar": {
             "outlinewidth": 0,
             "ticks": ""
            },
            "colorscale": [
             [
              0,
              "#0d0887"
             ],
             [
              0.1111111111111111,
              "#46039f"
             ],
             [
              0.2222222222222222,
              "#7201a8"
             ],
             [
              0.3333333333333333,
              "#9c179e"
             ],
             [
              0.4444444444444444,
              "#bd3786"
             ],
             [
              0.5555555555555556,
              "#d8576b"
             ],
             [
              0.6666666666666666,
              "#ed7953"
             ],
             [
              0.7777777777777778,
              "#fb9f3a"
             ],
             [
              0.8888888888888888,
              "#fdca26"
             ],
             [
              1,
              "#f0f921"
             ]
            ],
            "type": "histogram2d"
           }
          ],
          "histogram2dcontour": [
           {
            "colorbar": {
             "outlinewidth": 0,
             "ticks": ""
            },
            "colorscale": [
             [
              0,
              "#0d0887"
             ],
             [
              0.1111111111111111,
              "#46039f"
             ],
             [
              0.2222222222222222,
              "#7201a8"
             ],
             [
              0.3333333333333333,
              "#9c179e"
             ],
             [
              0.4444444444444444,
              "#bd3786"
             ],
             [
              0.5555555555555556,
              "#d8576b"
             ],
             [
              0.6666666666666666,
              "#ed7953"
             ],
             [
              0.7777777777777778,
              "#fb9f3a"
             ],
             [
              0.8888888888888888,
              "#fdca26"
             ],
             [
              1,
              "#f0f921"
             ]
            ],
            "type": "histogram2dcontour"
           }
          ],
          "mesh3d": [
           {
            "colorbar": {
             "outlinewidth": 0,
             "ticks": ""
            },
            "type": "mesh3d"
           }
          ],
          "parcoords": [
           {
            "line": {
             "colorbar": {
              "outlinewidth": 0,
              "ticks": ""
             }
            },
            "type": "parcoords"
           }
          ],
          "pie": [
           {
            "automargin": true,
            "type": "pie"
           }
          ],
          "scatter": [
           {
            "fillpattern": {
             "fillmode": "overlay",
             "size": 10,
             "solidity": 0.2
            },
            "type": "scatter"
           }
          ],
          "scatter3d": [
           {
            "line": {
             "colorbar": {
              "outlinewidth": 0,
              "ticks": ""
             }
            },
            "marker": {
             "colorbar": {
              "outlinewidth": 0,
              "ticks": ""
             }
            },
            "type": "scatter3d"
           }
          ],
          "scattercarpet": [
           {
            "marker": {
             "colorbar": {
              "outlinewidth": 0,
              "ticks": ""
             }
            },
            "type": "scattercarpet"
           }
          ],
          "scattergeo": [
           {
            "marker": {
             "colorbar": {
              "outlinewidth": 0,
              "ticks": ""
             }
            },
            "type": "scattergeo"
           }
          ],
          "scattergl": [
           {
            "marker": {
             "colorbar": {
              "outlinewidth": 0,
              "ticks": ""
             }
            },
            "type": "scattergl"
           }
          ],
          "scattermapbox": [
           {
            "marker": {
             "colorbar": {
              "outlinewidth": 0,
              "ticks": ""
             }
            },
            "type": "scattermapbox"
           }
          ],
          "scatterpolar": [
           {
            "marker": {
             "colorbar": {
              "outlinewidth": 0,
              "ticks": ""
             }
            },
            "type": "scatterpolar"
           }
          ],
          "scatterpolargl": [
           {
            "marker": {
             "colorbar": {
              "outlinewidth": 0,
              "ticks": ""
             }
            },
            "type": "scatterpolargl"
           }
          ],
          "scatterternary": [
           {
            "marker": {
             "colorbar": {
              "outlinewidth": 0,
              "ticks": ""
             }
            },
            "type": "scatterternary"
           }
          ],
          "surface": [
           {
            "colorbar": {
             "outlinewidth": 0,
             "ticks": ""
            },
            "colorscale": [
             [
              0,
              "#0d0887"
             ],
             [
              0.1111111111111111,
              "#46039f"
             ],
             [
              0.2222222222222222,
              "#7201a8"
             ],
             [
              0.3333333333333333,
              "#9c179e"
             ],
             [
              0.4444444444444444,
              "#bd3786"
             ],
             [
              0.5555555555555556,
              "#d8576b"
             ],
             [
              0.6666666666666666,
              "#ed7953"
             ],
             [
              0.7777777777777778,
              "#fb9f3a"
             ],
             [
              0.8888888888888888,
              "#fdca26"
             ],
             [
              1,
              "#f0f921"
             ]
            ],
            "type": "surface"
           }
          ],
          "table": [
           {
            "cells": {
             "fill": {
              "color": "#EBF0F8"
             },
             "line": {
              "color": "white"
             }
            },
            "header": {
             "fill": {
              "color": "#C8D4E3"
             },
             "line": {
              "color": "white"
             }
            },
            "type": "table"
           }
          ]
         },
         "layout": {
          "annotationdefaults": {
           "arrowcolor": "#2a3f5f",
           "arrowhead": 0,
           "arrowwidth": 1
          },
          "autotypenumbers": "strict",
          "coloraxis": {
           "colorbar": {
            "outlinewidth": 0,
            "ticks": ""
           }
          },
          "colorscale": {
           "diverging": [
            [
             0,
             "#8e0152"
            ],
            [
             0.1,
             "#c51b7d"
            ],
            [
             0.2,
             "#de77ae"
            ],
            [
             0.3,
             "#f1b6da"
            ],
            [
             0.4,
             "#fde0ef"
            ],
            [
             0.5,
             "#f7f7f7"
            ],
            [
             0.6,
             "#e6f5d0"
            ],
            [
             0.7,
             "#b8e186"
            ],
            [
             0.8,
             "#7fbc41"
            ],
            [
             0.9,
             "#4d9221"
            ],
            [
             1,
             "#276419"
            ]
           ],
           "sequential": [
            [
             0,
             "#0d0887"
            ],
            [
             0.1111111111111111,
             "#46039f"
            ],
            [
             0.2222222222222222,
             "#7201a8"
            ],
            [
             0.3333333333333333,
             "#9c179e"
            ],
            [
             0.4444444444444444,
             "#bd3786"
            ],
            [
             0.5555555555555556,
             "#d8576b"
            ],
            [
             0.6666666666666666,
             "#ed7953"
            ],
            [
             0.7777777777777778,
             "#fb9f3a"
            ],
            [
             0.8888888888888888,
             "#fdca26"
            ],
            [
             1,
             "#f0f921"
            ]
           ],
           "sequentialminus": [
            [
             0,
             "#0d0887"
            ],
            [
             0.1111111111111111,
             "#46039f"
            ],
            [
             0.2222222222222222,
             "#7201a8"
            ],
            [
             0.3333333333333333,
             "#9c179e"
            ],
            [
             0.4444444444444444,
             "#bd3786"
            ],
            [
             0.5555555555555556,
             "#d8576b"
            ],
            [
             0.6666666666666666,
             "#ed7953"
            ],
            [
             0.7777777777777778,
             "#fb9f3a"
            ],
            [
             0.8888888888888888,
             "#fdca26"
            ],
            [
             1,
             "#f0f921"
            ]
           ]
          },
          "colorway": [
           "#636efa",
           "#EF553B",
           "#00cc96",
           "#ab63fa",
           "#FFA15A",
           "#19d3f3",
           "#FF6692",
           "#B6E880",
           "#FF97FF",
           "#FECB52"
          ],
          "font": {
           "color": "#2a3f5f"
          },
          "geo": {
           "bgcolor": "white",
           "lakecolor": "white",
           "landcolor": "#E5ECF6",
           "showlakes": true,
           "showland": true,
           "subunitcolor": "white"
          },
          "hoverlabel": {
           "align": "left"
          },
          "hovermode": "closest",
          "mapbox": {
           "style": "light"
          },
          "paper_bgcolor": "white",
          "plot_bgcolor": "#E5ECF6",
          "polar": {
           "angularaxis": {
            "gridcolor": "white",
            "linecolor": "white",
            "ticks": ""
           },
           "bgcolor": "#E5ECF6",
           "radialaxis": {
            "gridcolor": "white",
            "linecolor": "white",
            "ticks": ""
           }
          },
          "scene": {
           "xaxis": {
            "backgroundcolor": "#E5ECF6",
            "gridcolor": "white",
            "gridwidth": 2,
            "linecolor": "white",
            "showbackground": true,
            "ticks": "",
            "zerolinecolor": "white"
           },
           "yaxis": {
            "backgroundcolor": "#E5ECF6",
            "gridcolor": "white",
            "gridwidth": 2,
            "linecolor": "white",
            "showbackground": true,
            "ticks": "",
            "zerolinecolor": "white"
           },
           "zaxis": {
            "backgroundcolor": "#E5ECF6",
            "gridcolor": "white",
            "gridwidth": 2,
            "linecolor": "white",
            "showbackground": true,
            "ticks": "",
            "zerolinecolor": "white"
           }
          },
          "shapedefaults": {
           "line": {
            "color": "#2a3f5f"
           }
          },
          "ternary": {
           "aaxis": {
            "gridcolor": "white",
            "linecolor": "white",
            "ticks": ""
           },
           "baxis": {
            "gridcolor": "white",
            "linecolor": "white",
            "ticks": ""
           },
           "bgcolor": "#E5ECF6",
           "caxis": {
            "gridcolor": "white",
            "linecolor": "white",
            "ticks": ""
           }
          },
          "title": {
           "x": 0.05
          },
          "xaxis": {
           "automargin": true,
           "gridcolor": "white",
           "linecolor": "white",
           "ticks": "",
           "title": {
            "standoff": 15
           },
           "zerolinecolor": "white",
           "zerolinewidth": 2
          },
          "yaxis": {
           "automargin": true,
           "gridcolor": "white",
           "linecolor": "white",
           "ticks": "",
           "title": {
            "standoff": 15
           },
           "zerolinecolor": "white",
           "zerolinewidth": 2
          }
         }
        },
        "title": {
         "text": "OS-CVD Link Prediction"
        },
        "width": 1500
       }
      },
      "text/html": [
       "<div>                            <div id=\"d030cbf3-bdab-4e0f-aad8-351320016b1e\" class=\"plotly-graph-div\" style=\"height:2500px; width:1500px;\"></div>            <script type=\"text/javascript\">                require([\"plotly\"], function(Plotly) {                    window.PLOTLYENV=window.PLOTLYENV || {};                                    if (document.getElementById(\"d030cbf3-bdab-4e0f-aad8-351320016b1e\")) {                    Plotly.newPlot(                        \"d030cbf3-bdab-4e0f-aad8-351320016b1e\",                        [{\"link\":{\"source\":[0,1,2,3,4,5,6,7,8,9,10,11,12,13,14,15,16,17,18,19,20,21,22,23,24,25,26,27,28,29,30,31,32,33,34,35,36,37,38,39,25,41,42,43,44,45,46,47,48,49,50,51,52,53,54,55,56,57,58,59,60,61,62,63,64,65,66,67,68,69,1,71,72,73,74,75,76,77,78,79,80,81,82,83,84,85,86,87,88,89,90,91,92,93,94,10,96,97,98,99,100,101,102,103,92,105,106,107,108,109,110,111,112,113,114,115,116,4,5,119,120,121,72,100,124,114,126,127,128,129,130,131,132,96,134,105,136,137,138,139,140,141,142,143,144,145,146,147,148,149,150,151,152,153,154,155,156,157,158,159,160,14,162,30,31,32,33,35,36,37,38,39,25,41,42,43,44,45,47,48,49,50,51,52,53,54,55,56,57,58,59,60,61,62,194,115,116,119,120,132,134,201,3,203,204,205,206,207,208,209,210,211,212,213,214,215,216,217,218,219,220,221,222,223,224,225,226,226,226,227,227,227,228,228,228,229,229,229,230,230,230,231,231,231,232,232,232,233,233,233,234,234,234,235,235,235,235,236,236,236,236,237,237,237,237,237,237,237,238,238,238,239,239,240,240,240,240,240,240,240,240,240,240,240,240,240,240,240,240,240,241,241,241,241,241,241,241,241,241,241,241,241,241,241,241,241,241,241,241,241,242,242,242,242,242,242,242,242,242,242,243,243,243,243,243,243,243,243,243,243,243,243,244,244,245,245,246,247],\"target\":[226,226,226,226,226,226,226,226,226,226,226,226,226,226,226,226,226,226,226,226,226,226,226,227,227,227,227,227,227,227,227,227,227,227,227,227,227,227,227,227,227,227,227,227,227,227,227,227,227,227,227,227,227,227,227,227,227,227,227,227,227,227,227,227,227,228,228,228,228,228,228,228,228,228,228,228,228,228,228,228,228,228,228,228,228,228,228,228,228,228,228,228,228,228,228,228,228,228,228,228,228,228,228,228,228,228,228,228,228,228,228,229,229,229,229,229,229,229,229,229,229,229,229,229,229,229,229,229,229,229,229,229,229,229,229,229,229,229,230,230,230,230,230,230,230,230,230,230,230,230,230,230,230,230,230,230,230,230,230,230,230,230,231,231,231,231,231,231,231,231,231,231,231,231,231,231,231,231,231,231,231,231,231,231,231,231,231,231,231,231,231,231,231,231,232,232,232,232,232,232,232,233,233,233,233,233,233,233,233,233,233,233,233,233,233,233,233,233,233,233,233,233,233,233,233,233,234,235,236,234,235,236,234,235,236,234,235,236,234,235,236,234,235,236,234,235,236,234,235,236,237,238,239,240,241,242,243,244,245,246,247,248,249,250,251,252,253,254,255,256,257,258,259,260,261,262,263,264,265,266,267,268,269,270,271,272,273,274,275,276,277,278,279,280,281,282,283,284,285,286,287,288,289,290,291,292,293,294,295,296,297,298,299,300,301,302,303,304,305,306,307,308,309,310,311,312,313,314,315,316,317,318,319,320,259,258,321,322],\"value\":[973055.0,86820.0,39425.0,537050.0,500359.0,36687.0,43187.0,87631.0,86053.0,47843.0,35088.0,76174.0,20095.0,36139.0,546877.0,507980.0,17762.0,4092116.0,41531.0,24742.0,38532.0,38152.0,57816.0,1997981.0,97039.0,98614.0,17695.0,1979555.0,195813.0,363530.0,131085.0,164307.0,32170.0,98678.0,17170.0,632813.0,65394.0,114066.0,308238.0,18970.0,98614.0,33670.0,270721.0,19495.0,17769.0,20092.0,18595.0,33820.0,16120.0,18895.0,184415.0,620946.0,158839.0,18520.0,108595.0,20545.0,207509.0,44393.0,26620.0,39070.0,514962.0,17620.0,95533.0,547338.0,15895.0,1734642.0,20992.0,87905.0,298079.0,15295.0,0.0,20090.0,80981.0,36070.0,302389.0,16270.0,19720.0,28794.0,17020.0,62019.0,56408.0,295545.0,73118.0,49565.0,166842.0,23845.0,41766.0,32539.0,397614.0,104086.0,19120.0,394607.0,39890.0,32534.0,96365.0,0.0,19569.0,19119.0,209481.0,67784.0,15670.0,309097.0,237355.0,21745.0,39890.0,33668.0,16570.0,29094.0,31116.0,246837.0,19645.0,772569.0,18294.0,474361.0,20770.0,910261.0,37643.0,0.0,0.0,19345.0,25195.0,70157.0,0.0,0.0,15970.0,20770.0,170606.0,17770.0,767284.0,518896.0,61194.0,78815.0,200536.0,0.0,20620.0,0.0,220560.0,51518.0,1268345.0,597029.0,1005734.0,299905.0,74305.0,61779.0,49322.0,4002654.0,142708.0,2146301.0,137664.0,408091.0,270210.0,264026.0,144691.0,17545.0,18745.0,5373607.0,44466.0,25718.0,60366.0,316530.0,206815.0,0.0,77915.0,0.0,0.0,0.0,0.0,0.0,0.0,0.0,0.0,0.0,0.0,0.0,0.0,0.0,0.0,0.0,0.0,0.0,0.0,0.0,0.0,0.0,0.0,0.0,0.0,0.0,0.0,0.0,0.0,0.0,0.0,0.0,135589.0,0.0,0.0,0.0,0.0,0.0,0.0,750160.0,0.0,469419.0,82543.0,340919.0,616530.0,86015.0,19420.0,963442.0,531259.0,14995.0,196642.0,78965.0,56765.0,39820.0,68441.0,920110.0,142116.0,223051.0,524673.0,16120.0,20920.0,282121.0,112344.0,37495.0,1308868.0,6252215.0,410031.0,1565587.0,7363297.0,474211.0,998652.0,4559319.0,282889.0,745411.0,3501746.0,225207.0,2743513.0,13304668.0,888375.0,13960.0,60466.0,3489.0,23188.0,105836.0,6565.0,1090651.0,5167860.0,335774.0,4740413.0,2327774.0,1421643.0,11539227.0,13703332.0,7060749.0,8012099.0,1313885.0,0.0,656935.0,655721.0,714571.0,709178.0,662866.0,652048.0,681403.0,658512.0,661835.0,1006211.0,659387.0,662176.0,758064.0,663579.0,669349.0,767610.0,720374.0,682441.0,662184.0,652917.0,652746.0,659038.0,651173.0,654666.0,658691.0,702921.0,677741.0,657637.0,761975.0,651173.0,656591.0,652921.0,656066.0,659035.0,702532.0,1000295.0,663415.0,653271.0,699228.0,796342.0,651698.0,663574.0,651523.0,651348.0,651348.0,653618.0,651345.0,651173.0,652922.0,656238.0,685440.0,651173.0,651698.0,709716.0,677032.0,802462.0,805129.0,711982.0,656419.0,652219.0,742919.0,715143.0,653446.0,651870.0,666033.0,705879.0,663589.0,664110.0,651696.0,661306.0,673007.0,651348.0,654672.0,658338.0,655547.0,0.0,0.0,656935.0,655721.0]},\"node\":{\"color\":\"blue\",\"label\":[\"cardiomyopathies\",\"arrhythmogenic right ventricular dysplasia\",\"cardiomyopathy, alcoholic\",\"cardiomyopathy, dilated\",\"cardiomyopathy, hypertrophic\",\"cardiomyopathy, hypertrophic, familial\",\"cardiomyopathy, restrictive\",\"chagas cardiomyopathy\",\"diabetic cardiomyopathies\",\"endocardial fibroelastosis\",\"isolated noncompaction of the ventricular myocardium\",\"endomyocardial fibrosis\",\"glycogen storage disease type iib\",\"kearns-sayre syndrome\",\"myocardial reperfusion injury\",\"myocarditis\",\"sarcoglycanopathies\",\"heart failure\",\"cardio-renal syndrome\",\"dyspnea, paroxysmal\",\"edema, cardiac\",\"heart failure, diastolic\",\"heart failure, systolic\",\"arrhythmias, cardiac\",\"arrhythmia, sinus\",\"sick sinus syndrome\",\"sinus arrest, cardiac\",\"atrial fibrillation\",\"atrial flutter\",\"bradycardia\",\"brugada syndrome\",\"cardiac complexes, premature\",\"atrial premature complexes\",\"ventricular premature complexes\",\"commotio cordis\",\"heart block\",\"adams-stokes syndrome\",\"atrioventricular block\",\"bundle-branch block\",\"interatrial block\",\"sick sinus syndrome\",\"sinoatrial block\",\"long qt syndrome\",\"andersen syndrome\",\"jervell-lange nielsen syndrome\",\"romano-ward syndrome\",\"parasystole\",\"pre-excitation syndromes\",\"lown-ganong-levine syndrome\",\"pre-excitation, mahaim-type\",\"wolff-parkinson-white syndrome\",\"tachycardia\",\"tachycardia, paroxysmal\",\"tachycardia, reciprocating\",\"tachycardia, atrioventricular nodal reentry\",\"tachycardia, sinoatrial nodal reentry\",\"tachycardia, supraventricular\",\"tachycardia, ectopic atrial\",\"tachycardia, ectopic junctional\",\"tachycardia, sinus\",\"tachycardia, ventricular\",\"accelerated idioventricular rhythm\",\"torsades de pointes\",\"ventricular fibrillation\",\"ventricular flutter\",\"heart defects, congenital\",\"22q11 deletion syndrome\",\"digeorge syndrome\",\"aortic coarctation\",\"aortico-ventricular tunnel\",\"arrhythmogenic right ventricular dysplasia\",\"barth syndrome\",\"bicuspid aortic valve disease\",\"cor triatriatum\",\"coronary vessel anomalies\",\"anomalous left coronary artery\",\"bland white garland syndrome\",\"myocardial bridging\",\"crisscross heart\",\"dextrocardia\",\"kartagener syndrome\",\"ductus arteriosus, patent\",\"ebstein anomaly\",\"eisenmenger complex\",\"heart septal defects\",\"aortopulmonary septal defect\",\"truncus arteriosus, persistent\",\"endocardial cushion defects\",\"heart septal defects, atrial\",\"foramen ovale, patent\",\"lutembacher syndrome\",\"heart septal defects, ventricular\",\"double outlet right ventricle\",\"heterotaxy syndrome\",\"hypoplastic left heart syndrome\",\"isolated noncompaction of the ventricular myocardium\",\"leopard syndrome\",\"levocardia\",\"marfan syndrome\",\"noonan syndrome\",\"quadricuspid aortic valve\",\"tetralogy of fallot\",\"transposition of great vessels\",\"congenitally corrected transposition of the great arteries\",\"double outlet right ventricle\",\"tricuspid atresia\",\"trilogy of fallot\",\"trisomy 13 syndrome\",\"trisomy 18 syndrome\",\"turner syndrome\",\"univentricular heart\",\"heart valve diseases\",\"aortic valve disease\",\"aortic valve insufficiency\",\"aortic valve prolapse\",\"aortic valve stenosis\",\"aortic stenosis, subvalvular\",\"cardiomyopathy, hypertrophic\",\"cardiomyopathy, hypertrophic, familial\",\"discrete subaortic stenosis\",\"aortic stenosis, supravalvular\",\"williams syndrome\",\"bicuspid aortic valve disease\",\"quadricuspid aortic valve\",\"heart valve prolapse\",\"aortic valve prolapse\",\"mitral valve prolapse\",\"tricuspid valve prolapse\",\"mitral valve insufficiency\",\"mitral valve stenosis\",\"pulmonary atresia\",\"pulmonary valve insufficiency\",\"pulmonary valve stenosis\",\"leopard syndrome\",\"pulmonary subvalvular stenosis\",\"tricuspid atresia\",\"tricuspid valve insufficiency\",\"tricuspid valve stenosis\",\"myocardial ischemia\",\"acute coronary syndrome\",\"angina pectoris\",\"angina, unstable\",\"angina pectoris, variant\",\"angina, stable\",\"microvascular angina\",\"coronary disease\",\"coronary aneurysm\",\"coronary artery disease\",\"coronary occlusion\",\"coronary stenosis\",\"coronary restenosis\",\"coronary thrombosis\",\"coronary vasospasm\",\"coronary-subclavian steal syndrome\",\"kounis syndrome\",\"myocardial infarction\",\"anterior wall myocardial infarction\",\"inferior wall myocardial infarction\",\"non-st elevated myocardial infarction\",\"shock, cardiogenic\",\"st elevation myocardial infarction\",\"myocardial reperfusion injury\",\"cardiac conduction system disease\",\"brugada syndrome\",\"cardiac complexes, premature\",\"atrial premature complexes\",\"ventricular premature complexes\",\"heart block\",\"adams-stokes syndrome\",\"atrioventricular block\",\"bundle-branch block\",\"interatrial block\",\"sick sinus syndrome\",\"sinoatrial block\",\"long qt syndrome\",\"andersen syndrome\",\"jervell-lange nielsen syndrome\",\"romano-ward syndrome\",\"pre-excitation syndromes\",\"lown-ganong-levine syndrome\",\"pre-excitation, mahaim-type\",\"wolff-parkinson-white syndrome\",\"tachycardia\",\"tachycardia, paroxysmal\",\"tachycardia, reciprocating\",\"tachycardia, atrioventricular nodal reentry\",\"tachycardia, sinoatrial nodal reentry\",\"tachycardia, supraventricular\",\"tachycardia, ectopic atrial\",\"tachycardia, ectopic junctional\",\"tachycardia, sinus\",\"tachycardia, ventricular\",\"accelerated idioventricular rhythm\",\"torsades de pointes\",\"ventricular outflow obstruction\",\"aortic valve stenosis\",\"aortic stenosis, subvalvular\",\"discrete subaortic stenosis\",\"aortic stenosis, supravalvular\",\"pulmonary valve stenosis\",\"pulmonary subvalvular stenosis\",\"cardiomegaly\",\"cardiomyopathy, dilated\",\"hypertrophy, left ventricular\",\"hypertrophy, right ventricular\",\"endocarditis\",\"endocarditis, bacterial\",\"endocarditis, subacute bacterial\",\"endocarditis, non-infective\",\"heart arrest\",\"death, sudden, cardiac\",\"karoshi death\",\"out-of-hospital cardiac arrest\",\"heart rupture\",\"heart rupture, post-infarction\",\"ventricular septal rupture\",\"ventricular dysfunction\",\"ventricular dysfunction, left\",\"takotsubo cardiomyopathy\",\"ventricular dysfunction, right\",\"heart neoplasms\",\"cardiac papillary fibroelastoma\",\"carney complex\",\"pericarditis\",\"pericarditis, constrictive\",\"pericarditis, tuberculous\",\"CM\",\"ARR\",\"CHD\",\"VD\",\"IHD\",\"CCS\",\"VOO\",\"OHD\",\"IOS\",\"MOS\",\"OOS\",\"Reactive Oxygen Species (ROS)\",\"Reactive Nitrogen Species (RNS)\",\"Reactive Aldehydes\",\"Redox Metabolites\",\"Antioxidant Enzymes\",\"Redox Regulating Proteins\",\"Antioxidants\",\"Protein Oxidation (O-PTMs)\",\"Lipid Peroxidation Products\",\"Oxidative DNA Damage\",\"Nitrative DNA Damage\",\"superoxides\",\"hydrogen peroxide\",\"hydroxyl radical\",\"singlet oxygen\",\"lipid peroxides\",\"epoxy compounds\",\"ozone\",\"nitric oxide\",\"nitrogen dioxide\",\"peroxynitrous acid\",\"malondialdehyde\",\"aldehydes\",\"cysteine\",\"homocysteine\",\"glutathione\",\"nad\",\"nadp\",\"flavin-adenine dinucleotide\",\"cystine\",\"glutathione disulfide\",\"5,10-methylenetetrahydrofolate reductase (fadh2)\",\"quinones\",\"disulfides\",\"fatty acids, unsaturated\",\"proline\",\"glycolates\",\"uric acid\",\"d-aspartic acid\",\"xanthine\",\"glutamate-cysteine ligase\",\"nad(p)h dehydrogenase (quinone)\",\"glutathione reductase\",\"catalase\",\"isoenzymes\",\"glutathione transferase\",\"glutathione s-transferase pi\",\"glutathione peroxidase\",\"superoxide dismutase\",\"methionine sulfoxide reductases\",\"thioredoxins\",\"protein disulfide reductase (glutathione)\",\"thioredoxin reductase 2\",\"thioredoxin reductase 1\",\"peroxiredoxins\",\"peroxiredoxin iii\",\"peroxiredoxin vi\",\"glutaredoxins\",\"procollagen-proline dioxygenase\",\"oxidoreductases\",\"mafk transcription factor\",\"ribonucleoprotein, u5 small nuclear\",\"nuclear proteins\",\"cell cycle proteins\",\"membrane proteins\",\"carrier proteins\",\"membrane glycoproteins\",\"antigens, neoplasm\",\"protein disulfide-isomerases\",\"dna-binding proteins\",\"vitamin e\",\"tocopherols\",\"tocotrienols\",\"vitamin a\",\"ascorbic acid\",\"carotenoids\",\"beta carotene\",\"lutein\",\"manganese\",\"melatonin\",\"zeaxanthins\",\"lycopene\",\"protein carbonylation\",\"hydroxylation\",\"deoxyguanosine\",\"guanine\"],\"line\":{\"color\":\"black\",\"width\":0.5},\"pad\":15,\"thickness\":20},\"type\":\"sankey\"}],                        {\"template\":{\"data\":{\"histogram2dcontour\":[{\"type\":\"histogram2dcontour\",\"colorbar\":{\"outlinewidth\":0,\"ticks\":\"\"},\"colorscale\":[[0.0,\"#0d0887\"],[0.1111111111111111,\"#46039f\"],[0.2222222222222222,\"#7201a8\"],[0.3333333333333333,\"#9c179e\"],[0.4444444444444444,\"#bd3786\"],[0.5555555555555556,\"#d8576b\"],[0.6666666666666666,\"#ed7953\"],[0.7777777777777778,\"#fb9f3a\"],[0.8888888888888888,\"#fdca26\"],[1.0,\"#f0f921\"]]}],\"choropleth\":[{\"type\":\"choropleth\",\"colorbar\":{\"outlinewidth\":0,\"ticks\":\"\"}}],\"histogram2d\":[{\"type\":\"histogram2d\",\"colorbar\":{\"outlinewidth\":0,\"ticks\":\"\"},\"colorscale\":[[0.0,\"#0d0887\"],[0.1111111111111111,\"#46039f\"],[0.2222222222222222,\"#7201a8\"],[0.3333333333333333,\"#9c179e\"],[0.4444444444444444,\"#bd3786\"],[0.5555555555555556,\"#d8576b\"],[0.6666666666666666,\"#ed7953\"],[0.7777777777777778,\"#fb9f3a\"],[0.8888888888888888,\"#fdca26\"],[1.0,\"#f0f921\"]]}],\"heatmap\":[{\"type\":\"heatmap\",\"colorbar\":{\"outlinewidth\":0,\"ticks\":\"\"},\"colorscale\":[[0.0,\"#0d0887\"],[0.1111111111111111,\"#46039f\"],[0.2222222222222222,\"#7201a8\"],[0.3333333333333333,\"#9c179e\"],[0.4444444444444444,\"#bd3786\"],[0.5555555555555556,\"#d8576b\"],[0.6666666666666666,\"#ed7953\"],[0.7777777777777778,\"#fb9f3a\"],[0.8888888888888888,\"#fdca26\"],[1.0,\"#f0f921\"]]}],\"heatmapgl\":[{\"type\":\"heatmapgl\",\"colorbar\":{\"outlinewidth\":0,\"ticks\":\"\"},\"colorscale\":[[0.0,\"#0d0887\"],[0.1111111111111111,\"#46039f\"],[0.2222222222222222,\"#7201a8\"],[0.3333333333333333,\"#9c179e\"],[0.4444444444444444,\"#bd3786\"],[0.5555555555555556,\"#d8576b\"],[0.6666666666666666,\"#ed7953\"],[0.7777777777777778,\"#fb9f3a\"],[0.8888888888888888,\"#fdca26\"],[1.0,\"#f0f921\"]]}],\"contourcarpet\":[{\"type\":\"contourcarpet\",\"colorbar\":{\"outlinewidth\":0,\"ticks\":\"\"}}],\"contour\":[{\"type\":\"contour\",\"colorbar\":{\"outlinewidth\":0,\"ticks\":\"\"},\"colorscale\":[[0.0,\"#0d0887\"],[0.1111111111111111,\"#46039f\"],[0.2222222222222222,\"#7201a8\"],[0.3333333333333333,\"#9c179e\"],[0.4444444444444444,\"#bd3786\"],[0.5555555555555556,\"#d8576b\"],[0.6666666666666666,\"#ed7953\"],[0.7777777777777778,\"#fb9f3a\"],[0.8888888888888888,\"#fdca26\"],[1.0,\"#f0f921\"]]}],\"surface\":[{\"type\":\"surface\",\"colorbar\":{\"outlinewidth\":0,\"ticks\":\"\"},\"colorscale\":[[0.0,\"#0d0887\"],[0.1111111111111111,\"#46039f\"],[0.2222222222222222,\"#7201a8\"],[0.3333333333333333,\"#9c179e\"],[0.4444444444444444,\"#bd3786\"],[0.5555555555555556,\"#d8576b\"],[0.6666666666666666,\"#ed7953\"],[0.7777777777777778,\"#fb9f3a\"],[0.8888888888888888,\"#fdca26\"],[1.0,\"#f0f921\"]]}],\"mesh3d\":[{\"type\":\"mesh3d\",\"colorbar\":{\"outlinewidth\":0,\"ticks\":\"\"}}],\"scatter\":[{\"fillpattern\":{\"fillmode\":\"overlay\",\"size\":10,\"solidity\":0.2},\"type\":\"scatter\"}],\"parcoords\":[{\"type\":\"parcoords\",\"line\":{\"colorbar\":{\"outlinewidth\":0,\"ticks\":\"\"}}}],\"scatterpolargl\":[{\"type\":\"scatterpolargl\",\"marker\":{\"colorbar\":{\"outlinewidth\":0,\"ticks\":\"\"}}}],\"bar\":[{\"error_x\":{\"color\":\"#2a3f5f\"},\"error_y\":{\"color\":\"#2a3f5f\"},\"marker\":{\"line\":{\"color\":\"#E5ECF6\",\"width\":0.5},\"pattern\":{\"fillmode\":\"overlay\",\"size\":10,\"solidity\":0.2}},\"type\":\"bar\"}],\"scattergeo\":[{\"type\":\"scattergeo\",\"marker\":{\"colorbar\":{\"outlinewidth\":0,\"ticks\":\"\"}}}],\"scatterpolar\":[{\"type\":\"scatterpolar\",\"marker\":{\"colorbar\":{\"outlinewidth\":0,\"ticks\":\"\"}}}],\"histogram\":[{\"marker\":{\"pattern\":{\"fillmode\":\"overlay\",\"size\":10,\"solidity\":0.2}},\"type\":\"histogram\"}],\"scattergl\":[{\"type\":\"scattergl\",\"marker\":{\"colorbar\":{\"outlinewidth\":0,\"ticks\":\"\"}}}],\"scatter3d\":[{\"type\":\"scatter3d\",\"line\":{\"colorbar\":{\"outlinewidth\":0,\"ticks\":\"\"}},\"marker\":{\"colorbar\":{\"outlinewidth\":0,\"ticks\":\"\"}}}],\"scattermapbox\":[{\"type\":\"scattermapbox\",\"marker\":{\"colorbar\":{\"outlinewidth\":0,\"ticks\":\"\"}}}],\"scatterternary\":[{\"type\":\"scatterternary\",\"marker\":{\"colorbar\":{\"outlinewidth\":0,\"ticks\":\"\"}}}],\"scattercarpet\":[{\"type\":\"scattercarpet\",\"marker\":{\"colorbar\":{\"outlinewidth\":0,\"ticks\":\"\"}}}],\"carpet\":[{\"aaxis\":{\"endlinecolor\":\"#2a3f5f\",\"gridcolor\":\"white\",\"linecolor\":\"white\",\"minorgridcolor\":\"white\",\"startlinecolor\":\"#2a3f5f\"},\"baxis\":{\"endlinecolor\":\"#2a3f5f\",\"gridcolor\":\"white\",\"linecolor\":\"white\",\"minorgridcolor\":\"white\",\"startlinecolor\":\"#2a3f5f\"},\"type\":\"carpet\"}],\"table\":[{\"cells\":{\"fill\":{\"color\":\"#EBF0F8\"},\"line\":{\"color\":\"white\"}},\"header\":{\"fill\":{\"color\":\"#C8D4E3\"},\"line\":{\"color\":\"white\"}},\"type\":\"table\"}],\"barpolar\":[{\"marker\":{\"line\":{\"color\":\"#E5ECF6\",\"width\":0.5},\"pattern\":{\"fillmode\":\"overlay\",\"size\":10,\"solidity\":0.2}},\"type\":\"barpolar\"}],\"pie\":[{\"automargin\":true,\"type\":\"pie\"}]},\"layout\":{\"autotypenumbers\":\"strict\",\"colorway\":[\"#636efa\",\"#EF553B\",\"#00cc96\",\"#ab63fa\",\"#FFA15A\",\"#19d3f3\",\"#FF6692\",\"#B6E880\",\"#FF97FF\",\"#FECB52\"],\"font\":{\"color\":\"#2a3f5f\"},\"hovermode\":\"closest\",\"hoverlabel\":{\"align\":\"left\"},\"paper_bgcolor\":\"white\",\"plot_bgcolor\":\"#E5ECF6\",\"polar\":{\"bgcolor\":\"#E5ECF6\",\"angularaxis\":{\"gridcolor\":\"white\",\"linecolor\":\"white\",\"ticks\":\"\"},\"radialaxis\":{\"gridcolor\":\"white\",\"linecolor\":\"white\",\"ticks\":\"\"}},\"ternary\":{\"bgcolor\":\"#E5ECF6\",\"aaxis\":{\"gridcolor\":\"white\",\"linecolor\":\"white\",\"ticks\":\"\"},\"baxis\":{\"gridcolor\":\"white\",\"linecolor\":\"white\",\"ticks\":\"\"},\"caxis\":{\"gridcolor\":\"white\",\"linecolor\":\"white\",\"ticks\":\"\"}},\"coloraxis\":{\"colorbar\":{\"outlinewidth\":0,\"ticks\":\"\"}},\"colorscale\":{\"sequential\":[[0.0,\"#0d0887\"],[0.1111111111111111,\"#46039f\"],[0.2222222222222222,\"#7201a8\"],[0.3333333333333333,\"#9c179e\"],[0.4444444444444444,\"#bd3786\"],[0.5555555555555556,\"#d8576b\"],[0.6666666666666666,\"#ed7953\"],[0.7777777777777778,\"#fb9f3a\"],[0.8888888888888888,\"#fdca26\"],[1.0,\"#f0f921\"]],\"sequentialminus\":[[0.0,\"#0d0887\"],[0.1111111111111111,\"#46039f\"],[0.2222222222222222,\"#7201a8\"],[0.3333333333333333,\"#9c179e\"],[0.4444444444444444,\"#bd3786\"],[0.5555555555555556,\"#d8576b\"],[0.6666666666666666,\"#ed7953\"],[0.7777777777777778,\"#fb9f3a\"],[0.8888888888888888,\"#fdca26\"],[1.0,\"#f0f921\"]],\"diverging\":[[0,\"#8e0152\"],[0.1,\"#c51b7d\"],[0.2,\"#de77ae\"],[0.3,\"#f1b6da\"],[0.4,\"#fde0ef\"],[0.5,\"#f7f7f7\"],[0.6,\"#e6f5d0\"],[0.7,\"#b8e186\"],[0.8,\"#7fbc41\"],[0.9,\"#4d9221\"],[1,\"#276419\"]]},\"xaxis\":{\"gridcolor\":\"white\",\"linecolor\":\"white\",\"ticks\":\"\",\"title\":{\"standoff\":15},\"zerolinecolor\":\"white\",\"automargin\":true,\"zerolinewidth\":2},\"yaxis\":{\"gridcolor\":\"white\",\"linecolor\":\"white\",\"ticks\":\"\",\"title\":{\"standoff\":15},\"zerolinecolor\":\"white\",\"automargin\":true,\"zerolinewidth\":2},\"scene\":{\"xaxis\":{\"backgroundcolor\":\"#E5ECF6\",\"gridcolor\":\"white\",\"linecolor\":\"white\",\"showbackground\":true,\"ticks\":\"\",\"zerolinecolor\":\"white\",\"gridwidth\":2},\"yaxis\":{\"backgroundcolor\":\"#E5ECF6\",\"gridcolor\":\"white\",\"linecolor\":\"white\",\"showbackground\":true,\"ticks\":\"\",\"zerolinecolor\":\"white\",\"gridwidth\":2},\"zaxis\":{\"backgroundcolor\":\"#E5ECF6\",\"gridcolor\":\"white\",\"linecolor\":\"white\",\"showbackground\":true,\"ticks\":\"\",\"zerolinecolor\":\"white\",\"gridwidth\":2}},\"shapedefaults\":{\"line\":{\"color\":\"#2a3f5f\"}},\"annotationdefaults\":{\"arrowcolor\":\"#2a3f5f\",\"arrowhead\":0,\"arrowwidth\":1},\"geo\":{\"bgcolor\":\"white\",\"landcolor\":\"#E5ECF6\",\"subunitcolor\":\"white\",\"showland\":true,\"showlakes\":true,\"lakecolor\":\"white\"},\"title\":{\"x\":0.05},\"mapbox\":{\"style\":\"light\"}}},\"title\":{\"text\":\"OS-CVD Link Prediction\"},\"font\":{\"size\":10},\"width\":1500,\"height\":2500},                        {\"responsive\": true}                    ).then(function(){\n",
       "                            \n",
       "var gd = document.getElementById('d030cbf3-bdab-4e0f-aad8-351320016b1e');\n",
       "var x = new MutationObserver(function (mutations, observer) {{\n",
       "        var display = window.getComputedStyle(gd).display;\n",
       "        if (!display || display === 'none') {{\n",
       "            console.log([gd, 'removed!']);\n",
       "            Plotly.purge(gd);\n",
       "            observer.disconnect();\n",
       "        }}\n",
       "}});\n",
       "\n",
       "// Listen for the removal of the full notebook cells\n",
       "var notebookContainer = gd.closest('#notebook-container');\n",
       "if (notebookContainer) {{\n",
       "    x.observe(notebookContainer, {childList: true});\n",
       "}}\n",
       "\n",
       "// Listen for the clearing of the current output cell\n",
       "var outputEl = gd.closest('.output');\n",
       "if (outputEl) {{\n",
       "    x.observe(outputEl, {childList: true});\n",
       "}}\n",
       "\n",
       "                        })                };                });            </script>        </div>"
      ]
     },
     "metadata": {},
     "output_type": "display_data"
    },
    {
     "data": {
      "text/plain": [
       "<Figure size 3600x3600 with 0 Axes>"
      ]
     },
     "metadata": {},
     "output_type": "display_data"
    }
   ],
   "source": [
    "import plotly.graph_objects as go\n",
    "plt.figure(figsize = [50,50])\n",
    "\n",
    "fig = go.Figure(data=[go.Sankey(\n",
    "    node = dict(\n",
    "      pad = 15,\n",
    "      thickness = 20,\n",
    "      line = dict(color = \"black\", width = 0.5),\n",
    "      label = label,\n",
    "      color = \"blue\"\n",
    "    ),\n",
    "    link = dict(\n",
    "      source = source,\n",
    "      target = target,\n",
    "      value =  value,\n",
    "  ))])\n",
    "\n",
    "fig.update_layout(title_text=\"OS-CVD Link Prediction\", font_size=10, width=1500, \n",
    "      height=2500)\n",
    "fig.write_html(\"plots/link-os-cvd-mesh.html\")\n",
    "fig.show()"
   ]
  },
  {
   "cell_type": "code",
   "execution_count": null,
   "id": "2009f0dd",
   "metadata": {},
   "outputs": [],
   "source": []
  },
  {
   "cell_type": "code",
   "execution_count": null,
   "id": "558c472f",
   "metadata": {},
   "outputs": [],
   "source": []
  },
  {
   "cell_type": "code",
   "execution_count": null,
   "id": "37bc8c65",
   "metadata": {},
   "outputs": [],
   "source": []
  },
  {
   "cell_type": "code",
   "execution_count": null,
   "id": "5cd91a95",
   "metadata": {},
   "outputs": [],
   "source": []
  },
  {
   "cell_type": "code",
   "execution_count": null,
   "id": "10ffd07e",
   "metadata": {},
   "outputs": [],
   "source": []
  }
 ],
 "metadata": {
  "kernelspec": {
   "display_name": "Python 3",
   "language": "python",
   "name": "python3"
  },
  "language_info": {
   "codemirror_mode": {
    "name": "ipython",
    "version": 3
   },
   "file_extension": ".py",
   "mimetype": "text/x-python",
   "name": "python",
   "nbconvert_exporter": "python",
   "pygments_lexer": "ipython3",
   "version": "3.8.8"
  }
 },
 "nbformat": 4,
 "nbformat_minor": 5
}
