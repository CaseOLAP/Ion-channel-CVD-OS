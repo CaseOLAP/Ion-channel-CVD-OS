{
 "cells": [
  {
   "cell_type": "markdown",
   "metadata": {},
   "source": [
    "## Preparing Interface Data"
   ]
  },
  {
   "cell_type": "code",
   "execution_count": 1,
   "metadata": {},
   "outputs": [],
   "source": [
    "import json as json\n",
    "import pandas as pd"
   ]
  },
  {
   "cell_type": "markdown",
   "metadata": {},
   "source": [
    "- Upload CVD Cell2PMID data and OS Cell2PMID data"
   ]
  },
  {
   "cell_type": "code",
   "execution_count": 2,
   "metadata": {},
   "outputs": [],
   "source": [
    "with open(\"../../caseolap-cvd/data/textcube_cell2pmid.json\",'r') as f1:\n",
    "    texcube_cell2pmid_cvd = json.load(f1)"
   ]
  },
  {
   "cell_type": "code",
   "execution_count": 3,
   "metadata": {},
   "outputs": [],
   "source": [
    "with open(\"../../caseolap-os/data/textcube_cell2pmid.json\",'r') as f1:\n",
    "    texcube_cell2pmid_os = json.load(f1)\n"
   ]
  },
  {
   "cell_type": "markdown",
   "metadata": {},
   "source": [
    "- CVD and OS catagories"
   ]
  },
  {
   "cell_type": "code",
   "execution_count": 4,
   "metadata": {},
   "outputs": [],
   "source": [
    "CVD = [\"CM\",\"ARR\",\"CHD\",\"VD\",\"IHD\",\"CCS\",\"VOO\",\"OHD\"]\n",
    "OS = [\"IOS\", \"ROS\",\"OOS\"]"
   ]
  },
  {
   "cell_type": "markdown",
   "metadata": {},
   "source": [
    "#### Intersection of Documents"
   ]
  },
  {
   "cell_type": "markdown",
   "metadata": {},
   "source": [
    "- Find the intersection of the documents among the CVDs and OSs"
   ]
  },
  {
   "cell_type": "code",
   "execution_count": 5,
   "metadata": {},
   "outputs": [],
   "source": [
    "DATA = []\n",
    "\n",
    "for os,cell2pmid_os in zip(OS,texcube_cell2pmid_os):\n",
    "    data = {\"OS\":os}\n",
    "    \n",
    "    for cvd,cell2pmid_cvd in zip(CVD,texcube_cell2pmid_cvd):\n",
    "        \n",
    "        '''Find the intersection of two sets'''\n",
    "        ints = set(cell2pmid_os).intersection(set(cell2pmid_cvd))\n",
    "        \n",
    "        data.update({cvd:len(ints)})\n",
    "        \n",
    "    DATA.append(data)\n",
    "    #print(os,cvd,len(ints))"
   ]
  },
  {
   "cell_type": "code",
   "execution_count": 6,
   "metadata": {},
   "outputs": [],
   "source": [
    "#DATA"
   ]
  },
  {
   "cell_type": "code",
   "execution_count": 7,
   "metadata": {},
   "outputs": [
    {
     "data": {
      "text/html": [
       "<div>\n",
       "<style scoped>\n",
       "    .dataframe tbody tr th:only-of-type {\n",
       "        vertical-align: middle;\n",
       "    }\n",
       "\n",
       "    .dataframe tbody tr th {\n",
       "        vertical-align: top;\n",
       "    }\n",
       "\n",
       "    .dataframe thead th {\n",
       "        text-align: right;\n",
       "    }\n",
       "</style>\n",
       "<table border=\"1\" class=\"dataframe\">\n",
       "  <thead>\n",
       "    <tr style=\"text-align: right;\">\n",
       "      <th></th>\n",
       "      <th>OS</th>\n",
       "      <th>CM</th>\n",
       "      <th>ARR</th>\n",
       "      <th>CHD</th>\n",
       "      <th>VD</th>\n",
       "      <th>IHD</th>\n",
       "      <th>CCS</th>\n",
       "      <th>VOO</th>\n",
       "      <th>OHD</th>\n",
       "    </tr>\n",
       "  </thead>\n",
       "  <tbody>\n",
       "    <tr>\n",
       "      <th>0</th>\n",
       "      <td>IOS</td>\n",
       "      <td>4900</td>\n",
       "      <td>1565</td>\n",
       "      <td>1289</td>\n",
       "      <td>423</td>\n",
       "      <td>10388</td>\n",
       "      <td>332</td>\n",
       "      <td>126</td>\n",
       "      <td>1957</td>\n",
       "    </tr>\n",
       "    <tr>\n",
       "      <th>1</th>\n",
       "      <td>ROS</td>\n",
       "      <td>26351</td>\n",
       "      <td>12903</td>\n",
       "      <td>5296</td>\n",
       "      <td>3243</td>\n",
       "      <td>39348</td>\n",
       "      <td>5638</td>\n",
       "      <td>738</td>\n",
       "      <td>14204</td>\n",
       "    </tr>\n",
       "    <tr>\n",
       "      <th>2</th>\n",
       "      <td>OOS</td>\n",
       "      <td>1073</td>\n",
       "      <td>216</td>\n",
       "      <td>103</td>\n",
       "      <td>136</td>\n",
       "      <td>1633</td>\n",
       "      <td>75</td>\n",
       "      <td>28</td>\n",
       "      <td>344</td>\n",
       "    </tr>\n",
       "  </tbody>\n",
       "</table>\n",
       "</div>"
      ],
      "text/plain": [
       "    OS     CM    ARR   CHD    VD    IHD   CCS  VOO    OHD\n",
       "0  IOS   4900   1565  1289   423  10388   332  126   1957\n",
       "1  ROS  26351  12903  5296  3243  39348  5638  738  14204\n",
       "2  OOS   1073    216   103   136   1633    75   28    344"
      ]
     },
     "execution_count": 7,
     "metadata": {},
     "output_type": "execute_result"
    }
   ],
   "source": [
    "df = pd.DataFrame(DATA)\n",
    "df"
   ]
  },
  {
   "cell_type": "code",
   "execution_count": 8,
   "metadata": {},
   "outputs": [],
   "source": [
    "df.to_csv(\"cvd-os-ints-docs.csv\")"
   ]
  },
  {
   "cell_type": "markdown",
   "metadata": {},
   "source": [
    "### Intersection of Proteins"
   ]
  },
  {
   "cell_type": "code",
   "execution_count": 24,
   "metadata": {},
   "outputs": [
    {
     "data": {
      "text/html": [
       "<div>\n",
       "<style scoped>\n",
       "    .dataframe tbody tr th:only-of-type {\n",
       "        vertical-align: middle;\n",
       "    }\n",
       "\n",
       "    .dataframe tbody tr th {\n",
       "        vertical-align: top;\n",
       "    }\n",
       "\n",
       "    .dataframe thead th {\n",
       "        text-align: right;\n",
       "    }\n",
       "</style>\n",
       "<table border=\"1\" class=\"dataframe\">\n",
       "  <thead>\n",
       "    <tr style=\"text-align: right;\">\n",
       "      <th></th>\n",
       "      <th>CM</th>\n",
       "      <th>ARR</th>\n",
       "      <th>CHD</th>\n",
       "      <th>VD</th>\n",
       "      <th>IHD</th>\n",
       "      <th>CCS</th>\n",
       "      <th>VOO</th>\n",
       "      <th>OHD</th>\n",
       "    </tr>\n",
       "    <tr>\n",
       "      <th>protein</th>\n",
       "      <th></th>\n",
       "      <th></th>\n",
       "      <th></th>\n",
       "      <th></th>\n",
       "      <th></th>\n",
       "      <th></th>\n",
       "      <th></th>\n",
       "      <th></th>\n",
       "    </tr>\n",
       "  </thead>\n",
       "  <tbody>\n",
       "    <tr>\n",
       "      <th>P05556</th>\n",
       "      <td>0.018217</td>\n",
       "      <td>0.007162</td>\n",
       "      <td>0.008317</td>\n",
       "      <td>0.000000</td>\n",
       "      <td>0.035930</td>\n",
       "      <td>0.008059</td>\n",
       "      <td>0.0000</td>\n",
       "      <td>0.023034</td>\n",
       "    </tr>\n",
       "    <tr>\n",
       "      <th>O94759</th>\n",
       "      <td>0.025501</td>\n",
       "      <td>0.021015</td>\n",
       "      <td>0.000000</td>\n",
       "      <td>0.000000</td>\n",
       "      <td>0.024629</td>\n",
       "      <td>0.000000</td>\n",
       "      <td>0.0000</td>\n",
       "      <td>0.021674</td>\n",
       "    </tr>\n",
       "    <tr>\n",
       "      <th>Q14957</th>\n",
       "      <td>0.000000</td>\n",
       "      <td>0.000000</td>\n",
       "      <td>0.000000</td>\n",
       "      <td>0.000000</td>\n",
       "      <td>0.000000</td>\n",
       "      <td>0.000000</td>\n",
       "      <td>0.0000</td>\n",
       "      <td>0.007557</td>\n",
       "    </tr>\n",
       "    <tr>\n",
       "      <th>P14416</th>\n",
       "      <td>0.032675</td>\n",
       "      <td>0.036637</td>\n",
       "      <td>0.008104</td>\n",
       "      <td>0.000000</td>\n",
       "      <td>0.020849</td>\n",
       "      <td>0.029931</td>\n",
       "      <td>0.0000</td>\n",
       "      <td>0.020861</td>\n",
       "    </tr>\n",
       "    <tr>\n",
       "      <th>Q5R352</th>\n",
       "      <td>0.145437</td>\n",
       "      <td>0.070132</td>\n",
       "      <td>0.012846</td>\n",
       "      <td>0.038515</td>\n",
       "      <td>0.081818</td>\n",
       "      <td>0.029315</td>\n",
       "      <td>0.0375</td>\n",
       "      <td>0.146208</td>\n",
       "    </tr>\n",
       "  </tbody>\n",
       "</table>\n",
       "</div>"
      ],
      "text/plain": [
       "               CM       ARR       CHD        VD       IHD       CCS     VOO  \\\n",
       "protein                                                                       \n",
       "P05556   0.018217  0.007162  0.008317  0.000000  0.035930  0.008059  0.0000   \n",
       "O94759   0.025501  0.021015  0.000000  0.000000  0.024629  0.000000  0.0000   \n",
       "Q14957   0.000000  0.000000  0.000000  0.000000  0.000000  0.000000  0.0000   \n",
       "P14416   0.032675  0.036637  0.008104  0.000000  0.020849  0.029931  0.0000   \n",
       "Q5R352   0.145437  0.070132  0.012846  0.038515  0.081818  0.029315  0.0375   \n",
       "\n",
       "              OHD  \n",
       "protein            \n",
       "P05556   0.023034  \n",
       "O94759   0.021674  \n",
       "Q14957   0.007557  \n",
       "P14416   0.020861  \n",
       "Q5R352   0.146208  "
      ]
     },
     "execution_count": 24,
     "metadata": {},
     "output_type": "execute_result"
    }
   ],
   "source": [
    "data_cvd = pd.read_csv(\"../../caseolap-cvd/result/caseolap.csv\")\n",
    "data_cvd = data_cvd.set_index(\"protein\")\n",
    "data_cvd.head()"
   ]
  },
  {
   "cell_type": "code",
   "execution_count": 25,
   "metadata": {},
   "outputs": [
    {
     "data": {
      "text/html": [
       "<div>\n",
       "<style scoped>\n",
       "    .dataframe tbody tr th:only-of-type {\n",
       "        vertical-align: middle;\n",
       "    }\n",
       "\n",
       "    .dataframe tbody tr th {\n",
       "        vertical-align: top;\n",
       "    }\n",
       "\n",
       "    .dataframe thead th {\n",
       "        text-align: right;\n",
       "    }\n",
       "</style>\n",
       "<table border=\"1\" class=\"dataframe\">\n",
       "  <thead>\n",
       "    <tr style=\"text-align: right;\">\n",
       "      <th></th>\n",
       "      <th>IOS</th>\n",
       "      <th>ROS</th>\n",
       "      <th>OOS</th>\n",
       "    </tr>\n",
       "    <tr>\n",
       "      <th>protein</th>\n",
       "      <th></th>\n",
       "      <th></th>\n",
       "      <th></th>\n",
       "    </tr>\n",
       "  </thead>\n",
       "  <tbody>\n",
       "    <tr>\n",
       "      <th>Q5VVH1</th>\n",
       "      <td>0.000000</td>\n",
       "      <td>0.031676</td>\n",
       "      <td>0.000000</td>\n",
       "    </tr>\n",
       "    <tr>\n",
       "      <th>Q5S007</th>\n",
       "      <td>0.000000</td>\n",
       "      <td>0.027231</td>\n",
       "      <td>0.000000</td>\n",
       "    </tr>\n",
       "    <tr>\n",
       "      <th>P17252</th>\n",
       "      <td>0.180848</td>\n",
       "      <td>0.326200</td>\n",
       "      <td>0.038242</td>\n",
       "    </tr>\n",
       "    <tr>\n",
       "      <th>Q13023</th>\n",
       "      <td>0.000000</td>\n",
       "      <td>0.172168</td>\n",
       "      <td>0.000000</td>\n",
       "    </tr>\n",
       "    <tr>\n",
       "      <th>O75052</th>\n",
       "      <td>0.000000</td>\n",
       "      <td>0.075413</td>\n",
       "      <td>0.000000</td>\n",
       "    </tr>\n",
       "  </tbody>\n",
       "</table>\n",
       "</div>"
      ],
      "text/plain": [
       "              IOS       ROS       OOS\n",
       "protein                              \n",
       "Q5VVH1   0.000000  0.031676  0.000000\n",
       "Q5S007   0.000000  0.027231  0.000000\n",
       "P17252   0.180848  0.326200  0.038242\n",
       "Q13023   0.000000  0.172168  0.000000\n",
       "O75052   0.000000  0.075413  0.000000"
      ]
     },
     "execution_count": 25,
     "metadata": {},
     "output_type": "execute_result"
    }
   ],
   "source": [
    "data_os = pd.read_csv(\"../../caseolap-os/result/caseolap.csv\")\n",
    "data_os = data_os.set_index(\"protein\")\n",
    "data_os.head()"
   ]
  },
  {
   "cell_type": "code",
   "execution_count": 11,
   "metadata": {},
   "outputs": [],
   "source": [
    "CVD = [\"CM\",\"ARR\",\"CHD\",\"VD\",\"IHD\",\"CCS\",\"VOO\",\"OHD\"]\n",
    "OS = [\"IOS\", \"ROS\",\"OOS\"]"
   ]
  },
  {
   "cell_type": "code",
   "execution_count": 28,
   "metadata": {},
   "outputs": [
    {
     "data": {
      "text/plain": [
       "0.018216646028645818"
      ]
     },
     "execution_count": 28,
     "metadata": {},
     "output_type": "execute_result"
    }
   ],
   "source": [
    "data_cvd.loc[\"P05556\"][\"CM\"]"
   ]
  },
  {
   "cell_type": "code",
   "execution_count": 31,
   "metadata": {},
   "outputs": [
    {
     "name": "stdout",
     "output_type": "stream",
     "text": [
      "IOS CM 65 9.999243459013247\n",
      "IOS ARR 55 8.401151329934844\n",
      "IOS CHD 37 5.42166371768585\n",
      "IOS VD 45 6.53287183268733\n",
      "IOS IHD 61 9.30628183584397\n",
      "IOS CCS 49 7.224206654182383\n",
      "IOS VOO 26 4.413471835679125\n",
      "IOS OHD 64 9.609320665873916\n",
      "ROS CM 94 22.738614161442342\n",
      "ROS ARR 73 19.11694707385757\n",
      "ROS CHD 43 13.20887002038874\n",
      "ROS VD 58 15.478819098017482\n",
      "ROS IHD 77 20.421802749260397\n",
      "ROS CCS 63 16.893568888223584\n",
      "ROS VOO 28 8.806732460488478\n",
      "ROS OHD 91 21.949738650501242\n",
      "OOS CM 44 6.334817312529893\n",
      "OOS ARR 36 4.981727403286238\n",
      "OOS CHD 25 3.623073772066045\n",
      "OOS VD 33 4.221772765247149\n",
      "OOS IHD 43 5.8860542939995595\n",
      "OOS CCS 33 4.208642246166234\n",
      "OOS VOO 23 3.166420710284887\n",
      "OOS OHD 45 5.948885547040305\n"
     ]
    }
   ],
   "source": [
    "DATA = []\n",
    "\n",
    "for os in OS:\n",
    "    data = {\"OS\":os}\n",
    "    \n",
    "    os_name = data_os.index\n",
    "    d_os = data_os[os]\n",
    "    \n",
    "    scored_name_os = []\n",
    "    for osname,os_score in zip(os_name,d_os):\n",
    "        if os_score > 0:\n",
    "            scored_name_os.append(osname)\n",
    "    \n",
    "    for cvd in CVD:\n",
    "        \n",
    "        total_score = 0\n",
    "        \n",
    "        d_cvd = data_cvd[cvd]\n",
    "        cvd_name = data_cvd.index\n",
    "        \n",
    "        \n",
    "        scored_name_cvd = []\n",
    "        for cvdname,cvd_score in zip(cvd_name,d_cvd):\n",
    "            if cvd_score > 0:\n",
    "                scored_name_cvd.append(cvdname)\n",
    "            \n",
    "                \n",
    "        ints = set(scored_name_os).intersection(set(scored_name_cvd))\n",
    "        \n",
    "        \n",
    "        for p in list(ints):\n",
    "            cvd_score = data_cvd.loc[p][cvd]\n",
    "            os_score = data_os.loc[p][os]\n",
    "            total_score += cvd_score+os_score\n",
    "            \n",
    "        \n",
    "        \n",
    "        data.update({cvd: total_score})\n",
    "        print(os,cvd,len(ints),total_score)\n",
    "        \n",
    "    DATA.append(data)"
   ]
  },
  {
   "cell_type": "code",
   "execution_count": 32,
   "metadata": {},
   "outputs": [
    {
     "data": {
      "text/html": [
       "<div>\n",
       "<style scoped>\n",
       "    .dataframe tbody tr th:only-of-type {\n",
       "        vertical-align: middle;\n",
       "    }\n",
       "\n",
       "    .dataframe tbody tr th {\n",
       "        vertical-align: top;\n",
       "    }\n",
       "\n",
       "    .dataframe thead th {\n",
       "        text-align: right;\n",
       "    }\n",
       "</style>\n",
       "<table border=\"1\" class=\"dataframe\">\n",
       "  <thead>\n",
       "    <tr style=\"text-align: right;\">\n",
       "      <th></th>\n",
       "      <th>OS</th>\n",
       "      <th>CM</th>\n",
       "      <th>ARR</th>\n",
       "      <th>CHD</th>\n",
       "      <th>VD</th>\n",
       "      <th>IHD</th>\n",
       "      <th>CCS</th>\n",
       "      <th>VOO</th>\n",
       "      <th>OHD</th>\n",
       "    </tr>\n",
       "  </thead>\n",
       "  <tbody>\n",
       "    <tr>\n",
       "      <th>0</th>\n",
       "      <td>IOS</td>\n",
       "      <td>9.999243</td>\n",
       "      <td>8.401151</td>\n",
       "      <td>5.421664</td>\n",
       "      <td>6.532872</td>\n",
       "      <td>9.306282</td>\n",
       "      <td>7.224207</td>\n",
       "      <td>4.413472</td>\n",
       "      <td>9.609321</td>\n",
       "    </tr>\n",
       "    <tr>\n",
       "      <th>1</th>\n",
       "      <td>ROS</td>\n",
       "      <td>22.738614</td>\n",
       "      <td>19.116947</td>\n",
       "      <td>13.208870</td>\n",
       "      <td>15.478819</td>\n",
       "      <td>20.421803</td>\n",
       "      <td>16.893569</td>\n",
       "      <td>8.806732</td>\n",
       "      <td>21.949739</td>\n",
       "    </tr>\n",
       "    <tr>\n",
       "      <th>2</th>\n",
       "      <td>OOS</td>\n",
       "      <td>6.334817</td>\n",
       "      <td>4.981727</td>\n",
       "      <td>3.623074</td>\n",
       "      <td>4.221773</td>\n",
       "      <td>5.886054</td>\n",
       "      <td>4.208642</td>\n",
       "      <td>3.166421</td>\n",
       "      <td>5.948886</td>\n",
       "    </tr>\n",
       "  </tbody>\n",
       "</table>\n",
       "</div>"
      ],
      "text/plain": [
       "    OS         CM        ARR        CHD         VD        IHD        CCS  \\\n",
       "0  IOS   9.999243   8.401151   5.421664   6.532872   9.306282   7.224207   \n",
       "1  ROS  22.738614  19.116947  13.208870  15.478819  20.421803  16.893569   \n",
       "2  OOS   6.334817   4.981727   3.623074   4.221773   5.886054   4.208642   \n",
       "\n",
       "        VOO        OHD  \n",
       "0  4.413472   9.609321  \n",
       "1  8.806732  21.949739  \n",
       "2  3.166421   5.948886  "
      ]
     },
     "execution_count": 32,
     "metadata": {},
     "output_type": "execute_result"
    }
   ],
   "source": [
    "df2 = pd.DataFrame(DATA)\n",
    "df2"
   ]
  },
  {
   "cell_type": "code",
   "execution_count": 33,
   "metadata": {},
   "outputs": [],
   "source": [
    "df2.to_csv(\"cvd-os-ints-prot.csv\")"
   ]
  },
  {
   "cell_type": "markdown",
   "metadata": {},
   "source": [
    "### Merged Data"
   ]
  },
  {
   "cell_type": "markdown",
   "metadata": {},
   "source": [
    "**1. Import Ion-channel data prepared from implementation of Uniprot API**"
   ]
  },
  {
   "cell_type": "code",
   "execution_count": 116,
   "metadata": {},
   "outputs": [],
   "source": [
    "with open(\"../../UniprotAPI/proteins.json\",'r') as pf:\n",
    "    Proteins = json.load(pf)"
   ]
  },
  {
   "cell_type": "markdown",
   "metadata": {},
   "source": [
    "**2. Prepare a dictionary with Uniprot ``ID`` as key and value as a another dictionary with ``name`` (recomended name) and ``synonyms`` keys and value.**"
   ]
  },
  {
   "cell_type": "code",
   "execution_count": 117,
   "metadata": {},
   "outputs": [],
   "source": [
    "DATA = {}\n",
    "for item in Proteins:\n",
    "    ID = item['ID']\n",
    "    names = item['names']\n",
    "    DATA.update({ID:{\"name\":names[0],\"synonyms\": names}})"
   ]
  },
  {
   "cell_type": "markdown",
   "metadata": {},
   "source": [
    "**3. Update CVD scores **"
   ]
  },
  {
   "cell_type": "code",
   "execution_count": 118,
   "metadata": {},
   "outputs": [],
   "source": [
    "CVD = [\"CM\",\"ARR\",\"CHD\",\"VD\",\"IHD\",\"CCS\",\"VOO\",\"OHD\"]\n",
    "OS = [\"IOS\", \"ROS\",\"OOS\"]"
   ]
  },
  {
   "cell_type": "markdown",
   "metadata": {},
   "source": [
    "- 3.1: Set 0.0 score by defult"
   ]
  },
  {
   "cell_type": "code",
   "execution_count": 119,
   "metadata": {},
   "outputs": [],
   "source": [
    "for key,value in DATA.items():\n",
    "    for cvd in CVD:\n",
    "        DATA[key].update({cvd:0.0})\n",
    "    for os in OS:\n",
    "        DATA[key].update({os:0.0})"
   ]
  },
  {
   "cell_type": "markdown",
   "metadata": {},
   "source": [
    "- 3.2 Update CVD data"
   ]
  },
  {
   "cell_type": "code",
   "execution_count": 120,
   "metadata": {},
   "outputs": [
    {
     "data": {
      "text/html": [
       "<div>\n",
       "<style scoped>\n",
       "    .dataframe tbody tr th:only-of-type {\n",
       "        vertical-align: middle;\n",
       "    }\n",
       "\n",
       "    .dataframe tbody tr th {\n",
       "        vertical-align: top;\n",
       "    }\n",
       "\n",
       "    .dataframe thead th {\n",
       "        text-align: right;\n",
       "    }\n",
       "</style>\n",
       "<table border=\"1\" class=\"dataframe\">\n",
       "  <thead>\n",
       "    <tr style=\"text-align: right;\">\n",
       "      <th></th>\n",
       "      <th>protein</th>\n",
       "      <th>CM</th>\n",
       "      <th>ARR</th>\n",
       "      <th>CHD</th>\n",
       "      <th>VD</th>\n",
       "      <th>IHD</th>\n",
       "      <th>CCS</th>\n",
       "      <th>VOO</th>\n",
       "      <th>OHD</th>\n",
       "    </tr>\n",
       "  </thead>\n",
       "  <tbody>\n",
       "    <tr>\n",
       "      <th>0</th>\n",
       "      <td>Q9UKS6</td>\n",
       "      <td>0.000000</td>\n",
       "      <td>0.000000</td>\n",
       "      <td>0.000000</td>\n",
       "      <td>0.000000</td>\n",
       "      <td>0.011396</td>\n",
       "      <td>0.000000</td>\n",
       "      <td>0.000000</td>\n",
       "      <td>0.000000</td>\n",
       "    </tr>\n",
       "    <tr>\n",
       "      <th>1</th>\n",
       "      <td>P17612</td>\n",
       "      <td>0.020392</td>\n",
       "      <td>0.007317</td>\n",
       "      <td>0.008494</td>\n",
       "      <td>0.008650</td>\n",
       "      <td>0.016795</td>\n",
       "      <td>0.008234</td>\n",
       "      <td>0.000000</td>\n",
       "      <td>0.015174</td>\n",
       "    </tr>\n",
       "    <tr>\n",
       "      <th>2</th>\n",
       "      <td>P0DP23</td>\n",
       "      <td>0.033334</td>\n",
       "      <td>0.114456</td>\n",
       "      <td>0.015841</td>\n",
       "      <td>0.014470</td>\n",
       "      <td>0.027834</td>\n",
       "      <td>0.086746</td>\n",
       "      <td>0.007252</td>\n",
       "      <td>0.032223</td>\n",
       "    </tr>\n",
       "    <tr>\n",
       "      <th>3</th>\n",
       "      <td>Q6TME0</td>\n",
       "      <td>0.016664</td>\n",
       "      <td>0.000000</td>\n",
       "      <td>0.000000</td>\n",
       "      <td>0.017726</td>\n",
       "      <td>0.000000</td>\n",
       "      <td>0.000000</td>\n",
       "      <td>0.000000</td>\n",
       "      <td>0.007519</td>\n",
       "    </tr>\n",
       "    <tr>\n",
       "      <th>4</th>\n",
       "      <td>Q96D31</td>\n",
       "      <td>0.000000</td>\n",
       "      <td>0.007391</td>\n",
       "      <td>0.000000</td>\n",
       "      <td>0.000000</td>\n",
       "      <td>0.000000</td>\n",
       "      <td>0.000000</td>\n",
       "      <td>0.000000</td>\n",
       "      <td>0.007553</td>\n",
       "    </tr>\n",
       "  </tbody>\n",
       "</table>\n",
       "</div>"
      ],
      "text/plain": [
       "  protein        CM       ARR       CHD        VD       IHD       CCS  \\\n",
       "0  Q9UKS6  0.000000  0.000000  0.000000  0.000000  0.011396  0.000000   \n",
       "1  P17612  0.020392  0.007317  0.008494  0.008650  0.016795  0.008234   \n",
       "2  P0DP23  0.033334  0.114456  0.015841  0.014470  0.027834  0.086746   \n",
       "3  Q6TME0  0.016664  0.000000  0.000000  0.017726  0.000000  0.000000   \n",
       "4  Q96D31  0.000000  0.007391  0.000000  0.000000  0.000000  0.000000   \n",
       "\n",
       "        VOO       OHD  \n",
       "0  0.000000  0.000000  \n",
       "1  0.000000  0.015174  \n",
       "2  0.007252  0.032223  \n",
       "3  0.000000  0.007519  \n",
       "4  0.000000  0.007553  "
      ]
     },
     "execution_count": 120,
     "metadata": {},
     "output_type": "execute_result"
    }
   ],
   "source": [
    "\"\"\"Load CVD data\"\"\"\n",
    "data_cvd = pd.read_csv(\"../../caseolap-cvd/result/caseolap.csv\")\n",
    "data_cvd.head()"
   ]
  },
  {
   "cell_type": "markdown",
   "metadata": {},
   "source": [
    "- 3.3  set protein as index"
   ]
  },
  {
   "cell_type": "code",
   "execution_count": 121,
   "metadata": {},
   "outputs": [
    {
     "data": {
      "text/html": [
       "<div>\n",
       "<style scoped>\n",
       "    .dataframe tbody tr th:only-of-type {\n",
       "        vertical-align: middle;\n",
       "    }\n",
       "\n",
       "    .dataframe tbody tr th {\n",
       "        vertical-align: top;\n",
       "    }\n",
       "\n",
       "    .dataframe thead th {\n",
       "        text-align: right;\n",
       "    }\n",
       "</style>\n",
       "<table border=\"1\" class=\"dataframe\">\n",
       "  <thead>\n",
       "    <tr style=\"text-align: right;\">\n",
       "      <th></th>\n",
       "      <th>CM</th>\n",
       "      <th>ARR</th>\n",
       "      <th>CHD</th>\n",
       "      <th>VD</th>\n",
       "      <th>IHD</th>\n",
       "      <th>CCS</th>\n",
       "      <th>VOO</th>\n",
       "      <th>OHD</th>\n",
       "    </tr>\n",
       "    <tr>\n",
       "      <th>protein</th>\n",
       "      <th></th>\n",
       "      <th></th>\n",
       "      <th></th>\n",
       "      <th></th>\n",
       "      <th></th>\n",
       "      <th></th>\n",
       "      <th></th>\n",
       "      <th></th>\n",
       "    </tr>\n",
       "  </thead>\n",
       "  <tbody>\n",
       "    <tr>\n",
       "      <th>Q9UKS6</th>\n",
       "      <td>0.000000</td>\n",
       "      <td>0.000000</td>\n",
       "      <td>0.000000</td>\n",
       "      <td>0.000000</td>\n",
       "      <td>0.011396</td>\n",
       "      <td>0.000000</td>\n",
       "      <td>0.000000</td>\n",
       "      <td>0.000000</td>\n",
       "    </tr>\n",
       "    <tr>\n",
       "      <th>P17612</th>\n",
       "      <td>0.020392</td>\n",
       "      <td>0.007317</td>\n",
       "      <td>0.008494</td>\n",
       "      <td>0.008650</td>\n",
       "      <td>0.016795</td>\n",
       "      <td>0.008234</td>\n",
       "      <td>0.000000</td>\n",
       "      <td>0.015174</td>\n",
       "    </tr>\n",
       "    <tr>\n",
       "      <th>P0DP23</th>\n",
       "      <td>0.033334</td>\n",
       "      <td>0.114456</td>\n",
       "      <td>0.015841</td>\n",
       "      <td>0.014470</td>\n",
       "      <td>0.027834</td>\n",
       "      <td>0.086746</td>\n",
       "      <td>0.007252</td>\n",
       "      <td>0.032223</td>\n",
       "    </tr>\n",
       "    <tr>\n",
       "      <th>Q6TME0</th>\n",
       "      <td>0.016664</td>\n",
       "      <td>0.000000</td>\n",
       "      <td>0.000000</td>\n",
       "      <td>0.017726</td>\n",
       "      <td>0.000000</td>\n",
       "      <td>0.000000</td>\n",
       "      <td>0.000000</td>\n",
       "      <td>0.007519</td>\n",
       "    </tr>\n",
       "    <tr>\n",
       "      <th>Q96D31</th>\n",
       "      <td>0.000000</td>\n",
       "      <td>0.007391</td>\n",
       "      <td>0.000000</td>\n",
       "      <td>0.000000</td>\n",
       "      <td>0.000000</td>\n",
       "      <td>0.000000</td>\n",
       "      <td>0.000000</td>\n",
       "      <td>0.007553</td>\n",
       "    </tr>\n",
       "  </tbody>\n",
       "</table>\n",
       "</div>"
      ],
      "text/plain": [
       "               CM       ARR       CHD        VD       IHD       CCS       VOO  \\\n",
       "protein                                                                         \n",
       "Q9UKS6   0.000000  0.000000  0.000000  0.000000  0.011396  0.000000  0.000000   \n",
       "P17612   0.020392  0.007317  0.008494  0.008650  0.016795  0.008234  0.000000   \n",
       "P0DP23   0.033334  0.114456  0.015841  0.014470  0.027834  0.086746  0.007252   \n",
       "Q6TME0   0.016664  0.000000  0.000000  0.017726  0.000000  0.000000  0.000000   \n",
       "Q96D31   0.000000  0.007391  0.000000  0.000000  0.000000  0.000000  0.000000   \n",
       "\n",
       "              OHD  \n",
       "protein            \n",
       "Q9UKS6   0.000000  \n",
       "P17612   0.015174  \n",
       "P0DP23   0.032223  \n",
       "Q6TME0   0.007519  \n",
       "Q96D31   0.007553  "
      ]
     },
     "execution_count": 121,
     "metadata": {},
     "output_type": "execute_result"
    }
   ],
   "source": [
    "data_cvd = data_cvd.set_index(\"protein\")\n",
    "data_cvd.head()"
   ]
  },
  {
   "cell_type": "markdown",
   "metadata": {},
   "source": [
    "- 3.4 Reading a specific row data"
   ]
  },
  {
   "cell_type": "code",
   "execution_count": 122,
   "metadata": {},
   "outputs": [
    {
     "data": {
      "text/plain": [
       "(0.020392203093457788, 0.007317158357731486)"
      ]
     },
     "execution_count": 122,
     "metadata": {},
     "output_type": "execute_result"
    }
   ],
   "source": [
    "idata = data_cvd.loc['P17612',:]\n",
    "idata[\"CM\"],idata[\"ARR\"]"
   ]
  },
  {
   "cell_type": "markdown",
   "metadata": {},
   "source": [
    "- 3.5 Update CVD data in DATA dictionary"
   ]
  },
  {
   "cell_type": "code",
   "execution_count": 123,
   "metadata": {},
   "outputs": [],
   "source": [
    "unscored = []\n",
    "for key,value in DATA.items():\n",
    "    try:\n",
    "        idata = data_cvd.loc[key,:]\n",
    "    except:\n",
    "        unscored.append(key)\n",
    "        \n",
    "    for cvd in CVD:\n",
    "        DATA[key].update({cvd:idata[cvd]})   "
   ]
  },
  {
   "cell_type": "markdown",
   "metadata": {},
   "source": [
    "**4. Update OS data **"
   ]
  },
  {
   "cell_type": "markdown",
   "metadata": {},
   "source": [
    "- 4.1 load os data"
   ]
  },
  {
   "cell_type": "code",
   "execution_count": 124,
   "metadata": {},
   "outputs": [
    {
     "data": {
      "text/html": [
       "<div>\n",
       "<style scoped>\n",
       "    .dataframe tbody tr th:only-of-type {\n",
       "        vertical-align: middle;\n",
       "    }\n",
       "\n",
       "    .dataframe tbody tr th {\n",
       "        vertical-align: top;\n",
       "    }\n",
       "\n",
       "    .dataframe thead th {\n",
       "        text-align: right;\n",
       "    }\n",
       "</style>\n",
       "<table border=\"1\" class=\"dataframe\">\n",
       "  <thead>\n",
       "    <tr style=\"text-align: right;\">\n",
       "      <th></th>\n",
       "      <th>protein</th>\n",
       "      <th>IOS</th>\n",
       "      <th>ROS</th>\n",
       "      <th>OOS</th>\n",
       "    </tr>\n",
       "  </thead>\n",
       "  <tbody>\n",
       "    <tr>\n",
       "      <th>0</th>\n",
       "      <td>Q12797</td>\n",
       "      <td>0.000000</td>\n",
       "      <td>0.056648</td>\n",
       "      <td>0.0</td>\n",
       "    </tr>\n",
       "    <tr>\n",
       "      <th>1</th>\n",
       "      <td>Q08499</td>\n",
       "      <td>0.000000</td>\n",
       "      <td>0.035435</td>\n",
       "      <td>0.0</td>\n",
       "    </tr>\n",
       "    <tr>\n",
       "      <th>2</th>\n",
       "      <td>P56539</td>\n",
       "      <td>0.120955</td>\n",
       "      <td>0.293942</td>\n",
       "      <td>0.0</td>\n",
       "    </tr>\n",
       "    <tr>\n",
       "      <th>3</th>\n",
       "      <td>P05556</td>\n",
       "      <td>0.034114</td>\n",
       "      <td>0.222639</td>\n",
       "      <td>0.0</td>\n",
       "    </tr>\n",
       "    <tr>\n",
       "      <th>4</th>\n",
       "      <td>Q14571</td>\n",
       "      <td>0.015186</td>\n",
       "      <td>0.114933</td>\n",
       "      <td>0.0</td>\n",
       "    </tr>\n",
       "  </tbody>\n",
       "</table>\n",
       "</div>"
      ],
      "text/plain": [
       "  protein       IOS       ROS  OOS\n",
       "0  Q12797  0.000000  0.056648  0.0\n",
       "1  Q08499  0.000000  0.035435  0.0\n",
       "2  P56539  0.120955  0.293942  0.0\n",
       "3  P05556  0.034114  0.222639  0.0\n",
       "4  Q14571  0.015186  0.114933  0.0"
      ]
     },
     "execution_count": 124,
     "metadata": {},
     "output_type": "execute_result"
    }
   ],
   "source": [
    "data_os = pd.read_csv(\"../../caseolap-os/result/caseolap.csv\")\n",
    "data_os.head()"
   ]
  },
  {
   "cell_type": "markdown",
   "metadata": {},
   "source": [
    "- 4.2 set protein as index"
   ]
  },
  {
   "cell_type": "code",
   "execution_count": 125,
   "metadata": {},
   "outputs": [
    {
     "data": {
      "text/html": [
       "<div>\n",
       "<style scoped>\n",
       "    .dataframe tbody tr th:only-of-type {\n",
       "        vertical-align: middle;\n",
       "    }\n",
       "\n",
       "    .dataframe tbody tr th {\n",
       "        vertical-align: top;\n",
       "    }\n",
       "\n",
       "    .dataframe thead th {\n",
       "        text-align: right;\n",
       "    }\n",
       "</style>\n",
       "<table border=\"1\" class=\"dataframe\">\n",
       "  <thead>\n",
       "    <tr style=\"text-align: right;\">\n",
       "      <th></th>\n",
       "      <th>IOS</th>\n",
       "      <th>ROS</th>\n",
       "      <th>OOS</th>\n",
       "    </tr>\n",
       "    <tr>\n",
       "      <th>protein</th>\n",
       "      <th></th>\n",
       "      <th></th>\n",
       "      <th></th>\n",
       "    </tr>\n",
       "  </thead>\n",
       "  <tbody>\n",
       "    <tr>\n",
       "      <th>Q12797</th>\n",
       "      <td>0.000000</td>\n",
       "      <td>0.056648</td>\n",
       "      <td>0.0</td>\n",
       "    </tr>\n",
       "    <tr>\n",
       "      <th>Q08499</th>\n",
       "      <td>0.000000</td>\n",
       "      <td>0.035435</td>\n",
       "      <td>0.0</td>\n",
       "    </tr>\n",
       "    <tr>\n",
       "      <th>P56539</th>\n",
       "      <td>0.120955</td>\n",
       "      <td>0.293942</td>\n",
       "      <td>0.0</td>\n",
       "    </tr>\n",
       "    <tr>\n",
       "      <th>P05556</th>\n",
       "      <td>0.034114</td>\n",
       "      <td>0.222639</td>\n",
       "      <td>0.0</td>\n",
       "    </tr>\n",
       "    <tr>\n",
       "      <th>Q14571</th>\n",
       "      <td>0.015186</td>\n",
       "      <td>0.114933</td>\n",
       "      <td>0.0</td>\n",
       "    </tr>\n",
       "  </tbody>\n",
       "</table>\n",
       "</div>"
      ],
      "text/plain": [
       "              IOS       ROS  OOS\n",
       "protein                         \n",
       "Q12797   0.000000  0.056648  0.0\n",
       "Q08499   0.000000  0.035435  0.0\n",
       "P56539   0.120955  0.293942  0.0\n",
       "P05556   0.034114  0.222639  0.0\n",
       "Q14571   0.015186  0.114933  0.0"
      ]
     },
     "execution_count": 125,
     "metadata": {},
     "output_type": "execute_result"
    }
   ],
   "source": [
    "data_os = data_os.set_index(\"protein\")\n",
    "data_os.head()"
   ]
  },
  {
   "cell_type": "markdown",
   "metadata": {},
   "source": [
    "- Update OS data in DATA dictionary"
   ]
  },
  {
   "cell_type": "code",
   "execution_count": 126,
   "metadata": {},
   "outputs": [],
   "source": [
    "unscored = []\n",
    "for key,value in DATA.items():\n",
    "    try:\n",
    "        idata = data_os.loc[key,:]\n",
    "    except:\n",
    "        unscored.append(key)\n",
    "        \n",
    "    for os in OS:\n",
    "        DATA[key].update({os:idata[os]})   "
   ]
  },
  {
   "cell_type": "code",
   "execution_count": 127,
   "metadata": {},
   "outputs": [],
   "source": [
    "#DATA"
   ]
  },
  {
   "cell_type": "markdown",
   "metadata": {},
   "source": [
    "-  Save the data"
   ]
  },
  {
   "cell_type": "code",
   "execution_count": 128,
   "metadata": {},
   "outputs": [],
   "source": [
    "with open(\"merged_protein_data.json\",\"w\") as fpp:\n",
    "    json.dump(DATA,fpp)"
   ]
  },
  {
   "cell_type": "code",
   "execution_count": 131,
   "metadata": {},
   "outputs": [
    {
     "data": {
      "text/html": [
       "<div>\n",
       "<style scoped>\n",
       "    .dataframe tbody tr th:only-of-type {\n",
       "        vertical-align: middle;\n",
       "    }\n",
       "\n",
       "    .dataframe tbody tr th {\n",
       "        vertical-align: top;\n",
       "    }\n",
       "\n",
       "    .dataframe thead th {\n",
       "        text-align: right;\n",
       "    }\n",
       "</style>\n",
       "<table border=\"1\" class=\"dataframe\">\n",
       "  <thead>\n",
       "    <tr style=\"text-align: right;\">\n",
       "      <th></th>\n",
       "      <th>name</th>\n",
       "      <th>synonyms</th>\n",
       "      <th>CM</th>\n",
       "      <th>ARR</th>\n",
       "      <th>CHD</th>\n",
       "      <th>VD</th>\n",
       "      <th>IHD</th>\n",
       "      <th>CCS</th>\n",
       "      <th>VOO</th>\n",
       "      <th>OHD</th>\n",
       "      <th>IOS</th>\n",
       "      <th>ROS</th>\n",
       "      <th>OOS</th>\n",
       "    </tr>\n",
       "    <tr>\n",
       "      <th>ID</th>\n",
       "      <th></th>\n",
       "      <th></th>\n",
       "      <th></th>\n",
       "      <th></th>\n",
       "      <th></th>\n",
       "      <th></th>\n",
       "      <th></th>\n",
       "      <th></th>\n",
       "      <th></th>\n",
       "      <th></th>\n",
       "      <th></th>\n",
       "      <th></th>\n",
       "      <th></th>\n",
       "    </tr>\n",
       "  </thead>\n",
       "  <tbody>\n",
       "    <tr>\n",
       "      <th>P17302</th>\n",
       "      <td>Gap junction alpha-1 protein</td>\n",
       "      <td>[Gap junction alpha-1 protein, Connexin-43, Cx...</td>\n",
       "      <td>0.108147</td>\n",
       "      <td>0.154496</td>\n",
       "      <td>0.089738</td>\n",
       "      <td>0.034155</td>\n",
       "      <td>0.100026</td>\n",
       "      <td>0.098568</td>\n",
       "      <td>0.04216</td>\n",
       "      <td>0.103816</td>\n",
       "      <td>0.179578</td>\n",
       "      <td>0.349316</td>\n",
       "      <td>0.165879</td>\n",
       "    </tr>\n",
       "    <tr>\n",
       "      <th>Q13936</th>\n",
       "      <td>Voltage-dependent L-type calcium channel subun...</td>\n",
       "      <td>[Voltage-dependent L-type calcium channel subu...</td>\n",
       "      <td>0.011261</td>\n",
       "      <td>0.011770</td>\n",
       "      <td>0.000000</td>\n",
       "      <td>0.008714</td>\n",
       "      <td>0.000000</td>\n",
       "      <td>0.008294</td>\n",
       "      <td>0.00000</td>\n",
       "      <td>0.007532</td>\n",
       "      <td>0.000000</td>\n",
       "      <td>0.031717</td>\n",
       "      <td>0.000000</td>\n",
       "    </tr>\n",
       "    <tr>\n",
       "      <th>O95180</th>\n",
       "      <td>Voltage-dependent T-type calcium channel subun...</td>\n",
       "      <td>[Voltage-dependent T-type calcium channel subu...</td>\n",
       "      <td>0.011261</td>\n",
       "      <td>0.011770</td>\n",
       "      <td>0.000000</td>\n",
       "      <td>0.008714</td>\n",
       "      <td>0.000000</td>\n",
       "      <td>0.008294</td>\n",
       "      <td>0.00000</td>\n",
       "      <td>0.007532</td>\n",
       "      <td>0.000000</td>\n",
       "      <td>0.031717</td>\n",
       "      <td>0.000000</td>\n",
       "    </tr>\n",
       "    <tr>\n",
       "      <th>Q9NS61</th>\n",
       "      <td>Kv channel-interacting protein 2</td>\n",
       "      <td>[Kv channel-interacting protein 2, KChIP2, A-t...</td>\n",
       "      <td>0.077975</td>\n",
       "      <td>0.123411</td>\n",
       "      <td>0.018526</td>\n",
       "      <td>0.023734</td>\n",
       "      <td>0.035045</td>\n",
       "      <td>0.058555</td>\n",
       "      <td>0.03109</td>\n",
       "      <td>0.068609</td>\n",
       "      <td>0.036451</td>\n",
       "      <td>0.278596</td>\n",
       "      <td>0.000000</td>\n",
       "    </tr>\n",
       "    <tr>\n",
       "      <th>Q8TD43</th>\n",
       "      <td>Transient receptor potential cation channel su...</td>\n",
       "      <td>[Transient receptor potential cation channel s...</td>\n",
       "      <td>0.018094</td>\n",
       "      <td>0.030867</td>\n",
       "      <td>0.000000</td>\n",
       "      <td>0.000000</td>\n",
       "      <td>0.018353</td>\n",
       "      <td>0.031019</td>\n",
       "      <td>0.00000</td>\n",
       "      <td>0.017291</td>\n",
       "      <td>0.030212</td>\n",
       "      <td>0.117727</td>\n",
       "      <td>0.000000</td>\n",
       "    </tr>\n",
       "  </tbody>\n",
       "</table>\n",
       "</div>"
      ],
      "text/plain": [
       "                                                     name  \\\n",
       "ID                                                          \n",
       "P17302                       Gap junction alpha-1 protein   \n",
       "Q13936  Voltage-dependent L-type calcium channel subun...   \n",
       "O95180  Voltage-dependent T-type calcium channel subun...   \n",
       "Q9NS61                   Kv channel-interacting protein 2   \n",
       "Q8TD43  Transient receptor potential cation channel su...   \n",
       "\n",
       "                                                 synonyms        CM       ARR  \\\n",
       "ID                                                                              \n",
       "P17302  [Gap junction alpha-1 protein, Connexin-43, Cx...  0.108147  0.154496   \n",
       "Q13936  [Voltage-dependent L-type calcium channel subu...  0.011261  0.011770   \n",
       "O95180  [Voltage-dependent T-type calcium channel subu...  0.011261  0.011770   \n",
       "Q9NS61  [Kv channel-interacting protein 2, KChIP2, A-t...  0.077975  0.123411   \n",
       "Q8TD43  [Transient receptor potential cation channel s...  0.018094  0.030867   \n",
       "\n",
       "             CHD        VD       IHD       CCS      VOO       OHD       IOS  \\\n",
       "ID                                                                            \n",
       "P17302  0.089738  0.034155  0.100026  0.098568  0.04216  0.103816  0.179578   \n",
       "Q13936  0.000000  0.008714  0.000000  0.008294  0.00000  0.007532  0.000000   \n",
       "O95180  0.000000  0.008714  0.000000  0.008294  0.00000  0.007532  0.000000   \n",
       "Q9NS61  0.018526  0.023734  0.035045  0.058555  0.03109  0.068609  0.036451   \n",
       "Q8TD43  0.000000  0.000000  0.018353  0.031019  0.00000  0.017291  0.030212   \n",
       "\n",
       "             ROS       OOS  \n",
       "ID                          \n",
       "P17302  0.349316  0.165879  \n",
       "Q13936  0.031717  0.000000  \n",
       "O95180  0.031717  0.000000  \n",
       "Q9NS61  0.278596  0.000000  \n",
       "Q8TD43  0.117727  0.000000  "
      ]
     },
     "execution_count": 131,
     "metadata": {},
     "output_type": "execute_result"
    }
   ],
   "source": [
    "DATAFRAME = []\n",
    "\n",
    "for key,value in DATA.items():\n",
    "    data = {}\n",
    "    data.update({\"ID\": key})\n",
    "    data.update(value)\n",
    "    DATAFRAME.append(data)\n",
    "\n",
    "df = pd.DataFrame(DATAFRAME)\n",
    "df = df.set_index(\"ID\")\n",
    "df.head()"
   ]
  },
  {
   "cell_type": "code",
   "execution_count": 132,
   "metadata": {},
   "outputs": [],
   "source": [
    "df.to_csv(\"merged-proteins.csv\")"
   ]
  },
  {
   "cell_type": "code",
   "execution_count": null,
   "metadata": {},
   "outputs": [],
   "source": []
  },
  {
   "cell_type": "code",
   "execution_count": null,
   "metadata": {},
   "outputs": [],
   "source": []
  }
 ],
 "metadata": {
  "kernelspec": {
   "display_name": "Python 3",
   "language": "python",
   "name": "python3"
  },
  "language_info": {
   "codemirror_mode": {
    "name": "ipython",
    "version": 3
   },
   "file_extension": ".py",
   "mimetype": "text/x-python",
   "name": "python",
   "nbconvert_exporter": "python",
   "pygments_lexer": "ipython3",
   "version": "3.6.6"
  }
 },
 "nbformat": 4,
 "nbformat_minor": 2
}
